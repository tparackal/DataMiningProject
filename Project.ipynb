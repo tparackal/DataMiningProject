{
 "cells": [
  {
   "cell_type": "code",
   "execution_count": 1,
   "metadata": {},
   "outputs": [],
   "source": [
    "import numpy as np\n",
    "import pandas as pd\n",
    "import matplotlib as mpl\n",
    "import matplotlib.pyplot as plt\n",
    "import seaborn as sns\n",
    "import scipy as scipy\n",
    "import statsmodels.api as sm\n",
    "%matplotlib inline"
   ]
  },
  {
   "cell_type": "code",
   "execution_count": 2,
   "metadata": {},
   "outputs": [
    {
     "data": {
      "text/html": [
       "<div>\n",
       "<style scoped>\n",
       "    .dataframe tbody tr th:only-of-type {\n",
       "        vertical-align: middle;\n",
       "    }\n",
       "\n",
       "    .dataframe tbody tr th {\n",
       "        vertical-align: top;\n",
       "    }\n",
       "\n",
       "    .dataframe thead th {\n",
       "        text-align: right;\n",
       "    }\n",
       "</style>\n",
       "<table border=\"1\" class=\"dataframe\">\n",
       "  <thead>\n",
       "    <tr style=\"text-align: right;\">\n",
       "      <th></th>\n",
       "      <th>Name</th>\n",
       "      <th>Type1</th>\n",
       "      <th>Type2</th>\n",
       "      <th>Total</th>\n",
       "      <th>HP</th>\n",
       "      <th>Attack</th>\n",
       "      <th>Defense</th>\n",
       "      <th>Sp.Attack</th>\n",
       "      <th>Sp.Defense</th>\n",
       "      <th>Speed</th>\n",
       "    </tr>\n",
       "  </thead>\n",
       "  <tbody>\n",
       "    <tr>\n",
       "      <th>0</th>\n",
       "      <td>Rattata</td>\n",
       "      <td>Normal</td>\n",
       "      <td>NaN</td>\n",
       "      <td>253</td>\n",
       "      <td>30</td>\n",
       "      <td>56</td>\n",
       "      <td>35</td>\n",
       "      <td>25</td>\n",
       "      <td>35</td>\n",
       "      <td>72</td>\n",
       "    </tr>\n",
       "    <tr>\n",
       "      <th>1</th>\n",
       "      <td>Sandshrew</td>\n",
       "      <td>Ground</td>\n",
       "      <td>NaN</td>\n",
       "      <td>300</td>\n",
       "      <td>50</td>\n",
       "      <td>75</td>\n",
       "      <td>85</td>\n",
       "      <td>20</td>\n",
       "      <td>30</td>\n",
       "      <td>40</td>\n",
       "    </tr>\n",
       "    <tr>\n",
       "      <th>2</th>\n",
       "      <td>Nidoqueen</td>\n",
       "      <td>Poison</td>\n",
       "      <td>Ground</td>\n",
       "      <td>505</td>\n",
       "      <td>90</td>\n",
       "      <td>92</td>\n",
       "      <td>87</td>\n",
       "      <td>75</td>\n",
       "      <td>85</td>\n",
       "      <td>76</td>\n",
       "    </tr>\n",
       "    <tr>\n",
       "      <th>3</th>\n",
       "      <td>Diglett</td>\n",
       "      <td>Ground</td>\n",
       "      <td>NaN</td>\n",
       "      <td>265</td>\n",
       "      <td>10</td>\n",
       "      <td>55</td>\n",
       "      <td>25</td>\n",
       "      <td>35</td>\n",
       "      <td>45</td>\n",
       "      <td>95</td>\n",
       "    </tr>\n",
       "    <tr>\n",
       "      <th>4</th>\n",
       "      <td>Arcanine</td>\n",
       "      <td>Fire</td>\n",
       "      <td>NaN</td>\n",
       "      <td>555</td>\n",
       "      <td>90</td>\n",
       "      <td>110</td>\n",
       "      <td>80</td>\n",
       "      <td>100</td>\n",
       "      <td>80</td>\n",
       "      <td>95</td>\n",
       "    </tr>\n",
       "  </tbody>\n",
       "</table>\n",
       "</div>"
      ],
      "text/plain": [
       "        Name   Type1   Type2  Total  HP  Attack  Defense  Sp.Attack  \\\n",
       "0    Rattata  Normal     NaN    253  30      56       35         25   \n",
       "1  Sandshrew  Ground     NaN    300  50      75       85         20   \n",
       "2  Nidoqueen  Poison  Ground    505  90      92       87         75   \n",
       "3    Diglett  Ground     NaN    265  10      55       25         35   \n",
       "4   Arcanine    Fire     NaN    555  90     110       80        100   \n",
       "\n",
       "   Sp.Defense  Speed  \n",
       "0          35     72  \n",
       "1          30     40  \n",
       "2          85     76  \n",
       "3          45     95  \n",
       "4          80     95  "
      ]
     },
     "execution_count": 2,
     "metadata": {},
     "output_type": "execute_result"
    }
   ],
   "source": [
    "# bring in data\n",
    "pokemon = pd.read_csv('pokemon.csv', names=['Name', 'Type1', 'Type2', 'Total', 'HP', 'Attack', 'Defense', 'Sp.Attack', 'Sp.Defense', 'Speed',])\n",
    "pokemon.head()"
   ]
  },
  {
   "cell_type": "code",
   "execution_count": 3,
   "metadata": {},
   "outputs": [
    {
     "data": {
      "text/html": [
       "<div>\n",
       "<style scoped>\n",
       "    .dataframe tbody tr th:only-of-type {\n",
       "        vertical-align: middle;\n",
       "    }\n",
       "\n",
       "    .dataframe tbody tr th {\n",
       "        vertical-align: top;\n",
       "    }\n",
       "\n",
       "    .dataframe thead th {\n",
       "        text-align: right;\n",
       "    }\n",
       "</style>\n",
       "<table border=\"1\" class=\"dataframe\">\n",
       "  <thead>\n",
       "    <tr style=\"text-align: right;\">\n",
       "      <th></th>\n",
       "      <th>Name</th>\n",
       "      <th>Type1</th>\n",
       "      <th>Type2</th>\n",
       "      <th>Total</th>\n",
       "      <th>HP</th>\n",
       "      <th>Attack</th>\n",
       "      <th>Defense</th>\n",
       "      <th>Sp.Attack</th>\n",
       "      <th>Sp.Defense</th>\n",
       "      <th>Speed</th>\n",
       "    </tr>\n",
       "  </thead>\n",
       "  <tbody>\n",
       "    <tr>\n",
       "      <th>0</th>\n",
       "      <td>Rattata</td>\n",
       "      <td>Normal</td>\n",
       "      <td>None</td>\n",
       "      <td>253</td>\n",
       "      <td>30</td>\n",
       "      <td>56</td>\n",
       "      <td>35</td>\n",
       "      <td>25</td>\n",
       "      <td>35</td>\n",
       "      <td>72</td>\n",
       "    </tr>\n",
       "    <tr>\n",
       "      <th>1</th>\n",
       "      <td>Sandshrew</td>\n",
       "      <td>Ground</td>\n",
       "      <td>None</td>\n",
       "      <td>300</td>\n",
       "      <td>50</td>\n",
       "      <td>75</td>\n",
       "      <td>85</td>\n",
       "      <td>20</td>\n",
       "      <td>30</td>\n",
       "      <td>40</td>\n",
       "    </tr>\n",
       "    <tr>\n",
       "      <th>2</th>\n",
       "      <td>Nidoqueen</td>\n",
       "      <td>Poison</td>\n",
       "      <td>Ground</td>\n",
       "      <td>505</td>\n",
       "      <td>90</td>\n",
       "      <td>92</td>\n",
       "      <td>87</td>\n",
       "      <td>75</td>\n",
       "      <td>85</td>\n",
       "      <td>76</td>\n",
       "    </tr>\n",
       "    <tr>\n",
       "      <th>3</th>\n",
       "      <td>Diglett</td>\n",
       "      <td>Ground</td>\n",
       "      <td>None</td>\n",
       "      <td>265</td>\n",
       "      <td>10</td>\n",
       "      <td>55</td>\n",
       "      <td>25</td>\n",
       "      <td>35</td>\n",
       "      <td>45</td>\n",
       "      <td>95</td>\n",
       "    </tr>\n",
       "    <tr>\n",
       "      <th>4</th>\n",
       "      <td>Arcanine</td>\n",
       "      <td>Fire</td>\n",
       "      <td>None</td>\n",
       "      <td>555</td>\n",
       "      <td>90</td>\n",
       "      <td>110</td>\n",
       "      <td>80</td>\n",
       "      <td>100</td>\n",
       "      <td>80</td>\n",
       "      <td>95</td>\n",
       "    </tr>\n",
       "  </tbody>\n",
       "</table>\n",
       "</div>"
      ],
      "text/plain": [
       "        Name   Type1   Type2  Total  HP  Attack  Defense  Sp.Attack  \\\n",
       "0    Rattata  Normal    None    253  30      56       35         25   \n",
       "1  Sandshrew  Ground    None    300  50      75       85         20   \n",
       "2  Nidoqueen  Poison  Ground    505  90      92       87         75   \n",
       "3    Diglett  Ground    None    265  10      55       25         35   \n",
       "4   Arcanine    Fire    None    555  90     110       80        100   \n",
       "\n",
       "   Sp.Defense  Speed  \n",
       "0          35     72  \n",
       "1          30     40  \n",
       "2          85     76  \n",
       "3          45     95  \n",
       "4          80     95  "
      ]
     },
     "execution_count": 3,
     "metadata": {},
     "output_type": "execute_result"
    }
   ],
   "source": [
    "# The Type2 attribute has a lot of null values because some Pokemon have only one type\n",
    "pokemon['Type2'].replace(np.nan, 'None', inplace=True)\n",
    "pokemon.head()"
   ]
  },
  {
   "cell_type": "code",
   "execution_count": 4,
   "metadata": {},
   "outputs": [
    {
     "data": {
      "text/plain": [
       "'Nidoqueen'"
      ]
     },
     "execution_count": 4,
     "metadata": {},
     "output_type": "execute_result"
    }
   ],
   "source": [
    "# NOT NEEDED\n",
    "pokemon.iloc[2,0] # how to select certain cells in data"
   ]
  },
  {
   "cell_type": "code",
   "execution_count": 5,
   "metadata": {},
   "outputs": [
    {
     "data": {
      "text/html": [
       "<div>\n",
       "<style scoped>\n",
       "    .dataframe tbody tr th:only-of-type {\n",
       "        vertical-align: middle;\n",
       "    }\n",
       "\n",
       "    .dataframe tbody tr th {\n",
       "        vertical-align: top;\n",
       "    }\n",
       "\n",
       "    .dataframe thead th {\n",
       "        text-align: right;\n",
       "    }\n",
       "</style>\n",
       "<table border=\"1\" class=\"dataframe\">\n",
       "  <thead>\n",
       "    <tr style=\"text-align: right;\">\n",
       "      <th></th>\n",
       "      <th>Name</th>\n",
       "      <th>Type1</th>\n",
       "      <th>Type2</th>\n",
       "      <th>Total</th>\n",
       "      <th>HP</th>\n",
       "      <th>Attack</th>\n",
       "      <th>Defense</th>\n",
       "      <th>Sp.Attack</th>\n",
       "      <th>Sp.Defense</th>\n",
       "      <th>Speed</th>\n",
       "    </tr>\n",
       "  </thead>\n",
       "  <tbody>\n",
       "    <tr>\n",
       "      <th>0</th>\n",
       "      <td>Rattata</td>\n",
       "      <td>Normal</td>\n",
       "      <td>None</td>\n",
       "      <td>253</td>\n",
       "      <td>30</td>\n",
       "      <td>56</td>\n",
       "      <td>35</td>\n",
       "      <td>25</td>\n",
       "      <td>35</td>\n",
       "      <td>72</td>\n",
       "    </tr>\n",
       "    <tr>\n",
       "      <th>1</th>\n",
       "      <td>Sandshrew</td>\n",
       "      <td>Ground</td>\n",
       "      <td>None</td>\n",
       "      <td>300</td>\n",
       "      <td>50</td>\n",
       "      <td>75</td>\n",
       "      <td>85</td>\n",
       "      <td>20</td>\n",
       "      <td>30</td>\n",
       "      <td>40</td>\n",
       "    </tr>\n",
       "    <tr>\n",
       "      <th>2</th>\n",
       "      <td>Nidoqueen</td>\n",
       "      <td>Poison</td>\n",
       "      <td>Ground</td>\n",
       "      <td>505</td>\n",
       "      <td>90</td>\n",
       "      <td>92</td>\n",
       "      <td>87</td>\n",
       "      <td>75</td>\n",
       "      <td>85</td>\n",
       "      <td>76</td>\n",
       "    </tr>\n",
       "    <tr>\n",
       "      <th>3</th>\n",
       "      <td>Diglett</td>\n",
       "      <td>Ground</td>\n",
       "      <td>None</td>\n",
       "      <td>265</td>\n",
       "      <td>10</td>\n",
       "      <td>55</td>\n",
       "      <td>25</td>\n",
       "      <td>35</td>\n",
       "      <td>45</td>\n",
       "      <td>95</td>\n",
       "    </tr>\n",
       "    <tr>\n",
       "      <th>4</th>\n",
       "      <td>Arcanine</td>\n",
       "      <td>Fire</td>\n",
       "      <td>None</td>\n",
       "      <td>555</td>\n",
       "      <td>90</td>\n",
       "      <td>110</td>\n",
       "      <td>80</td>\n",
       "      <td>100</td>\n",
       "      <td>80</td>\n",
       "      <td>95</td>\n",
       "    </tr>\n",
       "    <tr>\n",
       "      <th>5</th>\n",
       "      <td>Machoke</td>\n",
       "      <td>Fighting</td>\n",
       "      <td>None</td>\n",
       "      <td>405</td>\n",
       "      <td>80</td>\n",
       "      <td>100</td>\n",
       "      <td>70</td>\n",
       "      <td>50</td>\n",
       "      <td>60</td>\n",
       "      <td>45</td>\n",
       "    </tr>\n",
       "    <tr>\n",
       "      <th>6</th>\n",
       "      <td>Weepinbell</td>\n",
       "      <td>Grass</td>\n",
       "      <td>Poison</td>\n",
       "      <td>390</td>\n",
       "      <td>65</td>\n",
       "      <td>90</td>\n",
       "      <td>50</td>\n",
       "      <td>85</td>\n",
       "      <td>45</td>\n",
       "      <td>55</td>\n",
       "    </tr>\n",
       "    <tr>\n",
       "      <th>7</th>\n",
       "      <td>Dewgong</td>\n",
       "      <td>Water</td>\n",
       "      <td>Ice</td>\n",
       "      <td>475</td>\n",
       "      <td>90</td>\n",
       "      <td>70</td>\n",
       "      <td>80</td>\n",
       "      <td>70</td>\n",
       "      <td>95</td>\n",
       "      <td>70</td>\n",
       "    </tr>\n",
       "    <tr>\n",
       "      <th>8</th>\n",
       "      <td>Omastar</td>\n",
       "      <td>Rock</td>\n",
       "      <td>Water</td>\n",
       "      <td>495</td>\n",
       "      <td>70</td>\n",
       "      <td>60</td>\n",
       "      <td>125</td>\n",
       "      <td>115</td>\n",
       "      <td>70</td>\n",
       "      <td>55</td>\n",
       "    </tr>\n",
       "    <tr>\n",
       "      <th>9</th>\n",
       "      <td>Bayleef</td>\n",
       "      <td>Grass</td>\n",
       "      <td>None</td>\n",
       "      <td>405</td>\n",
       "      <td>60</td>\n",
       "      <td>62</td>\n",
       "      <td>80</td>\n",
       "      <td>63</td>\n",
       "      <td>80</td>\n",
       "      <td>60</td>\n",
       "    </tr>\n",
       "    <tr>\n",
       "      <th>10</th>\n",
       "      <td>Cyndaquil</td>\n",
       "      <td>Fire</td>\n",
       "      <td>None</td>\n",
       "      <td>309</td>\n",
       "      <td>39</td>\n",
       "      <td>52</td>\n",
       "      <td>43</td>\n",
       "      <td>60</td>\n",
       "      <td>50</td>\n",
       "      <td>65</td>\n",
       "    </tr>\n",
       "    <tr>\n",
       "      <th>11</th>\n",
       "      <td>Azumarill</td>\n",
       "      <td>Water</td>\n",
       "      <td>Fairy</td>\n",
       "      <td>420</td>\n",
       "      <td>100</td>\n",
       "      <td>50</td>\n",
       "      <td>80</td>\n",
       "      <td>60</td>\n",
       "      <td>80</td>\n",
       "      <td>50</td>\n",
       "    </tr>\n",
       "    <tr>\n",
       "      <th>12</th>\n",
       "      <td>Wooper</td>\n",
       "      <td>Water</td>\n",
       "      <td>Ground</td>\n",
       "      <td>210</td>\n",
       "      <td>55</td>\n",
       "      <td>45</td>\n",
       "      <td>45</td>\n",
       "      <td>25</td>\n",
       "      <td>25</td>\n",
       "      <td>15</td>\n",
       "    </tr>\n",
       "    <tr>\n",
       "      <th>13</th>\n",
       "      <td>Dunsparce</td>\n",
       "      <td>Normal</td>\n",
       "      <td>None</td>\n",
       "      <td>415</td>\n",
       "      <td>100</td>\n",
       "      <td>70</td>\n",
       "      <td>70</td>\n",
       "      <td>65</td>\n",
       "      <td>65</td>\n",
       "      <td>45</td>\n",
       "    </tr>\n",
       "    <tr>\n",
       "      <th>14</th>\n",
       "      <td>Gligar</td>\n",
       "      <td>Ground</td>\n",
       "      <td>Flying</td>\n",
       "      <td>430</td>\n",
       "      <td>65</td>\n",
       "      <td>75</td>\n",
       "      <td>105</td>\n",
       "      <td>35</td>\n",
       "      <td>65</td>\n",
       "      <td>85</td>\n",
       "    </tr>\n",
       "    <tr>\n",
       "      <th>15</th>\n",
       "      <td>Heracross</td>\n",
       "      <td>Bug</td>\n",
       "      <td>Fighting</td>\n",
       "      <td>500</td>\n",
       "      <td>80</td>\n",
       "      <td>125</td>\n",
       "      <td>75</td>\n",
       "      <td>40</td>\n",
       "      <td>95</td>\n",
       "      <td>85</td>\n",
       "    </tr>\n",
       "    <tr>\n",
       "      <th>16</th>\n",
       "      <td>Piloswine</td>\n",
       "      <td>Ice</td>\n",
       "      <td>Ground</td>\n",
       "      <td>450</td>\n",
       "      <td>100</td>\n",
       "      <td>100</td>\n",
       "      <td>80</td>\n",
       "      <td>60</td>\n",
       "      <td>60</td>\n",
       "      <td>50</td>\n",
       "    </tr>\n",
       "    <tr>\n",
       "      <th>17</th>\n",
       "      <td>Blaziken</td>\n",
       "      <td>Fire</td>\n",
       "      <td>Fighting</td>\n",
       "      <td>530</td>\n",
       "      <td>80</td>\n",
       "      <td>120</td>\n",
       "      <td>70</td>\n",
       "      <td>110</td>\n",
       "      <td>70</td>\n",
       "      <td>80</td>\n",
       "    </tr>\n",
       "    <tr>\n",
       "      <th>18</th>\n",
       "      <td>Zigzagoon</td>\n",
       "      <td>Normal</td>\n",
       "      <td>None</td>\n",
       "      <td>240</td>\n",
       "      <td>38</td>\n",
       "      <td>30</td>\n",
       "      <td>41</td>\n",
       "      <td>30</td>\n",
       "      <td>41</td>\n",
       "      <td>60</td>\n",
       "    </tr>\n",
       "    <tr>\n",
       "      <th>19</th>\n",
       "      <td>Wingull</td>\n",
       "      <td>Water</td>\n",
       "      <td>Flying</td>\n",
       "      <td>270</td>\n",
       "      <td>40</td>\n",
       "      <td>30</td>\n",
       "      <td>30</td>\n",
       "      <td>55</td>\n",
       "      <td>30</td>\n",
       "      <td>85</td>\n",
       "    </tr>\n",
       "    <tr>\n",
       "      <th>20</th>\n",
       "      <td>Slaking</td>\n",
       "      <td>Normal</td>\n",
       "      <td>None</td>\n",
       "      <td>670</td>\n",
       "      <td>150</td>\n",
       "      <td>160</td>\n",
       "      <td>100</td>\n",
       "      <td>95</td>\n",
       "      <td>65</td>\n",
       "      <td>100</td>\n",
       "    </tr>\n",
       "    <tr>\n",
       "      <th>21</th>\n",
       "      <td>Azurill</td>\n",
       "      <td>Normal</td>\n",
       "      <td>Fairy</td>\n",
       "      <td>190</td>\n",
       "      <td>50</td>\n",
       "      <td>20</td>\n",
       "      <td>40</td>\n",
       "      <td>20</td>\n",
       "      <td>40</td>\n",
       "      <td>20</td>\n",
       "    </tr>\n",
       "    <tr>\n",
       "      <th>22</th>\n",
       "      <td>Wailord</td>\n",
       "      <td>Water</td>\n",
       "      <td>None</td>\n",
       "      <td>500</td>\n",
       "      <td>170</td>\n",
       "      <td>90</td>\n",
       "      <td>45</td>\n",
       "      <td>90</td>\n",
       "      <td>45</td>\n",
       "      <td>60</td>\n",
       "    </tr>\n",
       "    <tr>\n",
       "      <th>23</th>\n",
       "      <td>Camerupt</td>\n",
       "      <td>Fire</td>\n",
       "      <td>Ground</td>\n",
       "      <td>460</td>\n",
       "      <td>70</td>\n",
       "      <td>100</td>\n",
       "      <td>70</td>\n",
       "      <td>105</td>\n",
       "      <td>75</td>\n",
       "      <td>40</td>\n",
       "    </tr>\n",
       "    <tr>\n",
       "      <th>24</th>\n",
       "      <td>Altaria</td>\n",
       "      <td>Dragon</td>\n",
       "      <td>Flying</td>\n",
       "      <td>490</td>\n",
       "      <td>75</td>\n",
       "      <td>70</td>\n",
       "      <td>90</td>\n",
       "      <td>70</td>\n",
       "      <td>105</td>\n",
       "      <td>80</td>\n",
       "    </tr>\n",
       "    <tr>\n",
       "      <th>25</th>\n",
       "      <td>Corphish</td>\n",
       "      <td>Water</td>\n",
       "      <td>None</td>\n",
       "      <td>308</td>\n",
       "      <td>43</td>\n",
       "      <td>80</td>\n",
       "      <td>65</td>\n",
       "      <td>50</td>\n",
       "      <td>35</td>\n",
       "      <td>35</td>\n",
       "    </tr>\n",
       "    <tr>\n",
       "      <th>26</th>\n",
       "      <td>Sealeo</td>\n",
       "      <td>Ice</td>\n",
       "      <td>Water</td>\n",
       "      <td>410</td>\n",
       "      <td>90</td>\n",
       "      <td>60</td>\n",
       "      <td>70</td>\n",
       "      <td>75</td>\n",
       "      <td>70</td>\n",
       "      <td>45</td>\n",
       "    </tr>\n",
       "    <tr>\n",
       "      <th>27</th>\n",
       "      <td>Walrein</td>\n",
       "      <td>Ice</td>\n",
       "      <td>Water</td>\n",
       "      <td>530</td>\n",
       "      <td>110</td>\n",
       "      <td>80</td>\n",
       "      <td>90</td>\n",
       "      <td>95</td>\n",
       "      <td>90</td>\n",
       "      <td>65</td>\n",
       "    </tr>\n",
       "    <tr>\n",
       "      <th>28</th>\n",
       "      <td>Huntail</td>\n",
       "      <td>Water</td>\n",
       "      <td>None</td>\n",
       "      <td>485</td>\n",
       "      <td>55</td>\n",
       "      <td>104</td>\n",
       "      <td>105</td>\n",
       "      <td>94</td>\n",
       "      <td>75</td>\n",
       "      <td>52</td>\n",
       "    </tr>\n",
       "    <tr>\n",
       "      <th>29</th>\n",
       "      <td>Bagon</td>\n",
       "      <td>Dragon</td>\n",
       "      <td>None</td>\n",
       "      <td>300</td>\n",
       "      <td>45</td>\n",
       "      <td>75</td>\n",
       "      <td>60</td>\n",
       "      <td>40</td>\n",
       "      <td>30</td>\n",
       "      <td>50</td>\n",
       "    </tr>\n",
       "    <tr>\n",
       "      <th>...</th>\n",
       "      <td>...</td>\n",
       "      <td>...</td>\n",
       "      <td>...</td>\n",
       "      <td>...</td>\n",
       "      <td>...</td>\n",
       "      <td>...</td>\n",
       "      <td>...</td>\n",
       "      <td>...</td>\n",
       "      <td>...</td>\n",
       "      <td>...</td>\n",
       "    </tr>\n",
       "    <tr>\n",
       "      <th>636</th>\n",
       "      <td>Exploud</td>\n",
       "      <td>Normal</td>\n",
       "      <td>None</td>\n",
       "      <td>490</td>\n",
       "      <td>104</td>\n",
       "      <td>91</td>\n",
       "      <td>63</td>\n",
       "      <td>91</td>\n",
       "      <td>73</td>\n",
       "      <td>68</td>\n",
       "    </tr>\n",
       "    <tr>\n",
       "      <th>637</th>\n",
       "      <td>Medicham</td>\n",
       "      <td>Fighting</td>\n",
       "      <td>Psychic</td>\n",
       "      <td>410</td>\n",
       "      <td>60</td>\n",
       "      <td>60</td>\n",
       "      <td>75</td>\n",
       "      <td>60</td>\n",
       "      <td>75</td>\n",
       "      <td>80</td>\n",
       "    </tr>\n",
       "    <tr>\n",
       "      <th>638</th>\n",
       "      <td>Electrike</td>\n",
       "      <td>Electric</td>\n",
       "      <td>None</td>\n",
       "      <td>295</td>\n",
       "      <td>40</td>\n",
       "      <td>45</td>\n",
       "      <td>40</td>\n",
       "      <td>65</td>\n",
       "      <td>40</td>\n",
       "      <td>65</td>\n",
       "    </tr>\n",
       "    <tr>\n",
       "      <th>639</th>\n",
       "      <td>Trapinch</td>\n",
       "      <td>Ground</td>\n",
       "      <td>None</td>\n",
       "      <td>290</td>\n",
       "      <td>45</td>\n",
       "      <td>100</td>\n",
       "      <td>45</td>\n",
       "      <td>45</td>\n",
       "      <td>45</td>\n",
       "      <td>10</td>\n",
       "    </tr>\n",
       "    <tr>\n",
       "      <th>640</th>\n",
       "      <td>Zangoose</td>\n",
       "      <td>Normal</td>\n",
       "      <td>None</td>\n",
       "      <td>458</td>\n",
       "      <td>73</td>\n",
       "      <td>115</td>\n",
       "      <td>60</td>\n",
       "      <td>60</td>\n",
       "      <td>60</td>\n",
       "      <td>90</td>\n",
       "    </tr>\n",
       "    <tr>\n",
       "      <th>641</th>\n",
       "      <td>Seviper</td>\n",
       "      <td>Poison</td>\n",
       "      <td>None</td>\n",
       "      <td>458</td>\n",
       "      <td>73</td>\n",
       "      <td>100</td>\n",
       "      <td>60</td>\n",
       "      <td>100</td>\n",
       "      <td>60</td>\n",
       "      <td>65</td>\n",
       "    </tr>\n",
       "    <tr>\n",
       "      <th>642</th>\n",
       "      <td>Lileep</td>\n",
       "      <td>Rock</td>\n",
       "      <td>Grass</td>\n",
       "      <td>355</td>\n",
       "      <td>66</td>\n",
       "      <td>41</td>\n",
       "      <td>77</td>\n",
       "      <td>61</td>\n",
       "      <td>87</td>\n",
       "      <td>23</td>\n",
       "    </tr>\n",
       "    <tr>\n",
       "      <th>643</th>\n",
       "      <td>Snorunt</td>\n",
       "      <td>Ice</td>\n",
       "      <td>None</td>\n",
       "      <td>300</td>\n",
       "      <td>50</td>\n",
       "      <td>50</td>\n",
       "      <td>50</td>\n",
       "      <td>50</td>\n",
       "      <td>50</td>\n",
       "      <td>50</td>\n",
       "    </tr>\n",
       "    <tr>\n",
       "      <th>644</th>\n",
       "      <td>Gorebyss</td>\n",
       "      <td>Water</td>\n",
       "      <td>None</td>\n",
       "      <td>485</td>\n",
       "      <td>55</td>\n",
       "      <td>84</td>\n",
       "      <td>105</td>\n",
       "      <td>114</td>\n",
       "      <td>75</td>\n",
       "      <td>52</td>\n",
       "    </tr>\n",
       "    <tr>\n",
       "      <th>645</th>\n",
       "      <td>Staraptor</td>\n",
       "      <td>Normal</td>\n",
       "      <td>Flying</td>\n",
       "      <td>485</td>\n",
       "      <td>85</td>\n",
       "      <td>120</td>\n",
       "      <td>70</td>\n",
       "      <td>50</td>\n",
       "      <td>60</td>\n",
       "      <td>100</td>\n",
       "    </tr>\n",
       "    <tr>\n",
       "      <th>646</th>\n",
       "      <td>Purugly</td>\n",
       "      <td>Normal</td>\n",
       "      <td>None</td>\n",
       "      <td>452</td>\n",
       "      <td>71</td>\n",
       "      <td>82</td>\n",
       "      <td>64</td>\n",
       "      <td>64</td>\n",
       "      <td>59</td>\n",
       "      <td>112</td>\n",
       "    </tr>\n",
       "    <tr>\n",
       "      <th>647</th>\n",
       "      <td>Mime Jr.</td>\n",
       "      <td>Psychic</td>\n",
       "      <td>Fairy</td>\n",
       "      <td>310</td>\n",
       "      <td>20</td>\n",
       "      <td>25</td>\n",
       "      <td>45</td>\n",
       "      <td>70</td>\n",
       "      <td>90</td>\n",
       "      <td>60</td>\n",
       "    </tr>\n",
       "    <tr>\n",
       "      <th>648</th>\n",
       "      <td>Garchomp</td>\n",
       "      <td>Dragon</td>\n",
       "      <td>Ground</td>\n",
       "      <td>600</td>\n",
       "      <td>108</td>\n",
       "      <td>130</td>\n",
       "      <td>95</td>\n",
       "      <td>80</td>\n",
       "      <td>85</td>\n",
       "      <td>102</td>\n",
       "    </tr>\n",
       "    <tr>\n",
       "      <th>649</th>\n",
       "      <td>Croagunk</td>\n",
       "      <td>Poison</td>\n",
       "      <td>Fighting</td>\n",
       "      <td>300</td>\n",
       "      <td>48</td>\n",
       "      <td>61</td>\n",
       "      <td>40</td>\n",
       "      <td>61</td>\n",
       "      <td>40</td>\n",
       "      <td>50</td>\n",
       "    </tr>\n",
       "    <tr>\n",
       "      <th>650</th>\n",
       "      <td>Magnezone</td>\n",
       "      <td>Electric</td>\n",
       "      <td>Steel</td>\n",
       "      <td>535</td>\n",
       "      <td>70</td>\n",
       "      <td>70</td>\n",
       "      <td>115</td>\n",
       "      <td>130</td>\n",
       "      <td>90</td>\n",
       "      <td>60</td>\n",
       "    </tr>\n",
       "    <tr>\n",
       "      <th>651</th>\n",
       "      <td>Emboar</td>\n",
       "      <td>Fire</td>\n",
       "      <td>Fighting</td>\n",
       "      <td>528</td>\n",
       "      <td>110</td>\n",
       "      <td>123</td>\n",
       "      <td>65</td>\n",
       "      <td>100</td>\n",
       "      <td>65</td>\n",
       "      <td>65</td>\n",
       "    </tr>\n",
       "    <tr>\n",
       "      <th>652</th>\n",
       "      <td>Lillipup</td>\n",
       "      <td>Normal</td>\n",
       "      <td>None</td>\n",
       "      <td>275</td>\n",
       "      <td>45</td>\n",
       "      <td>60</td>\n",
       "      <td>45</td>\n",
       "      <td>25</td>\n",
       "      <td>45</td>\n",
       "      <td>55</td>\n",
       "    </tr>\n",
       "    <tr>\n",
       "      <th>653</th>\n",
       "      <td>Pansear</td>\n",
       "      <td>Fire</td>\n",
       "      <td>None</td>\n",
       "      <td>316</td>\n",
       "      <td>50</td>\n",
       "      <td>53</td>\n",
       "      <td>48</td>\n",
       "      <td>53</td>\n",
       "      <td>48</td>\n",
       "      <td>64</td>\n",
       "    </tr>\n",
       "    <tr>\n",
       "      <th>654</th>\n",
       "      <td>Roggenrola</td>\n",
       "      <td>Rock</td>\n",
       "      <td>None</td>\n",
       "      <td>280</td>\n",
       "      <td>55</td>\n",
       "      <td>75</td>\n",
       "      <td>85</td>\n",
       "      <td>25</td>\n",
       "      <td>25</td>\n",
       "      <td>15</td>\n",
       "    </tr>\n",
       "    <tr>\n",
       "      <th>655</th>\n",
       "      <td>Whirlipede</td>\n",
       "      <td>Bug</td>\n",
       "      <td>Poison</td>\n",
       "      <td>360</td>\n",
       "      <td>40</td>\n",
       "      <td>55</td>\n",
       "      <td>99</td>\n",
       "      <td>40</td>\n",
       "      <td>79</td>\n",
       "      <td>47</td>\n",
       "    </tr>\n",
       "    <tr>\n",
       "      <th>656</th>\n",
       "      <td>Lilligant</td>\n",
       "      <td>Grass</td>\n",
       "      <td>None</td>\n",
       "      <td>480</td>\n",
       "      <td>70</td>\n",
       "      <td>60</td>\n",
       "      <td>75</td>\n",
       "      <td>110</td>\n",
       "      <td>75</td>\n",
       "      <td>90</td>\n",
       "    </tr>\n",
       "    <tr>\n",
       "      <th>657</th>\n",
       "      <td>Krokorok</td>\n",
       "      <td>Ground</td>\n",
       "      <td>Dark</td>\n",
       "      <td>351</td>\n",
       "      <td>60</td>\n",
       "      <td>82</td>\n",
       "      <td>45</td>\n",
       "      <td>45</td>\n",
       "      <td>45</td>\n",
       "      <td>74</td>\n",
       "    </tr>\n",
       "    <tr>\n",
       "      <th>658</th>\n",
       "      <td>Scraggy</td>\n",
       "      <td>Dark</td>\n",
       "      <td>Fighting</td>\n",
       "      <td>348</td>\n",
       "      <td>50</td>\n",
       "      <td>75</td>\n",
       "      <td>70</td>\n",
       "      <td>35</td>\n",
       "      <td>70</td>\n",
       "      <td>48</td>\n",
       "    </tr>\n",
       "    <tr>\n",
       "      <th>659</th>\n",
       "      <td>Sawsbuck</td>\n",
       "      <td>Normal</td>\n",
       "      <td>Grass</td>\n",
       "      <td>475</td>\n",
       "      <td>80</td>\n",
       "      <td>100</td>\n",
       "      <td>70</td>\n",
       "      <td>60</td>\n",
       "      <td>70</td>\n",
       "      <td>95</td>\n",
       "    </tr>\n",
       "    <tr>\n",
       "      <th>660</th>\n",
       "      <td>Amoonguss</td>\n",
       "      <td>Grass</td>\n",
       "      <td>Poison</td>\n",
       "      <td>464</td>\n",
       "      <td>114</td>\n",
       "      <td>85</td>\n",
       "      <td>70</td>\n",
       "      <td>85</td>\n",
       "      <td>80</td>\n",
       "      <td>30</td>\n",
       "    </tr>\n",
       "    <tr>\n",
       "      <th>661</th>\n",
       "      <td>Elgyem</td>\n",
       "      <td>Psychic</td>\n",
       "      <td>None</td>\n",
       "      <td>335</td>\n",
       "      <td>55</td>\n",
       "      <td>55</td>\n",
       "      <td>55</td>\n",
       "      <td>85</td>\n",
       "      <td>55</td>\n",
       "      <td>30</td>\n",
       "    </tr>\n",
       "    <tr>\n",
       "      <th>662</th>\n",
       "      <td>Talonflame</td>\n",
       "      <td>Fire</td>\n",
       "      <td>Flying</td>\n",
       "      <td>499</td>\n",
       "      <td>78</td>\n",
       "      <td>81</td>\n",
       "      <td>71</td>\n",
       "      <td>74</td>\n",
       "      <td>69</td>\n",
       "      <td>126</td>\n",
       "    </tr>\n",
       "    <tr>\n",
       "      <th>663</th>\n",
       "      <td>Amaura</td>\n",
       "      <td>Rock</td>\n",
       "      <td>Ice</td>\n",
       "      <td>362</td>\n",
       "      <td>77</td>\n",
       "      <td>59</td>\n",
       "      <td>50</td>\n",
       "      <td>67</td>\n",
       "      <td>63</td>\n",
       "      <td>46</td>\n",
       "    </tr>\n",
       "    <tr>\n",
       "      <th>664</th>\n",
       "      <td>Hawlucha</td>\n",
       "      <td>Fighting</td>\n",
       "      <td>Flying</td>\n",
       "      <td>500</td>\n",
       "      <td>78</td>\n",
       "      <td>92</td>\n",
       "      <td>75</td>\n",
       "      <td>74</td>\n",
       "      <td>63</td>\n",
       "      <td>118</td>\n",
       "    </tr>\n",
       "    <tr>\n",
       "      <th>665</th>\n",
       "      <td>Dedenne</td>\n",
       "      <td>Electric</td>\n",
       "      <td>Fairy</td>\n",
       "      <td>431</td>\n",
       "      <td>67</td>\n",
       "      <td>58</td>\n",
       "      <td>57</td>\n",
       "      <td>81</td>\n",
       "      <td>67</td>\n",
       "      <td>101</td>\n",
       "    </tr>\n",
       "  </tbody>\n",
       "</table>\n",
       "<p>666 rows × 10 columns</p>\n",
       "</div>"
      ],
      "text/plain": [
       "           Name     Type1     Type2  Total   HP  Attack  Defense  Sp.Attack  \\\n",
       "0       Rattata    Normal      None    253   30      56       35         25   \n",
       "1     Sandshrew    Ground      None    300   50      75       85         20   \n",
       "2     Nidoqueen    Poison    Ground    505   90      92       87         75   \n",
       "3       Diglett    Ground      None    265   10      55       25         35   \n",
       "4      Arcanine      Fire      None    555   90     110       80        100   \n",
       "5       Machoke  Fighting      None    405   80     100       70         50   \n",
       "6    Weepinbell     Grass    Poison    390   65      90       50         85   \n",
       "7       Dewgong     Water       Ice    475   90      70       80         70   \n",
       "8       Omastar      Rock     Water    495   70      60      125        115   \n",
       "9       Bayleef     Grass      None    405   60      62       80         63   \n",
       "10    Cyndaquil      Fire      None    309   39      52       43         60   \n",
       "11    Azumarill     Water     Fairy    420  100      50       80         60   \n",
       "12       Wooper     Water    Ground    210   55      45       45         25   \n",
       "13    Dunsparce    Normal      None    415  100      70       70         65   \n",
       "14       Gligar    Ground    Flying    430   65      75      105         35   \n",
       "15    Heracross       Bug  Fighting    500   80     125       75         40   \n",
       "16    Piloswine       Ice    Ground    450  100     100       80         60   \n",
       "17     Blaziken      Fire  Fighting    530   80     120       70        110   \n",
       "18    Zigzagoon    Normal      None    240   38      30       41         30   \n",
       "19      Wingull     Water    Flying    270   40      30       30         55   \n",
       "20      Slaking    Normal      None    670  150     160      100         95   \n",
       "21      Azurill    Normal     Fairy    190   50      20       40         20   \n",
       "22      Wailord     Water      None    500  170      90       45         90   \n",
       "23     Camerupt      Fire    Ground    460   70     100       70        105   \n",
       "24      Altaria    Dragon    Flying    490   75      70       90         70   \n",
       "25     Corphish     Water      None    308   43      80       65         50   \n",
       "26       Sealeo       Ice     Water    410   90      60       70         75   \n",
       "27      Walrein       Ice     Water    530  110      80       90         95   \n",
       "28      Huntail     Water      None    485   55     104      105         94   \n",
       "29        Bagon    Dragon      None    300   45      75       60         40   \n",
       "..          ...       ...       ...    ...  ...     ...      ...        ...   \n",
       "636     Exploud    Normal      None    490  104      91       63         91   \n",
       "637    Medicham  Fighting   Psychic    410   60      60       75         60   \n",
       "638   Electrike  Electric      None    295   40      45       40         65   \n",
       "639    Trapinch    Ground      None    290   45     100       45         45   \n",
       "640    Zangoose    Normal      None    458   73     115       60         60   \n",
       "641     Seviper    Poison      None    458   73     100       60        100   \n",
       "642      Lileep      Rock     Grass    355   66      41       77         61   \n",
       "643     Snorunt       Ice      None    300   50      50       50         50   \n",
       "644    Gorebyss     Water      None    485   55      84      105        114   \n",
       "645   Staraptor    Normal    Flying    485   85     120       70         50   \n",
       "646     Purugly    Normal      None    452   71      82       64         64   \n",
       "647    Mime Jr.   Psychic     Fairy    310   20      25       45         70   \n",
       "648    Garchomp    Dragon    Ground    600  108     130       95         80   \n",
       "649    Croagunk    Poison  Fighting    300   48      61       40         61   \n",
       "650   Magnezone  Electric     Steel    535   70      70      115        130   \n",
       "651      Emboar      Fire  Fighting    528  110     123       65        100   \n",
       "652    Lillipup    Normal      None    275   45      60       45         25   \n",
       "653     Pansear      Fire      None    316   50      53       48         53   \n",
       "654  Roggenrola      Rock      None    280   55      75       85         25   \n",
       "655  Whirlipede       Bug    Poison    360   40      55       99         40   \n",
       "656   Lilligant     Grass      None    480   70      60       75        110   \n",
       "657    Krokorok    Ground      Dark    351   60      82       45         45   \n",
       "658     Scraggy      Dark  Fighting    348   50      75       70         35   \n",
       "659    Sawsbuck    Normal     Grass    475   80     100       70         60   \n",
       "660   Amoonguss     Grass    Poison    464  114      85       70         85   \n",
       "661      Elgyem   Psychic      None    335   55      55       55         85   \n",
       "662  Talonflame      Fire    Flying    499   78      81       71         74   \n",
       "663      Amaura      Rock       Ice    362   77      59       50         67   \n",
       "664    Hawlucha  Fighting    Flying    500   78      92       75         74   \n",
       "665     Dedenne  Electric     Fairy    431   67      58       57         81   \n",
       "\n",
       "     Sp.Defense  Speed  \n",
       "0            35     72  \n",
       "1            30     40  \n",
       "2            85     76  \n",
       "3            45     95  \n",
       "4            80     95  \n",
       "5            60     45  \n",
       "6            45     55  \n",
       "7            95     70  \n",
       "8            70     55  \n",
       "9            80     60  \n",
       "10           50     65  \n",
       "11           80     50  \n",
       "12           25     15  \n",
       "13           65     45  \n",
       "14           65     85  \n",
       "15           95     85  \n",
       "16           60     50  \n",
       "17           70     80  \n",
       "18           41     60  \n",
       "19           30     85  \n",
       "20           65    100  \n",
       "21           40     20  \n",
       "22           45     60  \n",
       "23           75     40  \n",
       "24          105     80  \n",
       "25           35     35  \n",
       "26           70     45  \n",
       "27           90     65  \n",
       "28           75     52  \n",
       "29           30     50  \n",
       "..          ...    ...  \n",
       "636          73     68  \n",
       "637          75     80  \n",
       "638          40     65  \n",
       "639          45     10  \n",
       "640          60     90  \n",
       "641          60     65  \n",
       "642          87     23  \n",
       "643          50     50  \n",
       "644          75     52  \n",
       "645          60    100  \n",
       "646          59    112  \n",
       "647          90     60  \n",
       "648          85    102  \n",
       "649          40     50  \n",
       "650          90     60  \n",
       "651          65     65  \n",
       "652          45     55  \n",
       "653          48     64  \n",
       "654          25     15  \n",
       "655          79     47  \n",
       "656          75     90  \n",
       "657          45     74  \n",
       "658          70     48  \n",
       "659          70     95  \n",
       "660          80     30  \n",
       "661          55     30  \n",
       "662          69    126  \n",
       "663          63     46  \n",
       "664          63    118  \n",
       "665          67    101  \n",
       "\n",
       "[666 rows x 10 columns]"
      ]
     },
     "execution_count": 5,
     "metadata": {},
     "output_type": "execute_result"
    }
   ],
   "source": [
    "# NOT NEEDED\n",
    "pokemon"
   ]
  },
  {
   "cell_type": "code",
   "execution_count": 6,
   "metadata": {},
   "outputs": [],
   "source": [
    "# NOT NEEDED\n",
    "# Array that contains only water type Pokemon\n",
    "waterPokemonList = []\n",
    "tempPokemonArr = pokemon['Name']\n",
    "for i in range (0, 666): \n",
    "    if (pokemon.iloc[i, 1] != 'Water'):\n",
    "        if(pokemon.iloc[i, 2] != 'Water'):\n",
    "#            del tempPokemonArr[i]\n",
    "            tempPokemonArr.drop(i)\n",
    "        else:\n",
    "            waterPokemonList.append(tempPokemonArr[i])\n",
    "    elif (pokemon.iloc[i, 1] == 'Water'):\n",
    "        waterPokemonList.append(tempPokemonArr[i])"
   ]
  },
  {
   "cell_type": "code",
   "execution_count": 7,
   "metadata": {
    "scrolled": true
   },
   "outputs": [
    {
     "data": {
      "text/html": [
       "<div>\n",
       "<style scoped>\n",
       "    .dataframe tbody tr th:only-of-type {\n",
       "        vertical-align: middle;\n",
       "    }\n",
       "\n",
       "    .dataframe tbody tr th {\n",
       "        vertical-align: top;\n",
       "    }\n",
       "\n",
       "    .dataframe thead th {\n",
       "        text-align: right;\n",
       "    }\n",
       "</style>\n",
       "<table border=\"1\" class=\"dataframe\">\n",
       "  <thead>\n",
       "    <tr style=\"text-align: right;\">\n",
       "      <th></th>\n",
       "      <th>0</th>\n",
       "    </tr>\n",
       "  </thead>\n",
       "  <tbody>\n",
       "    <tr>\n",
       "      <th>0</th>\n",
       "      <td>Dewgong</td>\n",
       "    </tr>\n",
       "    <tr>\n",
       "      <th>1</th>\n",
       "      <td>Omastar</td>\n",
       "    </tr>\n",
       "    <tr>\n",
       "      <th>2</th>\n",
       "      <td>Azumarill</td>\n",
       "    </tr>\n",
       "    <tr>\n",
       "      <th>3</th>\n",
       "      <td>Wooper</td>\n",
       "    </tr>\n",
       "    <tr>\n",
       "      <th>4</th>\n",
       "      <td>Wingull</td>\n",
       "    </tr>\n",
       "  </tbody>\n",
       "</table>\n",
       "</div>"
      ],
      "text/plain": [
       "           0\n",
       "0    Dewgong\n",
       "1    Omastar\n",
       "2  Azumarill\n",
       "3     Wooper\n",
       "4    Wingull"
      ]
     },
     "execution_count": 7,
     "metadata": {},
     "output_type": "execute_result"
    }
   ],
   "source": [
    "# NOT NEEDED\n",
    "waterPokemon = pd.DataFrame(waterPokemonList)\n",
    "waterPokemon.head()"
   ]
  },
  {
   "cell_type": "code",
   "execution_count": 8,
   "metadata": {
    "scrolled": false
   },
   "outputs": [
    {
     "name": "stdout",
     "output_type": "stream",
     "text": [
      "              0\n",
      "0       Dewgong\n",
      "1       Omastar\n",
      "2     Azumarill\n",
      "3        Wooper\n",
      "4       Wingull\n",
      "5       Wailord\n",
      "6      Corphish\n",
      "7        Sealeo\n",
      "8       Walrein\n",
      "9       Huntail\n",
      "10       Piplup\n",
      "11    Gastrodon\n",
      "12     Oshawott\n",
      "13       Dewott\n",
      "14      Froakie\n",
      "15         Seel\n",
      "16     Magikarp\n",
      "17     Croconaw\n",
      "18     Empoleon\n",
      "19    Palpitoad\n",
      "20   Carracosta\n",
      "21       Skrelp\n",
      "22      Omanyte\n",
      "23      Lanturn\n",
      "24       Mudkip\n",
      "25     Whiscash\n",
      "26     Lumineon\n",
      "27     Simipour\n",
      "28     Basculin\n",
      "29    Poliwhirl\n",
      "..          ...\n",
      "81       Buizel\n",
      "82      Panpour\n",
      "83     Tirtouga\n",
      "84      Binacle\n",
      "85     Squirtle\n",
      "86      Psyduck\n",
      "87      Golduck\n",
      "88      Poliwag\n",
      "89     Cloyster\n",
      "90      Kingler\n",
      "91     Gyarados\n",
      "92      Finneon\n",
      "93      Mantyke\n",
      "94    Jellicent\n",
      "95    Tentacool\n",
      "96   Tentacruel\n",
      "97     Slowpoke\n",
      "98      Goldeen\n",
      "99      Starmie\n",
      "100    Kabutops\n",
      "101    Quagsire\n",
      "102     Bibarel\n",
      "103      Seadra\n",
      "104      Staryu\n",
      "105      Kabuto\n",
      "106    Qwilfish\n",
      "107   Marshtomp\n",
      "108    Swampert\n",
      "109    Ludicolo\n",
      "110    Gorebyss\n",
      "\n",
      "[111 rows x 1 columns]\n"
     ]
    }
   ],
   "source": [
    "# NOT NEEDED\n",
    "print(waterPokemon)"
   ]
  },
  {
   "cell_type": "code",
   "execution_count": 9,
   "metadata": {},
   "outputs": [],
   "source": [
    "# Array that contains only the total stats of water type Pokemon\n",
    "waterPokemonTotalList = []\n",
    "tempPokemonArr = pokemon['Total']\n",
    "for i in range (0, 666): \n",
    "    if (pokemon.iloc[i, 1] != 'Water'): # type1 is not water\n",
    "        if(pokemon.iloc[i, 2] != 'Water'): # type2 is not water\n",
    "#            del tempPokemonArr[i] # delete entry if it is not a water type\n",
    "            tempPokemonArr.drop(i)\n",
    "        else:\n",
    "            waterPokemonTotalList.append(tempPokemonArr[i]) # add to list if type2 = water\n",
    "    elif (pokemon.iloc[i, 1] == 'Water'):\n",
    "        waterPokemonTotalList.append(tempPokemonArr[i]) # add to list if type1 = water"
   ]
  },
  {
   "cell_type": "code",
   "execution_count": 10,
   "metadata": {
    "scrolled": false
   },
   "outputs": [
    {
     "data": {
      "text/html": [
       "<div>\n",
       "<style scoped>\n",
       "    .dataframe tbody tr th:only-of-type {\n",
       "        vertical-align: middle;\n",
       "    }\n",
       "\n",
       "    .dataframe tbody tr th {\n",
       "        vertical-align: top;\n",
       "    }\n",
       "\n",
       "    .dataframe thead th {\n",
       "        text-align: right;\n",
       "    }\n",
       "</style>\n",
       "<table border=\"1\" class=\"dataframe\">\n",
       "  <thead>\n",
       "    <tr style=\"text-align: right;\">\n",
       "      <th></th>\n",
       "      <th>0</th>\n",
       "    </tr>\n",
       "  </thead>\n",
       "  <tbody>\n",
       "    <tr>\n",
       "      <th>0</th>\n",
       "      <td>475</td>\n",
       "    </tr>\n",
       "    <tr>\n",
       "      <th>1</th>\n",
       "      <td>495</td>\n",
       "    </tr>\n",
       "    <tr>\n",
       "      <th>2</th>\n",
       "      <td>420</td>\n",
       "    </tr>\n",
       "    <tr>\n",
       "      <th>3</th>\n",
       "      <td>210</td>\n",
       "    </tr>\n",
       "    <tr>\n",
       "      <th>4</th>\n",
       "      <td>270</td>\n",
       "    </tr>\n",
       "  </tbody>\n",
       "</table>\n",
       "</div>"
      ],
      "text/plain": [
       "     0\n",
       "0  475\n",
       "1  495\n",
       "2  420\n",
       "3  210\n",
       "4  270"
      ]
     },
     "execution_count": 10,
     "metadata": {},
     "output_type": "execute_result"
    }
   ],
   "source": [
    "waterPokemonTotal = pd.DataFrame(waterPokemonTotalList)\n",
    "waterPokemonTotal.head()"
   ]
  },
  {
   "cell_type": "code",
   "execution_count": 11,
   "metadata": {},
   "outputs": [
    {
     "name": "stdout",
     "output_type": "stream",
     "text": [
      "       0\n",
      "0    475\n",
      "1    495\n",
      "2    420\n",
      "3    210\n",
      "4    270\n",
      "5    500\n",
      "6    308\n",
      "7    410\n",
      "8    530\n",
      "9    485\n",
      "10   314\n",
      "11   475\n",
      "12   308\n",
      "13   413\n",
      "14   314\n",
      "15   325\n",
      "16   200\n",
      "17   405\n",
      "18   530\n",
      "19   384\n",
      "20   495\n",
      "21   320\n",
      "22   355\n",
      "23   460\n",
      "24   310\n",
      "25   468\n",
      "26   460\n",
      "27   498\n",
      "28   460\n",
      "29   385\n",
      "..   ...\n",
      "81   330\n",
      "82   316\n",
      "83   355\n",
      "84   306\n",
      "85   314\n",
      "86   320\n",
      "87   500\n",
      "88   300\n",
      "89   525\n",
      "90   475\n",
      "91   540\n",
      "92   330\n",
      "93   345\n",
      "94   480\n",
      "95   335\n",
      "96   515\n",
      "97   315\n",
      "98   320\n",
      "99   520\n",
      "100  495\n",
      "101  430\n",
      "102  410\n",
      "103  440\n",
      "104  340\n",
      "105  355\n",
      "106  430\n",
      "107  405\n",
      "108  535\n",
      "109  480\n",
      "110  485\n",
      "\n",
      "[111 rows x 1 columns]\n"
     ]
    }
   ],
   "source": [
    "print(waterPokemonTotal)"
   ]
  },
  {
   "cell_type": "code",
   "execution_count": 12,
   "metadata": {},
   "outputs": [
    {
     "data": {
      "text/plain": [
       "0    540\n",
       "dtype: int64"
      ]
     },
     "execution_count": 12,
     "metadata": {},
     "output_type": "execute_result"
    }
   ],
   "source": [
    "# find the max total stat\n",
    "waterPokemonTotal.max()"
   ]
  },
  {
   "cell_type": "code",
   "execution_count": 13,
   "metadata": {
    "scrolled": true
   },
   "outputs": [
    {
     "name": "stdout",
     "output_type": "stream",
     "text": [
      "Kingdra\n",
      "Milotic\n",
      "Gyarados\n"
     ]
    }
   ],
   "source": [
    "# find pokemon that is a water type and has the max total stat\n",
    "for i in range (0, 666): \n",
    "    if (pokemon.iloc[i, 1] == 'Water' or pokemon.iloc[i, 2] == 'Water'):\n",
    "        if(pokemon.iloc[i, 3] == 540):\n",
    "            print(pokemon.iloc[i, 0])"
   ]
  },
  {
   "cell_type": "code",
   "execution_count": 14,
   "metadata": {},
   "outputs": [
    {
     "data": {
      "text/html": [
       "<div>\n",
       "<style scoped>\n",
       "    .dataframe tbody tr th:only-of-type {\n",
       "        vertical-align: middle;\n",
       "    }\n",
       "\n",
       "    .dataframe tbody tr th {\n",
       "        vertical-align: top;\n",
       "    }\n",
       "\n",
       "    .dataframe thead th {\n",
       "        text-align: right;\n",
       "    }\n",
       "</style>\n",
       "<table border=\"1\" class=\"dataframe\">\n",
       "  <thead>\n",
       "    <tr style=\"text-align: right;\">\n",
       "      <th></th>\n",
       "      <th>0</th>\n",
       "    </tr>\n",
       "  </thead>\n",
       "  <tbody>\n",
       "    <tr>\n",
       "      <th>43</th>\n",
       "      <td>540</td>\n",
       "    </tr>\n",
       "    <tr>\n",
       "      <th>52</th>\n",
       "      <td>540</td>\n",
       "    </tr>\n",
       "    <tr>\n",
       "      <th>91</th>\n",
       "      <td>540</td>\n",
       "    </tr>\n",
       "    <tr>\n",
       "      <th>31</th>\n",
       "      <td>535</td>\n",
       "    </tr>\n",
       "    <tr>\n",
       "      <th>108</th>\n",
       "      <td>535</td>\n",
       "    </tr>\n",
       "    <tr>\n",
       "      <th>8</th>\n",
       "      <td>530</td>\n",
       "    </tr>\n",
       "    <tr>\n",
       "      <th>18</th>\n",
       "      <td>530</td>\n",
       "    </tr>\n",
       "    <tr>\n",
       "      <th>47</th>\n",
       "      <td>530</td>\n",
       "    </tr>\n",
       "    <tr>\n",
       "      <th>59</th>\n",
       "      <td>530</td>\n",
       "    </tr>\n",
       "    <tr>\n",
       "      <th>66</th>\n",
       "      <td>530</td>\n",
       "    </tr>\n",
       "  </tbody>\n",
       "</table>\n",
       "</div>"
      ],
      "text/plain": [
       "       0\n",
       "43   540\n",
       "52   540\n",
       "91   540\n",
       "31   535\n",
       "108  535\n",
       "8    530\n",
       "18   530\n",
       "47   530\n",
       "59   530\n",
       "66   530"
      ]
     },
     "execution_count": 14,
     "metadata": {},
     "output_type": "execute_result"
    }
   ],
   "source": [
    "# find the top 5 largest stats\n",
    "waterPokemonTotal.nlargest(10,0)"
   ]
  },
  {
   "cell_type": "code",
   "execution_count": 15,
   "metadata": {},
   "outputs": [],
   "source": [
    "# Array that contains only the total stats of water type Pokemon\n",
    "waterPokemonFinalTotalList = [540, 540, 540, 535, 535, 530, 530, 530, 530, 530]\n",
    "waterPokemonFinalList = [waterPokemon.iloc[43, 0], waterPokemon.iloc[52, 0], waterPokemon.iloc[91, 0], waterPokemon.iloc[31, 0], waterPokemon.iloc[108, 0],waterPokemon.iloc[8, 0], waterPokemon.iloc[18, 0], waterPokemon.iloc[47, 0], waterPokemon.iloc[59, 0],waterPokemon.iloc[66, 0]]\n",
    "# find the top 5 water pokemon\n",
    "#for i in range (0, 666): \n",
    "#    if (pokemon.iloc[i, 1] == 'Water' or pokemon.iloc[i, 2] == 'Water'):\n",
    "#        if(pokemon.iloc[i, 3] == 540):\n",
    "#            waterPokemonFinalList.append(pokemon.iloc[i, 0])\n",
    "#\n",
    "#for i in range (0, 666): \n",
    "#    if (pokemon.iloc[i, 1] == 'Water' or pokemon.iloc[i, 2] == 'Water'):\n",
    "#        if(pokemon.iloc[i, 3] == 535):\n",
    "#            waterPokemonFinalList.append(pokemon.iloc[i, 0])"
   ]
  },
  {
   "cell_type": "code",
   "execution_count": 16,
   "metadata": {
    "scrolled": true
   },
   "outputs": [
    {
     "data": {
      "text/plain": [
       "<BarContainer object of 10 artists>"
      ]
     },
     "execution_count": 16,
     "metadata": {},
     "output_type": "execute_result"
    },
    {
     "data": {
      "image/png": "[encoded data removed]",
      "text/plain": [
       "<Figure size 432x288 with 1 Axes>"
      ]
     },
     "metadata": {
      "needs_background": "light"
     },
     "output_type": "display_data"
    }
   ],
   "source": [
    "# bar graph for strongest water pokemon\n",
    "plt.barh(waterPokemonFinalList, waterPokemonFinalTotalList, color='blue')"
   ]
  },
  {
   "cell_type": "code",
   "execution_count": 17,
   "metadata": {},
   "outputs": [],
   "source": [
    "# NOT NEEDED\n",
    "# Array that contains only fire type Pokemon\n",
    "firePokemonList = []\n",
    "tempFirePokemonArr = pokemon['Name']\n",
    "for i in range (0, 666): \n",
    "    if (pokemon.iloc[i, 1] != 'Fire'):\n",
    "        if(pokemon.iloc[i, 2] != 'Fire'):\n",
    "#            del tempFirePokemonArr[i]\n",
    "            tempFirePokemonArr.drop(i)\n",
    "        else:\n",
    "            firePokemonList.append(tempFirePokemonArr[i])\n",
    "    elif (pokemon.iloc[i, 1] == 'Fire'):\n",
    "        firePokemonList.append(tempFirePokemonArr[i])"
   ]
  },
  {
   "cell_type": "code",
   "execution_count": 18,
   "metadata": {},
   "outputs": [
    {
     "data": {
      "text/html": [
       "<div>\n",
       "<style scoped>\n",
       "    .dataframe tbody tr th:only-of-type {\n",
       "        vertical-align: middle;\n",
       "    }\n",
       "\n",
       "    .dataframe tbody tr th {\n",
       "        vertical-align: top;\n",
       "    }\n",
       "\n",
       "    .dataframe thead th {\n",
       "        text-align: right;\n",
       "    }\n",
       "</style>\n",
       "<table border=\"1\" class=\"dataframe\">\n",
       "  <thead>\n",
       "    <tr style=\"text-align: right;\">\n",
       "      <th></th>\n",
       "      <th>0</th>\n",
       "    </tr>\n",
       "  </thead>\n",
       "  <tbody>\n",
       "    <tr>\n",
       "      <th>0</th>\n",
       "      <td>Arcanine</td>\n",
       "    </tr>\n",
       "    <tr>\n",
       "      <th>1</th>\n",
       "      <td>Cyndaquil</td>\n",
       "    </tr>\n",
       "    <tr>\n",
       "      <th>2</th>\n",
       "      <td>Blaziken</td>\n",
       "    </tr>\n",
       "    <tr>\n",
       "      <th>3</th>\n",
       "      <td>Camerupt</td>\n",
       "    </tr>\n",
       "    <tr>\n",
       "      <th>4</th>\n",
       "      <td>Infernape</td>\n",
       "    </tr>\n",
       "  </tbody>\n",
       "</table>\n",
       "</div>"
      ],
      "text/plain": [
       "           0\n",
       "0   Arcanine\n",
       "1  Cyndaquil\n",
       "2   Blaziken\n",
       "3   Camerupt\n",
       "4  Infernape"
      ]
     },
     "execution_count": 18,
     "metadata": {},
     "output_type": "execute_result"
    }
   ],
   "source": [
    "# NOT NEEDED\n",
    "firePokemon = pd.DataFrame(firePokemonList)\n",
    "firePokemon.head()"
   ]
  },
  {
   "cell_type": "code",
   "execution_count": 19,
   "metadata": {},
   "outputs": [
    {
     "name": "stdout",
     "output_type": "stream",
     "text": [
      "              0\n",
      "0      Arcanine\n",
      "1     Cyndaquil\n",
      "2      Blaziken\n",
      "3      Camerupt\n",
      "4     Infernape\n",
      "5       Litwick\n",
      "6    Chandelure\n",
      "7       Heatmor\n",
      "8        Ponyta\n",
      "9       Quilava\n",
      "10    Magmortar\n",
      "11       Litleo\n",
      "12       Pyroar\n",
      "13   Charmander\n",
      "14    Charizard\n",
      "15       Slugma\n",
      "16        Magby\n",
      "17  Darmanitan \n",
      "18    Ninetales\n",
      "19      Flareon\n",
      "20     Houndour\n",
      "21      Lampent\n",
      "22     Rapidash\n",
      "23     Houndoom\n",
      "24     Simisear\n",
      "25      Delphox\n",
      "26    Growlithe\n",
      "27    Combusken\n",
      "28      Pignite\n",
      "29      Braixen\n",
      "30  Fletchinder\n",
      "31     Chimchar\n",
      "32     Monferno\n",
      "33     Fennekin\n",
      "34   Charmeleon\n",
      "35       Vulpix\n",
      "36     Magcargo\n",
      "37      Torkoal\n",
      "38       Magmar\n",
      "39      Torchic\n",
      "40        Numel\n",
      "41        Tepig\n",
      "42     Darumaka\n",
      "43   Typhlosion\n",
      "44       Emboar\n",
      "45      Pansear\n",
      "46   Talonflame\n"
     ]
    }
   ],
   "source": [
    "# NOT NEEDED\n",
    "print(firePokemon)"
   ]
  },
  {
   "cell_type": "code",
   "execution_count": 20,
   "metadata": {},
   "outputs": [],
   "source": [
    "# Array that contains only the total stats of fire type Pokemon\n",
    "firePokemonTotalList = []\n",
    "tempPokemonArr = pokemon['Total']\n",
    "for i in range (0, 666): \n",
    "    if (pokemon.iloc[i, 1] != 'Fire'): # type1 is not fire\n",
    "        if(pokemon.iloc[i, 2] != 'Fire'): # type2 is not fire\n",
    "#            del tempPokemonArr[i] # delete entry if it is not a fire type\n",
    "            tempPokemonArr.drop(i)\n",
    "        else:\n",
    "            firePokemonTotalList.append(tempPokemonArr[i]) # add to list if type2 = fire\n",
    "    elif (pokemon.iloc[i, 1] == 'Fire'):\n",
    "        firePokemonTotalList.append(tempPokemonArr[i]) # add to list if type1 = fire"
   ]
  },
  {
   "cell_type": "code",
   "execution_count": 21,
   "metadata": {},
   "outputs": [
    {
     "data": {
      "text/html": [
       "<div>\n",
       "<style scoped>\n",
       "    .dataframe tbody tr th:only-of-type {\n",
       "        vertical-align: middle;\n",
       "    }\n",
       "\n",
       "    .dataframe tbody tr th {\n",
       "        vertical-align: top;\n",
       "    }\n",
       "\n",
       "    .dataframe thead th {\n",
       "        text-align: right;\n",
       "    }\n",
       "</style>\n",
       "<table border=\"1\" class=\"dataframe\">\n",
       "  <thead>\n",
       "    <tr style=\"text-align: right;\">\n",
       "      <th></th>\n",
       "      <th>0</th>\n",
       "    </tr>\n",
       "  </thead>\n",
       "  <tbody>\n",
       "    <tr>\n",
       "      <th>0</th>\n",
       "      <td>555</td>\n",
       "    </tr>\n",
       "    <tr>\n",
       "      <th>1</th>\n",
       "      <td>309</td>\n",
       "    </tr>\n",
       "    <tr>\n",
       "      <th>2</th>\n",
       "      <td>530</td>\n",
       "    </tr>\n",
       "    <tr>\n",
       "      <th>3</th>\n",
       "      <td>460</td>\n",
       "    </tr>\n",
       "    <tr>\n",
       "      <th>4</th>\n",
       "      <td>534</td>\n",
       "    </tr>\n",
       "  </tbody>\n",
       "</table>\n",
       "</div>"
      ],
      "text/plain": [
       "     0\n",
       "0  555\n",
       "1  309\n",
       "2  530\n",
       "3  460\n",
       "4  534"
      ]
     },
     "execution_count": 21,
     "metadata": {},
     "output_type": "execute_result"
    }
   ],
   "source": [
    "firePokemonTotal = pd.DataFrame(firePokemonTotalList)\n",
    "firePokemonTotal.head()"
   ]
  },
  {
   "cell_type": "code",
   "execution_count": 22,
   "metadata": {},
   "outputs": [
    {
     "name": "stdout",
     "output_type": "stream",
     "text": [
      "      0\n",
      "0   555\n",
      "1   309\n",
      "2   530\n",
      "3   460\n",
      "4   534\n",
      "5   275\n",
      "6   520\n",
      "7   484\n",
      "8   410\n",
      "9   405\n",
      "10  540\n",
      "11  369\n",
      "12  507\n",
      "13  309\n",
      "14  534\n",
      "15  250\n",
      "16  365\n",
      "17  480\n",
      "18  505\n",
      "19  525\n",
      "20  330\n",
      "21  370\n",
      "22  500\n",
      "23  500\n",
      "24  498\n",
      "25  534\n",
      "26  350\n",
      "27  405\n",
      "28  418\n",
      "29  409\n",
      "30  382\n",
      "31  309\n",
      "32  405\n",
      "33  307\n",
      "34  405\n",
      "35  299\n",
      "36  410\n",
      "37  470\n",
      "38  495\n",
      "39  310\n",
      "40  305\n",
      "41  308\n",
      "42  315\n",
      "43  534\n",
      "44  528\n",
      "45  316\n",
      "46  499\n"
     ]
    }
   ],
   "source": [
    "print(firePokemonTotal)"
   ]
  },
  {
   "cell_type": "code",
   "execution_count": 23,
   "metadata": {},
   "outputs": [
    {
     "data": {
      "text/plain": [
       "0    555\n",
       "dtype: int64"
      ]
     },
     "execution_count": 23,
     "metadata": {},
     "output_type": "execute_result"
    }
   ],
   "source": [
    "# find the max total stat\n",
    "firePokemonTotal.max()"
   ]
  },
  {
   "cell_type": "code",
   "execution_count": 24,
   "metadata": {},
   "outputs": [
    {
     "name": "stdout",
     "output_type": "stream",
     "text": [
      "Arcanine\n"
     ]
    }
   ],
   "source": [
    "# find pokemon that is a fire type and has the max total stat\n",
    "for i in range (0, 666): \n",
    "    if (pokemon.iloc[i, 1] == 'Fire' or pokemon.iloc[i, 2] == 'Fire'):\n",
    "        if(pokemon.iloc[i, 3] == 555):\n",
    "            print(pokemon.iloc[i, 0])"
   ]
  },
  {
   "cell_type": "code",
   "execution_count": 25,
   "metadata": {},
   "outputs": [
    {
     "data": {
      "text/html": [
       "<div>\n",
       "<style scoped>\n",
       "    .dataframe tbody tr th:only-of-type {\n",
       "        vertical-align: middle;\n",
       "    }\n",
       "\n",
       "    .dataframe tbody tr th {\n",
       "        vertical-align: top;\n",
       "    }\n",
       "\n",
       "    .dataframe thead th {\n",
       "        text-align: right;\n",
       "    }\n",
       "</style>\n",
       "<table border=\"1\" class=\"dataframe\">\n",
       "  <thead>\n",
       "    <tr style=\"text-align: right;\">\n",
       "      <th></th>\n",
       "      <th>0</th>\n",
       "    </tr>\n",
       "  </thead>\n",
       "  <tbody>\n",
       "    <tr>\n",
       "      <th>0</th>\n",
       "      <td>555</td>\n",
       "    </tr>\n",
       "    <tr>\n",
       "      <th>10</th>\n",
       "      <td>540</td>\n",
       "    </tr>\n",
       "    <tr>\n",
       "      <th>4</th>\n",
       "      <td>534</td>\n",
       "    </tr>\n",
       "    <tr>\n",
       "      <th>14</th>\n",
       "      <td>534</td>\n",
       "    </tr>\n",
       "    <tr>\n",
       "      <th>25</th>\n",
       "      <td>534</td>\n",
       "    </tr>\n",
       "    <tr>\n",
       "      <th>43</th>\n",
       "      <td>534</td>\n",
       "    </tr>\n",
       "    <tr>\n",
       "      <th>2</th>\n",
       "      <td>530</td>\n",
       "    </tr>\n",
       "    <tr>\n",
       "      <th>44</th>\n",
       "      <td>528</td>\n",
       "    </tr>\n",
       "    <tr>\n",
       "      <th>19</th>\n",
       "      <td>525</td>\n",
       "    </tr>\n",
       "    <tr>\n",
       "      <th>6</th>\n",
       "      <td>520</td>\n",
       "    </tr>\n",
       "  </tbody>\n",
       "</table>\n",
       "</div>"
      ],
      "text/plain": [
       "      0\n",
       "0   555\n",
       "10  540\n",
       "4   534\n",
       "14  534\n",
       "25  534\n",
       "43  534\n",
       "2   530\n",
       "44  528\n",
       "19  525\n",
       "6   520"
      ]
     },
     "execution_count": 25,
     "metadata": {},
     "output_type": "execute_result"
    }
   ],
   "source": [
    "# find the top 10 largest stats\n",
    "firePokemonTotal.nlargest(10,0)"
   ]
  },
  {
   "cell_type": "code",
   "execution_count": 26,
   "metadata": {},
   "outputs": [],
   "source": [
    "# Array that contains only the total stats of fire type Pokemon\n",
    "firePokemonFinalTotalList = [555, 540, 534, 534, 534, 534, 530, 528, 525, 520]\n",
    "firePokemonFinalList = [firePokemon.iloc[0, 0], firePokemon.iloc[10, 0], firePokemon.iloc[4, 0], firePokemon.iloc[14, 0], firePokemon.iloc[25, 0], firePokemon.iloc[43, 0], firePokemon.iloc[2, 0], firePokemon.iloc[44, 0], firePokemon.iloc[19, 0], firePokemon.iloc[6, 0]]"
   ]
  },
  {
   "cell_type": "code",
   "execution_count": 27,
   "metadata": {},
   "outputs": [
    {
     "data": {
      "text/plain": [
       "<BarContainer object of 10 artists>"
      ]
     },
     "execution_count": 27,
     "metadata": {},
     "output_type": "execute_result"
    },
    {
     "data": {
      "image/png": "[encoded data removed]",
      "text/plain": [
       "<Figure size 432x288 with 1 Axes>"
      ]
     },
     "metadata": {
      "needs_background": "light"
     },
     "output_type": "display_data"
    }
   ],
   "source": [
    "# bar graph for strongest fire pokemon\n",
    "plt.barh(firePokemonFinalList, firePokemonFinalTotalList, color='red')"
   ]
  },
  {
   "cell_type": "code",
   "execution_count": 28,
   "metadata": {},
   "outputs": [],
   "source": [
    "# NOT NEEDED\n",
    "# Array that contains only grass type Pokemon\n",
    "grassPokemonList = []\n",
    "tempGrassPokemonArr = pokemon['Name']\n",
    "for i in range (0, 666): \n",
    "    if (pokemon.iloc[i, 1] != 'Grass'):\n",
    "        if(pokemon.iloc[i, 2] != 'Grass'):\n",
    "#            del tempFirePokemonArr[i]\n",
    "            tempGrassPokemonArr.drop(i)\n",
    "        else:\n",
    "            grassPokemonList.append(tempGrassPokemonArr[i])\n",
    "    elif (pokemon.iloc[i, 1] == 'Grass'):\n",
    "        grassPokemonList.append(tempGrassPokemonArr[i])"
   ]
  },
  {
   "cell_type": "code",
   "execution_count": 29,
   "metadata": {},
   "outputs": [
    {
     "data": {
      "text/html": [
       "<div>\n",
       "<style scoped>\n",
       "    .dataframe tbody tr th:only-of-type {\n",
       "        vertical-align: middle;\n",
       "    }\n",
       "\n",
       "    .dataframe tbody tr th {\n",
       "        vertical-align: top;\n",
       "    }\n",
       "\n",
       "    .dataframe thead th {\n",
       "        text-align: right;\n",
       "    }\n",
       "</style>\n",
       "<table border=\"1\" class=\"dataframe\">\n",
       "  <thead>\n",
       "    <tr style=\"text-align: right;\">\n",
       "      <th></th>\n",
       "      <th>0</th>\n",
       "    </tr>\n",
       "  </thead>\n",
       "  <tbody>\n",
       "    <tr>\n",
       "      <th>0</th>\n",
       "      <td>Weepinbell</td>\n",
       "    </tr>\n",
       "    <tr>\n",
       "      <th>1</th>\n",
       "      <td>Bayleef</td>\n",
       "    </tr>\n",
       "    <tr>\n",
       "      <th>2</th>\n",
       "      <td>Torterra</td>\n",
       "    </tr>\n",
       "    <tr>\n",
       "      <th>3</th>\n",
       "      <td>Cherubi</td>\n",
       "    </tr>\n",
       "    <tr>\n",
       "      <th>4</th>\n",
       "      <td>Pumpkaboo</td>\n",
       "    </tr>\n",
       "  </tbody>\n",
       "</table>\n",
       "</div>"
      ],
      "text/plain": [
       "            0\n",
       "0  Weepinbell\n",
       "1     Bayleef\n",
       "2    Torterra\n",
       "3     Cherubi\n",
       "4   Pumpkaboo"
      ]
     },
     "execution_count": 29,
     "metadata": {},
     "output_type": "execute_result"
    }
   ],
   "source": [
    "# NOT NEEDED\n",
    "grassPokemon = pd.DataFrame(grassPokemonList)\n",
    "grassPokemon.head()"
   ]
  },
  {
   "cell_type": "code",
   "execution_count": 30,
   "metadata": {},
   "outputs": [
    {
     "name": "stdout",
     "output_type": "stream",
     "text": [
      "             0\n",
      "0   Weepinbell\n",
      "1      Bayleef\n",
      "2     Torterra\n",
      "3      Cherubi\n",
      "4    Pumpkaboo\n",
      "5     Parasect\n",
      "6     Skiploom\n",
      "7     Jumpluff\n",
      "8      Tropius\n",
      "9       Grotle\n",
      "10     Cherrim\n",
      "11   Tangrowth\n",
      "12       Paras\n",
      "13     Cradily\n",
      "14    Leavanny\n",
      "15   Gourgeist\n",
      "16  Victreebel\n",
      "17       Budew\n",
      "18    Roserade\n",
      "19   Serperior\n",
      "20     Pansage\n",
      "21    Swadloon\n",
      "22   Quilladin\n",
      "23       Gloom\n",
      "24    Sunflora\n",
      "25     Nuzleaf\n",
      "26      Cacnea\n",
      "27   Carnivine\n",
      "28      Skiddo\n",
      "29      Gogoat\n",
      "..         ...\n",
      "51     Foongus\n",
      "52   Bulbasaur\n",
      "53    Venusaur\n",
      "54     Sunkern\n",
      "55    Sceptile\n",
      "56      Seedot\n",
      "57    Cacturne\n",
      "58   Abomasnow\n",
      "59    Cottonee\n",
      "60     Petilil\n",
      "61    Deerling\n",
      "62     Ivysaur\n",
      "63   Bellossom\n",
      "64     Grovyle\n",
      "65    Wormadam\n",
      "66     Leafeon\n",
      "67    Sewaddle\n",
      "68   Trevenant\n",
      "69   Vileplume\n",
      "70   Exeggcute\n",
      "71   Exeggutor\n",
      "72     Tangela\n",
      "73   Chikorita\n",
      "74     Turtwig\n",
      "75  Whimsicott\n",
      "76    Ludicolo\n",
      "77      Lileep\n",
      "78   Lilligant\n",
      "79    Sawsbuck\n",
      "80   Amoonguss\n",
      "\n",
      "[81 rows x 1 columns]\n"
     ]
    }
   ],
   "source": [
    "print(grassPokemon)"
   ]
  },
  {
   "cell_type": "code",
   "execution_count": 31,
   "metadata": {},
   "outputs": [],
   "source": [
    "# Array that contains only the total stats of grass type Pokemon\n",
    "grassPokemonTotalList = []\n",
    "tempPokemonArr = pokemon['Total']\n",
    "for i in range (0, 666): \n",
    "    if (pokemon.iloc[i, 1] != 'Grass'): # type1 is not grass\n",
    "        if(pokemon.iloc[i, 2] != 'Grass'): # type2 is not grass\n",
    "#            del tempPokemonArr[i] # delete entry if it is not a grass type\n",
    "            tempPokemonArr.drop(i)\n",
    "        else:\n",
    "            grassPokemonTotalList.append(tempPokemonArr[i]) # add to list if type2 = grass\n",
    "    elif (pokemon.iloc[i, 1] == 'Grass'):\n",
    "        grassPokemonTotalList.append(tempPokemonArr[i]) # add to list if type1 = grass"
   ]
  },
  {
   "cell_type": "code",
   "execution_count": 32,
   "metadata": {},
   "outputs": [
    {
     "data": {
      "text/html": [
       "<div>\n",
       "<style scoped>\n",
       "    .dataframe tbody tr th:only-of-type {\n",
       "        vertical-align: middle;\n",
       "    }\n",
       "\n",
       "    .dataframe tbody tr th {\n",
       "        vertical-align: top;\n",
       "    }\n",
       "\n",
       "    .dataframe thead th {\n",
       "        text-align: right;\n",
       "    }\n",
       "</style>\n",
       "<table border=\"1\" class=\"dataframe\">\n",
       "  <thead>\n",
       "    <tr style=\"text-align: right;\">\n",
       "      <th></th>\n",
       "      <th>0</th>\n",
       "    </tr>\n",
       "  </thead>\n",
       "  <tbody>\n",
       "    <tr>\n",
       "      <th>0</th>\n",
       "      <td>390</td>\n",
       "    </tr>\n",
       "    <tr>\n",
       "      <th>1</th>\n",
       "      <td>405</td>\n",
       "    </tr>\n",
       "    <tr>\n",
       "      <th>2</th>\n",
       "      <td>525</td>\n",
       "    </tr>\n",
       "    <tr>\n",
       "      <th>3</th>\n",
       "      <td>275</td>\n",
       "    </tr>\n",
       "    <tr>\n",
       "      <th>4</th>\n",
       "      <td>335</td>\n",
       "    </tr>\n",
       "  </tbody>\n",
       "</table>\n",
       "</div>"
      ],
      "text/plain": [
       "     0\n",
       "0  390\n",
       "1  405\n",
       "2  525\n",
       "3  275\n",
       "4  335"
      ]
     },
     "execution_count": 32,
     "metadata": {},
     "output_type": "execute_result"
    }
   ],
   "source": [
    "grassPokemonTotal = pd.DataFrame(grassPokemonTotalList)\n",
    "grassPokemonTotal.head()"
   ]
  },
  {
   "cell_type": "code",
   "execution_count": 33,
   "metadata": {},
   "outputs": [
    {
     "name": "stdout",
     "output_type": "stream",
     "text": [
      "      0\n",
      "0   390\n",
      "1   405\n",
      "2   525\n",
      "3   275\n",
      "4   335\n",
      "5   405\n",
      "6   340\n",
      "7   460\n",
      "8   460\n",
      "9   405\n",
      "10  450\n",
      "11  535\n",
      "12  285\n",
      "13  495\n",
      "14  500\n",
      "15  494\n",
      "16  490\n",
      "17  280\n",
      "18  515\n",
      "19  528\n",
      "20  316\n",
      "21  380\n",
      "22  405\n",
      "23  395\n",
      "24  425\n",
      "25  340\n",
      "26  335\n",
      "27  454\n",
      "28  350\n",
      "29  531\n",
      "..  ...\n",
      "51  294\n",
      "52  318\n",
      "53  525\n",
      "54  180\n",
      "55  530\n",
      "56  220\n",
      "57  475\n",
      "58  494\n",
      "59  280\n",
      "60  280\n",
      "61  335\n",
      "62  405\n",
      "63  490\n",
      "64  405\n",
      "65  424\n",
      "66  525\n",
      "67  310\n",
      "68  474\n",
      "69  490\n",
      "70  325\n",
      "71  520\n",
      "72  435\n",
      "73  318\n",
      "74  318\n",
      "75  480\n",
      "76  480\n",
      "77  355\n",
      "78  480\n",
      "79  475\n",
      "80  464\n",
      "\n",
      "[81 rows x 1 columns]\n"
     ]
    }
   ],
   "source": [
    "print(grassPokemonTotal)"
   ]
  },
  {
   "cell_type": "code",
   "execution_count": 34,
   "metadata": {},
   "outputs": [
    {
     "data": {
      "text/plain": [
       "0    535\n",
       "dtype: int64"
      ]
     },
     "execution_count": 34,
     "metadata": {},
     "output_type": "execute_result"
    }
   ],
   "source": [
    "# find the max total stat\n",
    "grassPokemonTotal.max()"
   ]
  },
  {
   "cell_type": "code",
   "execution_count": 35,
   "metadata": {},
   "outputs": [
    {
     "name": "stdout",
     "output_type": "stream",
     "text": [
      "Tangrowth\n"
     ]
    }
   ],
   "source": [
    "# find pokemon that is a grass type and has the max total stat\n",
    "for i in range (0, 666): \n",
    "    if (pokemon.iloc[i, 1] == 'Grass' or pokemon.iloc[i, 2] == 'Grass'):\n",
    "        if(pokemon.iloc[i, 3] == 535):\n",
    "            print(pokemon.iloc[i, 0])"
   ]
  },
  {
   "cell_type": "code",
   "execution_count": 36,
   "metadata": {},
   "outputs": [
    {
     "data": {
      "text/html": [
       "<div>\n",
       "<style scoped>\n",
       "    .dataframe tbody tr th:only-of-type {\n",
       "        vertical-align: middle;\n",
       "    }\n",
       "\n",
       "    .dataframe tbody tr th {\n",
       "        vertical-align: top;\n",
       "    }\n",
       "\n",
       "    .dataframe thead th {\n",
       "        text-align: right;\n",
       "    }\n",
       "</style>\n",
       "<table border=\"1\" class=\"dataframe\">\n",
       "  <thead>\n",
       "    <tr style=\"text-align: right;\">\n",
       "      <th></th>\n",
       "      <th>0</th>\n",
       "    </tr>\n",
       "  </thead>\n",
       "  <tbody>\n",
       "    <tr>\n",
       "      <th>11</th>\n",
       "      <td>535</td>\n",
       "    </tr>\n",
       "    <tr>\n",
       "      <th>29</th>\n",
       "      <td>531</td>\n",
       "    </tr>\n",
       "    <tr>\n",
       "      <th>38</th>\n",
       "      <td>530</td>\n",
       "    </tr>\n",
       "    <tr>\n",
       "      <th>55</th>\n",
       "      <td>530</td>\n",
       "    </tr>\n",
       "    <tr>\n",
       "      <th>19</th>\n",
       "      <td>528</td>\n",
       "    </tr>\n",
       "    <tr>\n",
       "      <th>2</th>\n",
       "      <td>525</td>\n",
       "    </tr>\n",
       "    <tr>\n",
       "      <th>41</th>\n",
       "      <td>525</td>\n",
       "    </tr>\n",
       "    <tr>\n",
       "      <th>53</th>\n",
       "      <td>525</td>\n",
       "    </tr>\n",
       "    <tr>\n",
       "      <th>66</th>\n",
       "      <td>525</td>\n",
       "    </tr>\n",
       "    <tr>\n",
       "      <th>71</th>\n",
       "      <td>520</td>\n",
       "    </tr>\n",
       "  </tbody>\n",
       "</table>\n",
       "</div>"
      ],
      "text/plain": [
       "      0\n",
       "11  535\n",
       "29  531\n",
       "38  530\n",
       "55  530\n",
       "19  528\n",
       "2   525\n",
       "41  525\n",
       "53  525\n",
       "66  525\n",
       "71  520"
      ]
     },
     "execution_count": 36,
     "metadata": {},
     "output_type": "execute_result"
    }
   ],
   "source": [
    "# find the top 10 largest stats\n",
    "grassPokemonTotal.nlargest(10,0)"
   ]
  },
  {
   "cell_type": "code",
   "execution_count": 37,
   "metadata": {},
   "outputs": [],
   "source": [
    "# Array that contains only the total stats of grass type Pokemon\n",
    "grassPokemonFinalTotalList = [535, 531, 530, 530, 528, 525, 525, 525, 525, 520]\n",
    "grassPokemonFinalList = [grassPokemon.iloc[11, 0], grassPokemon.iloc[29, 0], grassPokemon.iloc[38, 0], grassPokemon.iloc[55, 0], grassPokemon.iloc[19, 0], grassPokemon.iloc[2, 0], grassPokemon.iloc[41, 0], grassPokemon.iloc[53, 0], grassPokemon.iloc[66, 0], grassPokemon.iloc[71, 0]]"
   ]
  },
  {
   "cell_type": "code",
   "execution_count": 38,
   "metadata": {},
   "outputs": [
    {
     "data": {
      "text/plain": [
       "<BarContainer object of 10 artists>"
      ]
     },
     "execution_count": 38,
     "metadata": {},
     "output_type": "execute_result"
    },
    {
     "data": {
      "image/png": "[encoded data removed]",
      "text/plain": [
       "<Figure size 432x288 with 1 Axes>"
      ]
     },
     "metadata": {
      "needs_background": "light"
     },
     "output_type": "display_data"
    }
   ],
   "source": [
    "# bar graph for strongest grass pokemon\n",
    "plt.barh(grassPokemonFinalList, grassPokemonFinalTotalList, color='green')"
   ]
  },
  {
   "cell_type": "code",
   "execution_count": 39,
   "metadata": {},
   "outputs": [],
   "source": [
    "# NOT NEEDED\n",
    "# Array that contains only bug type Pokemon\n",
    "bugPokemonList = []\n",
    "tempBugPokemonArr = pokemon['Name']\n",
    "for i in range (0, 666): \n",
    "    if (pokemon.iloc[i, 1] != 'Bug'):\n",
    "        if(pokemon.iloc[i, 2] != 'Bug'):\n",
    "#            del tempFirePokemonArr[i]\n",
    "            tempBugPokemonArr.drop(i)\n",
    "        else:\n",
    "            bugPokemonList.append(tempBugPokemonArr[i])\n",
    "    elif (pokemon.iloc[i, 1] == 'Bug'):\n",
    "        bugPokemonList.append(tempBugPokemonArr[i])"
   ]
  },
  {
   "cell_type": "code",
   "execution_count": 40,
   "metadata": {},
   "outputs": [
    {
     "data": {
      "text/html": [
       "<div>\n",
       "<style scoped>\n",
       "    .dataframe tbody tr th:only-of-type {\n",
       "        vertical-align: middle;\n",
       "    }\n",
       "\n",
       "    .dataframe tbody tr th {\n",
       "        vertical-align: top;\n",
       "    }\n",
       "\n",
       "    .dataframe thead th {\n",
       "        text-align: right;\n",
       "    }\n",
       "</style>\n",
       "<table border=\"1\" class=\"dataframe\">\n",
       "  <thead>\n",
       "    <tr style=\"text-align: right;\">\n",
       "      <th></th>\n",
       "      <th>0</th>\n",
       "    </tr>\n",
       "  </thead>\n",
       "  <tbody>\n",
       "    <tr>\n",
       "      <th>0</th>\n",
       "      <td>Heracross</td>\n",
       "    </tr>\n",
       "    <tr>\n",
       "      <th>1</th>\n",
       "      <td>Escavalier</td>\n",
       "    </tr>\n",
       "    <tr>\n",
       "      <th>2</th>\n",
       "      <td>Accelgor</td>\n",
       "    </tr>\n",
       "    <tr>\n",
       "      <th>3</th>\n",
       "      <td>Scatterbug</td>\n",
       "    </tr>\n",
       "    <tr>\n",
       "      <th>4</th>\n",
       "      <td>Parasect</td>\n",
       "    </tr>\n",
       "  </tbody>\n",
       "</table>\n",
       "</div>"
      ],
      "text/plain": [
       "            0\n",
       "0   Heracross\n",
       "1  Escavalier\n",
       "2    Accelgor\n",
       "3  Scatterbug\n",
       "4    Parasect"
      ]
     },
     "execution_count": 40,
     "metadata": {},
     "output_type": "execute_result"
    }
   ],
   "source": [
    "# NOT NEEDED\n",
    "bugPokemon = pd.DataFrame(bugPokemonList)\n",
    "bugPokemon.head()"
   ]
  },
  {
   "cell_type": "code",
   "execution_count": 41,
   "metadata": {},
   "outputs": [
    {
     "name": "stdout",
     "output_type": "stream",
     "text": [
      "             0\n",
      "0    Heracross\n",
      "1   Escavalier\n",
      "2     Accelgor\n",
      "3   Scatterbug\n",
      "4     Parasect\n",
      "5   Forretress\n",
      "6      Cascoon\n",
      "7      Skorupi\n",
      "8      Yanmega\n",
      "9     Caterpie\n",
      "10      Weedle\n",
      "11      Kakuna\n",
      "12       Paras\n",
      "13     Venonat\n",
      "14    Venomoth\n",
      "15       Yanma\n",
      "16    Leavanny\n",
      "17     Crustle\n",
      "18  Karrablast\n",
      "19  Galvantula\n",
      "20      Spewpa\n",
      "21      Pinsir\n",
      "22     Silcoon\n",
      "23       Burmy\n",
      "24    Swadloon\n",
      "25  Butterfree\n",
      "26      Ledyba\n",
      "27      Ledian\n",
      "28  Masquerain\n",
      "29    Illumise\n",
      "..         ...\n",
      "33  Kricketune\n",
      "34      Combee\n",
      "35   Vespiquen\n",
      "36    Beedrill\n",
      "37     Surskit\n",
      "38     Nincada\n",
      "39   Kricketot\n",
      "40      Durant\n",
      "41    Spinarak\n",
      "42     Wurmple\n",
      "43     Ninjask\n",
      "44    Shedinja\n",
      "45     Volbeat\n",
      "46     Dwebble\n",
      "47      Dustox\n",
      "48    Wormadam\n",
      "49    Sewaddle\n",
      "50    Venipede\n",
      "51      Joltik\n",
      "52     Shelmet\n",
      "53    Vivillon\n",
      "54     Scyther\n",
      "55     Ariados\n",
      "56     Shuckle\n",
      "57     Armaldo\n",
      "58   Scolipede\n",
      "59     Metapod\n",
      "60      Pineco\n",
      "61   Beautifly\n",
      "62  Whirlipede\n",
      "\n",
      "[63 rows x 1 columns]\n"
     ]
    }
   ],
   "source": [
    "print(bugPokemon)"
   ]
  },
  {
   "cell_type": "code",
   "execution_count": 42,
   "metadata": {},
   "outputs": [],
   "source": [
    "# Array that contains only the total stats of bug type Pokemon\n",
    "bugPokemonTotalList = []\n",
    "tempPokemonArr = pokemon['Total']\n",
    "for i in range (0, 666): \n",
    "    if (pokemon.iloc[i, 1] != 'Bug'): # type1 is not bug\n",
    "        if(pokemon.iloc[i, 2] != 'Bug'): # type2 is not bug\n",
    "#            del tempPokemonArr[i] # delete entry if it is not a bug type\n",
    "            tempPokemonArr.drop(i)\n",
    "        else:\n",
    "            bugPokemonTotalList.append(tempPokemonArr[i]) # add to list if type2 = bug\n",
    "    elif (pokemon.iloc[i, 1] == 'Bug'):\n",
    "        bugPokemonTotalList.append(tempPokemonArr[i]) # add to list if type1 = bug"
   ]
  },
  {
   "cell_type": "code",
   "execution_count": 43,
   "metadata": {},
   "outputs": [
    {
     "data": {
      "text/html": [
       "<div>\n",
       "<style scoped>\n",
       "    .dataframe tbody tr th:only-of-type {\n",
       "        vertical-align: middle;\n",
       "    }\n",
       "\n",
       "    .dataframe tbody tr th {\n",
       "        vertical-align: top;\n",
       "    }\n",
       "\n",
       "    .dataframe thead th {\n",
       "        text-align: right;\n",
       "    }\n",
       "</style>\n",
       "<table border=\"1\" class=\"dataframe\">\n",
       "  <thead>\n",
       "    <tr style=\"text-align: right;\">\n",
       "      <th></th>\n",
       "      <th>0</th>\n",
       "    </tr>\n",
       "  </thead>\n",
       "  <tbody>\n",
       "    <tr>\n",
       "      <th>0</th>\n",
       "      <td>500</td>\n",
       "    </tr>\n",
       "    <tr>\n",
       "      <th>1</th>\n",
       "      <td>495</td>\n",
       "    </tr>\n",
       "    <tr>\n",
       "      <th>2</th>\n",
       "      <td>495</td>\n",
       "    </tr>\n",
       "    <tr>\n",
       "      <th>3</th>\n",
       "      <td>200</td>\n",
       "    </tr>\n",
       "    <tr>\n",
       "      <th>4</th>\n",
       "      <td>405</td>\n",
       "    </tr>\n",
       "  </tbody>\n",
       "</table>\n",
       "</div>"
      ],
      "text/plain": [
       "     0\n",
       "0  500\n",
       "1  495\n",
       "2  495\n",
       "3  200\n",
       "4  405"
      ]
     },
     "execution_count": 43,
     "metadata": {},
     "output_type": "execute_result"
    }
   ],
   "source": [
    "bugPokemonTotal = pd.DataFrame(bugPokemonTotalList)\n",
    "bugPokemonTotal.head()"
   ]
  },
  {
   "cell_type": "code",
   "execution_count": 44,
   "metadata": {},
   "outputs": [
    {
     "name": "stdout",
     "output_type": "stream",
     "text": [
      "      0\n",
      "0   500\n",
      "1   495\n",
      "2   495\n",
      "3   200\n",
      "4   405\n",
      "5   465\n",
      "6   205\n",
      "7   330\n",
      "8   515\n",
      "9   195\n",
      "10  195\n",
      "11  205\n",
      "12  285\n",
      "13  305\n",
      "14  450\n",
      "15  390\n",
      "16  500\n",
      "17  475\n",
      "18  315\n",
      "19  472\n",
      "20  213\n",
      "21  500\n",
      "22  205\n",
      "23  224\n",
      "24  380\n",
      "25  395\n",
      "26  265\n",
      "27  390\n",
      "28  414\n",
      "29  400\n",
      "..  ...\n",
      "33  384\n",
      "34  244\n",
      "35  474\n",
      "36  395\n",
      "37  269\n",
      "38  266\n",
      "39  194\n",
      "40  484\n",
      "41  250\n",
      "42  195\n",
      "43  456\n",
      "44  236\n",
      "45  400\n",
      "46  325\n",
      "47  385\n",
      "48  424\n",
      "49  310\n",
      "50  260\n",
      "51  319\n",
      "52  305\n",
      "53  411\n",
      "54  500\n",
      "55  390\n",
      "56  505\n",
      "57  495\n",
      "58  485\n",
      "59  205\n",
      "60  290\n",
      "61  395\n",
      "62  360\n",
      "\n",
      "[63 rows x 1 columns]\n"
     ]
    }
   ],
   "source": [
    "print(bugPokemonTotal)"
   ]
  },
  {
   "cell_type": "code",
   "execution_count": 45,
   "metadata": {},
   "outputs": [
    {
     "data": {
      "text/plain": [
       "0    515\n",
       "dtype: int64"
      ]
     },
     "execution_count": 45,
     "metadata": {},
     "output_type": "execute_result"
    }
   ],
   "source": [
    "# find the max total stat\n",
    "bugPokemonTotal.max()"
   ]
  },
  {
   "cell_type": "code",
   "execution_count": 46,
   "metadata": {},
   "outputs": [
    {
     "name": "stdout",
     "output_type": "stream",
     "text": [
      "Yanmega\n"
     ]
    }
   ],
   "source": [
    "# find pokemon that is a bug type and has the max total stat\n",
    "for i in range (0, 666): \n",
    "    if (pokemon.iloc[i, 1] == 'Bug' or pokemon.iloc[i, 2] == 'Bug'):\n",
    "        if(pokemon.iloc[i, 3] == 515):\n",
    "            print(pokemon.iloc[i, 0])"
   ]
  },
  {
   "cell_type": "code",
   "execution_count": 47,
   "metadata": {},
   "outputs": [
    {
     "data": {
      "text/html": [
       "<div>\n",
       "<style scoped>\n",
       "    .dataframe tbody tr th:only-of-type {\n",
       "        vertical-align: middle;\n",
       "    }\n",
       "\n",
       "    .dataframe tbody tr th {\n",
       "        vertical-align: top;\n",
       "    }\n",
       "\n",
       "    .dataframe thead th {\n",
       "        text-align: right;\n",
       "    }\n",
       "</style>\n",
       "<table border=\"1\" class=\"dataframe\">\n",
       "  <thead>\n",
       "    <tr style=\"text-align: right;\">\n",
       "      <th></th>\n",
       "      <th>0</th>\n",
       "    </tr>\n",
       "  </thead>\n",
       "  <tbody>\n",
       "    <tr>\n",
       "      <th>8</th>\n",
       "      <td>515</td>\n",
       "    </tr>\n",
       "    <tr>\n",
       "      <th>56</th>\n",
       "      <td>505</td>\n",
       "    </tr>\n",
       "    <tr>\n",
       "      <th>0</th>\n",
       "      <td>500</td>\n",
       "    </tr>\n",
       "    <tr>\n",
       "      <th>16</th>\n",
       "      <td>500</td>\n",
       "    </tr>\n",
       "    <tr>\n",
       "      <th>21</th>\n",
       "      <td>500</td>\n",
       "    </tr>\n",
       "    <tr>\n",
       "      <th>32</th>\n",
       "      <td>500</td>\n",
       "    </tr>\n",
       "    <tr>\n",
       "      <th>54</th>\n",
       "      <td>500</td>\n",
       "    </tr>\n",
       "    <tr>\n",
       "      <th>1</th>\n",
       "      <td>495</td>\n",
       "    </tr>\n",
       "    <tr>\n",
       "      <th>2</th>\n",
       "      <td>495</td>\n",
       "    </tr>\n",
       "    <tr>\n",
       "      <th>57</th>\n",
       "      <td>495</td>\n",
       "    </tr>\n",
       "  </tbody>\n",
       "</table>\n",
       "</div>"
      ],
      "text/plain": [
       "      0\n",
       "8   515\n",
       "56  505\n",
       "0   500\n",
       "16  500\n",
       "21  500\n",
       "32  500\n",
       "54  500\n",
       "1   495\n",
       "2   495\n",
       "57  495"
      ]
     },
     "execution_count": 47,
     "metadata": {},
     "output_type": "execute_result"
    }
   ],
   "source": [
    "# find the top 10 largest stats\n",
    "bugPokemonTotal.nlargest(10,0)"
   ]
  },
  {
   "cell_type": "code",
   "execution_count": 48,
   "metadata": {},
   "outputs": [],
   "source": [
    "# Array that contains only the total stats of bug type Pokemon\n",
    "bugPokemonFinalTotalList = [515, 505, 500, 500, 500, 500, 500, 495, 495, 495]\n",
    "bugPokemonFinalList = [bugPokemon.iloc[8, 0], bugPokemon.iloc[56, 0], bugPokemon.iloc[0, 0], bugPokemon.iloc[16, 0], bugPokemon.iloc[21, 0], bugPokemon.iloc[32, 0], bugPokemon.iloc[54, 0], bugPokemon.iloc[1, 0], bugPokemon.iloc[2, 0], bugPokemon.iloc[57, 0]]"
   ]
  },
  {
   "cell_type": "code",
   "execution_count": 49,
   "metadata": {},
   "outputs": [
    {
     "data": {
      "text/plain": [
       "<BarContainer object of 10 artists>"
      ]
     },
     "execution_count": 49,
     "metadata": {},
     "output_type": "execute_result"
    },
    {
     "data": {
      "image/png": "[encoded data removed]",
      "text/plain": [
       "<Figure size 432x288 with 1 Axes>"
      ]
     },
     "metadata": {
      "needs_background": "light"
     },
     "output_type": "display_data"
    }
   ],
   "source": [
    "# bar graph for strongest bug pokemon\n",
    "plt.barh(bugPokemonFinalList, bugPokemonFinalTotalList, color='yellowgreen')"
   ]
  },
  {
   "cell_type": "code",
   "execution_count": 50,
   "metadata": {},
   "outputs": [],
   "source": [
    "# NOT NEEDED\n",
    "# Array that contains only normal type Pokemon\n",
    "normalPokemonList = []\n",
    "tempNormalPokemonArr = pokemon['Name']\n",
    "for i in range (0, 666): \n",
    "    if (pokemon.iloc[i, 1] != 'Normal'):\n",
    "        if(pokemon.iloc[i, 2] != 'Normal'):\n",
    "#            del tempFirePokemonArr[i]\n",
    "            tempNormalPokemonArr.drop(i)\n",
    "        else:\n",
    "            normalPokemonList.append(tempNormalPokemonArr[i])\n",
    "    elif (pokemon.iloc[i, 1] == 'Normal'):\n",
    "        normalPokemonList.append(tempNormalPokemonArr[i])"
   ]
  },
  {
   "cell_type": "code",
   "execution_count": 51,
   "metadata": {},
   "outputs": [
    {
     "data": {
      "text/html": [
       "<div>\n",
       "<style scoped>\n",
       "    .dataframe tbody tr th:only-of-type {\n",
       "        vertical-align: middle;\n",
       "    }\n",
       "\n",
       "    .dataframe tbody tr th {\n",
       "        vertical-align: top;\n",
       "    }\n",
       "\n",
       "    .dataframe thead th {\n",
       "        text-align: right;\n",
       "    }\n",
       "</style>\n",
       "<table border=\"1\" class=\"dataframe\">\n",
       "  <thead>\n",
       "    <tr style=\"text-align: right;\">\n",
       "      <th></th>\n",
       "      <th>0</th>\n",
       "    </tr>\n",
       "  </thead>\n",
       "  <tbody>\n",
       "    <tr>\n",
       "      <th>0</th>\n",
       "      <td>Rattata</td>\n",
       "    </tr>\n",
       "    <tr>\n",
       "      <th>1</th>\n",
       "      <td>Dunsparce</td>\n",
       "    </tr>\n",
       "    <tr>\n",
       "      <th>2</th>\n",
       "      <td>Zigzagoon</td>\n",
       "    </tr>\n",
       "    <tr>\n",
       "      <th>3</th>\n",
       "      <td>Slaking</td>\n",
       "    </tr>\n",
       "    <tr>\n",
       "      <th>4</th>\n",
       "      <td>Azurill</td>\n",
       "    </tr>\n",
       "  </tbody>\n",
       "</table>\n",
       "</div>"
      ],
      "text/plain": [
       "           0\n",
       "0    Rattata\n",
       "1  Dunsparce\n",
       "2  Zigzagoon\n",
       "3    Slaking\n",
       "4    Azurill"
      ]
     },
     "execution_count": 51,
     "metadata": {},
     "output_type": "execute_result"
    }
   ],
   "source": [
    "# NOT NEEDED\n",
    "normalPokemon = pd.DataFrame(normalPokemonList)\n",
    "normalPokemon.head()"
   ]
  },
  {
   "cell_type": "code",
   "execution_count": 52,
   "metadata": {},
   "outputs": [
    {
     "name": "stdout",
     "output_type": "stream",
     "text": [
      "             0\n",
      "0      Rattata\n",
      "1    Dunsparce\n",
      "2    Zigzagoon\n",
      "3      Slaking\n",
      "4      Azurill\n",
      "5      Lopunny\n",
      "6    Stoutland\n",
      "7     Unfezant\n",
      "8    Pidgeotto\n",
      "9       Tauros\n",
      "10    Hoothoot\n",
      "11       Aipom\n",
      "12   Girafarig\n",
      "13     Swellow\n",
      "14     Slakoth\n",
      "15     Whismur\n",
      "16    Castform\n",
      "17    Staravia\n",
      "18     Glameow\n",
      "19   Diggersby\n",
      "20      Meowth\n",
      "21      Dodrio\n",
      "22     Chansey\n",
      "23       Eevee\n",
      "24    Smeargle\n",
      "25     Kecleon\n",
      "26     Ambipom\n",
      "27  Bouffalant\n",
      "28      Litleo\n",
      "29      Pyroar\n",
      "..         ...\n",
      "64      Skitty\n",
      "65      Starly\n",
      "66   Porygon-Z\n",
      "67    Minccino\n",
      "68     Spearow\n",
      "69  Farfetch'd\n",
      "70  Kangaskhan\n",
      "71     Sentret\n",
      "72    Deerling\n",
      "73  Fletchling\n",
      "74    Raticate\n",
      "75     Buneary\n",
      "76     Pidgeot\n",
      "77   Lickitung\n",
      "78     Linoone\n",
      "79     Bibarel\n",
      "80  Lickilicky\n",
      "81    Cinccino\n",
      "82      Pidgey\n",
      "83      Fearow\n",
      "84       Ditto\n",
      "85   Igglybuff\n",
      "86   Teddiursa\n",
      "87     Blissey\n",
      "88     Exploud\n",
      "89    Zangoose\n",
      "90   Staraptor\n",
      "91     Purugly\n",
      "92    Lillipup\n",
      "93    Sawsbuck\n",
      "\n",
      "[94 rows x 1 columns]\n"
     ]
    }
   ],
   "source": [
    "print(normalPokemon)"
   ]
  },
  {
   "cell_type": "code",
   "execution_count": 53,
   "metadata": {},
   "outputs": [],
   "source": [
    "# Array that contains only the total stats of normal type Pokemon\n",
    "normalPokemonTotalList = []\n",
    "tempPokemonArr = pokemon['Total']\n",
    "for i in range (0, 666): \n",
    "    if (pokemon.iloc[i, 1] != 'Normal'): # type1 is not normal\n",
    "        if(pokemon.iloc[i, 2] != 'Normal'): # type2 is not normal\n",
    "#            del tempPokemonArr[i] # delete entry if it is not a normal type\n",
    "            tempPokemonArr.drop(i)\n",
    "        else:\n",
    "            normalPokemonTotalList.append(tempPokemonArr[i]) # add to list if type2 = normal\n",
    "    elif (pokemon.iloc[i, 1] == 'Normal'):\n",
    "        normalPokemonTotalList.append(tempPokemonArr[i]) # add to list if type1 = normal"
   ]
  },
  {
   "cell_type": "code",
   "execution_count": 54,
   "metadata": {},
   "outputs": [
    {
     "data": {
      "text/html": [
       "<div>\n",
       "<style scoped>\n",
       "    .dataframe tbody tr th:only-of-type {\n",
       "        vertical-align: middle;\n",
       "    }\n",
       "\n",
       "    .dataframe tbody tr th {\n",
       "        vertical-align: top;\n",
       "    }\n",
       "\n",
       "    .dataframe thead th {\n",
       "        text-align: right;\n",
       "    }\n",
       "</style>\n",
       "<table border=\"1\" class=\"dataframe\">\n",
       "  <thead>\n",
       "    <tr style=\"text-align: right;\">\n",
       "      <th></th>\n",
       "      <th>0</th>\n",
       "    </tr>\n",
       "  </thead>\n",
       "  <tbody>\n",
       "    <tr>\n",
       "      <th>0</th>\n",
       "      <td>253</td>\n",
       "    </tr>\n",
       "    <tr>\n",
       "      <th>1</th>\n",
       "      <td>415</td>\n",
       "    </tr>\n",
       "    <tr>\n",
       "      <th>2</th>\n",
       "      <td>240</td>\n",
       "    </tr>\n",
       "    <tr>\n",
       "      <th>3</th>\n",
       "      <td>670</td>\n",
       "    </tr>\n",
       "    <tr>\n",
       "      <th>4</th>\n",
       "      <td>190</td>\n",
       "    </tr>\n",
       "  </tbody>\n",
       "</table>\n",
       "</div>"
      ],
      "text/plain": [
       "     0\n",
       "0  253\n",
       "1  415\n",
       "2  240\n",
       "3  670\n",
       "4  190"
      ]
     },
     "execution_count": 54,
     "metadata": {},
     "output_type": "execute_result"
    }
   ],
   "source": [
    "normalPokemonTotal = pd.DataFrame(normalPokemonTotalList)\n",
    "normalPokemonTotal.head()"
   ]
  },
  {
   "cell_type": "code",
   "execution_count": 55,
   "metadata": {},
   "outputs": [
    {
     "name": "stdout",
     "output_type": "stream",
     "text": [
      "      0\n",
      "0   500\n",
      "1   495\n",
      "2   495\n",
      "3   200\n",
      "4   405\n",
      "5   465\n",
      "6   205\n",
      "7   330\n",
      "8   515\n",
      "9   195\n",
      "10  195\n",
      "11  205\n",
      "12  285\n",
      "13  305\n",
      "14  450\n",
      "15  390\n",
      "16  500\n",
      "17  475\n",
      "18  315\n",
      "19  472\n",
      "20  213\n",
      "21  500\n",
      "22  205\n",
      "23  224\n",
      "24  380\n",
      "25  395\n",
      "26  265\n",
      "27  390\n",
      "28  414\n",
      "29  400\n",
      "..  ...\n",
      "33  384\n",
      "34  244\n",
      "35  474\n",
      "36  395\n",
      "37  269\n",
      "38  266\n",
      "39  194\n",
      "40  484\n",
      "41  250\n",
      "42  195\n",
      "43  456\n",
      "44  236\n",
      "45  400\n",
      "46  325\n",
      "47  385\n",
      "48  424\n",
      "49  310\n",
      "50  260\n",
      "51  319\n",
      "52  305\n",
      "53  411\n",
      "54  500\n",
      "55  390\n",
      "56  505\n",
      "57  495\n",
      "58  485\n",
      "59  205\n",
      "60  290\n",
      "61  395\n",
      "62  360\n",
      "\n",
      "[63 rows x 1 columns]\n"
     ]
    }
   ],
   "source": [
    "print(bugPokemonTotal)"
   ]
  },
  {
   "cell_type": "code",
   "execution_count": 56,
   "metadata": {},
   "outputs": [
    {
     "data": {
      "text/plain": [
       "0    670\n",
       "dtype: int64"
      ]
     },
     "execution_count": 56,
     "metadata": {},
     "output_type": "execute_result"
    }
   ],
   "source": [
    "# find the max total stat\n",
    "normalPokemonTotal.max()"
   ]
  },
  {
   "cell_type": "code",
   "execution_count": 57,
   "metadata": {},
   "outputs": [
    {
     "name": "stdout",
     "output_type": "stream",
     "text": [
      "Slaking\n"
     ]
    }
   ],
   "source": [
    "# find pokemon that is a normal type and has the max total stat\n",
    "for i in range (0, 666): \n",
    "    if (pokemon.iloc[i, 1] == 'Normal' or pokemon.iloc[i, 2] == 'Normal'):\n",
    "        if(pokemon.iloc[i, 3] == 670):\n",
    "            print(pokemon.iloc[i, 0])"
   ]
  },
  {
   "cell_type": "code",
   "execution_count": 58,
   "metadata": {},
   "outputs": [
    {
     "data": {
      "text/html": [
       "<div>\n",
       "<style scoped>\n",
       "    .dataframe tbody tr th:only-of-type {\n",
       "        vertical-align: middle;\n",
       "    }\n",
       "\n",
       "    .dataframe tbody tr th {\n",
       "        vertical-align: top;\n",
       "    }\n",
       "\n",
       "    .dataframe thead th {\n",
       "        text-align: right;\n",
       "    }\n",
       "</style>\n",
       "<table border=\"1\" class=\"dataframe\">\n",
       "  <thead>\n",
       "    <tr style=\"text-align: right;\">\n",
       "      <th></th>\n",
       "      <th>0</th>\n",
       "    </tr>\n",
       "  </thead>\n",
       "  <tbody>\n",
       "    <tr>\n",
       "      <th>3</th>\n",
       "      <td>670</td>\n",
       "    </tr>\n",
       "    <tr>\n",
       "      <th>32</th>\n",
       "      <td>540</td>\n",
       "    </tr>\n",
       "    <tr>\n",
       "      <th>87</th>\n",
       "      <td>540</td>\n",
       "    </tr>\n",
       "    <tr>\n",
       "      <th>66</th>\n",
       "      <td>535</td>\n",
       "    </tr>\n",
       "    <tr>\n",
       "      <th>51</th>\n",
       "      <td>515</td>\n",
       "    </tr>\n",
       "    <tr>\n",
       "      <th>80</th>\n",
       "      <td>515</td>\n",
       "    </tr>\n",
       "    <tr>\n",
       "      <th>63</th>\n",
       "      <td>510</td>\n",
       "    </tr>\n",
       "    <tr>\n",
       "      <th>29</th>\n",
       "      <td>507</td>\n",
       "    </tr>\n",
       "    <tr>\n",
       "      <th>6</th>\n",
       "      <td>500</td>\n",
       "    </tr>\n",
       "    <tr>\n",
       "      <th>57</th>\n",
       "      <td>500</td>\n",
       "    </tr>\n",
       "  </tbody>\n",
       "</table>\n",
       "</div>"
      ],
      "text/plain": [
       "      0\n",
       "3   670\n",
       "32  540\n",
       "87  540\n",
       "66  535\n",
       "51  515\n",
       "80  515\n",
       "63  510\n",
       "29  507\n",
       "6   500\n",
       "57  500"
      ]
     },
     "execution_count": 58,
     "metadata": {},
     "output_type": "execute_result"
    }
   ],
   "source": [
    "# find the top 10 largest stats\n",
    "normalPokemonTotal.nlargest(10,0)"
   ]
  },
  {
   "cell_type": "code",
   "execution_count": 59,
   "metadata": {},
   "outputs": [],
   "source": [
    "# Array that contains only the total stats of normal type Pokemon\n",
    "normalPokemonFinalTotalList = [670, 540, 540, 535, 515, 515, 510, 507, 500, 500]\n",
    "normalPokemonFinalList = [normalPokemon.iloc[3, 0], normalPokemon.iloc[32, 0], normalPokemon.iloc[87, 0], normalPokemon.iloc[66, 0], normalPokemon.iloc[51, 0], normalPokemon.iloc[80, 0], normalPokemon.iloc[63, 0], normalPokemon.iloc[29, 0], normalPokemon.iloc[6, 0], normalPokemon.iloc[57, 0]]"
   ]
  },
  {
   "cell_type": "code",
   "execution_count": 60,
   "metadata": {},
   "outputs": [
    {
     "data": {
      "text/plain": [
       "<BarContainer object of 10 artists>"
      ]
     },
     "execution_count": 60,
     "metadata": {},
     "output_type": "execute_result"
    },
    {
     "data": {
      "image/png": "[encoded data removed]",
      "text/plain": [
       "<Figure size 432x288 with 1 Axes>"
      ]
     },
     "metadata": {
      "needs_background": "light"
     },
     "output_type": "display_data"
    }
   ],
   "source": [
    "# bar graph for strongest normal pokemon\n",
    "plt.barh(normalPokemonFinalList, normalPokemonFinalTotalList, color='darkgray')"
   ]
  },
  {
   "cell_type": "code",
   "execution_count": 61,
   "metadata": {},
   "outputs": [],
   "source": [
    "# NOT NEEDED\n",
    "# Array that contains only poison type Pokemon\n",
    "poisonPokemonList = []\n",
    "tempPoisonPokemonArr = pokemon['Name']\n",
    "for i in range (0, 666): \n",
    "    if (pokemon.iloc[i, 1] != 'Poison'):\n",
    "        if(pokemon.iloc[i, 2] != 'Poison'):\n",
    "#            del tempFirePokemonArr[i]\n",
    "            tempPoisonPokemonArr.drop(i)\n",
    "        else:\n",
    "            poisonPokemonList.append(tempPoisonPokemonArr[i])\n",
    "    elif (pokemon.iloc[i, 1] == 'Poison'):\n",
    "        poisonPokemonList.append(tempPoisonPokemonArr[i])"
   ]
  },
  {
   "cell_type": "code",
   "execution_count": 62,
   "metadata": {},
   "outputs": [
    {
     "data": {
      "text/html": [
       "<div>\n",
       "<style scoped>\n",
       "    .dataframe tbody tr th:only-of-type {\n",
       "        vertical-align: middle;\n",
       "    }\n",
       "\n",
       "    .dataframe tbody tr th {\n",
       "        vertical-align: top;\n",
       "    }\n",
       "\n",
       "    .dataframe thead th {\n",
       "        text-align: right;\n",
       "    }\n",
       "</style>\n",
       "<table border=\"1\" class=\"dataframe\">\n",
       "  <thead>\n",
       "    <tr style=\"text-align: right;\">\n",
       "      <th></th>\n",
       "      <th>0</th>\n",
       "    </tr>\n",
       "  </thead>\n",
       "  <tbody>\n",
       "    <tr>\n",
       "      <th>0</th>\n",
       "      <td>Nidoqueen</td>\n",
       "    </tr>\n",
       "    <tr>\n",
       "      <th>1</th>\n",
       "      <td>Weepinbell</td>\n",
       "    </tr>\n",
       "    <tr>\n",
       "      <th>2</th>\n",
       "      <td>Drapion</td>\n",
       "    </tr>\n",
       "    <tr>\n",
       "      <th>3</th>\n",
       "      <td>Ekans</td>\n",
       "    </tr>\n",
       "    <tr>\n",
       "      <th>4</th>\n",
       "      <td>Nidoran Female</td>\n",
       "    </tr>\n",
       "  </tbody>\n",
       "</table>\n",
       "</div>"
      ],
      "text/plain": [
       "                0\n",
       "0       Nidoqueen\n",
       "1      Weepinbell\n",
       "2         Drapion\n",
       "3           Ekans\n",
       "4  Nidoran Female"
      ]
     },
     "execution_count": 62,
     "metadata": {},
     "output_type": "execute_result"
    }
   ],
   "source": [
    "# NOT NEEDED\n",
    "poisonPokemon = pd.DataFrame(poisonPokemonList)\n",
    "poisonPokemon.head()"
   ]
  },
  {
   "cell_type": "code",
   "execution_count": 63,
   "metadata": {},
   "outputs": [
    {
     "name": "stdout",
     "output_type": "stream",
     "text": [
      "                 0\n",
      "0        Nidoqueen\n",
      "1       Weepinbell\n",
      "2          Drapion\n",
      "3            Ekans\n",
      "4   Nidoran Female\n",
      "5           Golbat\n",
      "6          Skorupi\n",
      "7           Skrelp\n",
      "8           Weedle\n",
      "9           Kakuna\n",
      "10         Venonat\n",
      "11        Venomoth\n",
      "12          Gengar\n",
      "13          Gulpin\n",
      "14        Dragalge\n",
      "15      Victreebel\n",
      "16           Budew\n",
      "17        Roserade\n",
      "18       Toxicroak\n",
      "19           Gloom\n",
      "20          Swalot\n",
      "21           Zubat\n",
      "22          Oddish\n",
      "23        Nidorina\n",
      "24      Bellsprout\n",
      "25          Grimer\n",
      "26         Weezing\n",
      "27         Roselia\n",
      "28        Skuntank\n",
      "29        Beedrill\n",
      "30        Nidoking\n",
      "31          Gastly\n",
      "32         Koffing\n",
      "33          Stunky\n",
      "34         Foongus\n",
      "35       Bulbasaur\n",
      "36        Venusaur\n",
      "37        Spinarak\n",
      "38         Ivysaur\n",
      "39         Haunter\n",
      "40          Crobat\n",
      "41          Dustox\n",
      "42        Venipede\n",
      "43           Arbok\n",
      "44       Vileplume\n",
      "45       Tentacool\n",
      "46      Tentacruel\n",
      "47         Ariados\n",
      "48       Scolipede\n",
      "49        Trubbish\n",
      "50        Garbodor\n",
      "51    Nidoran Male\n",
      "52        Nidorino\n",
      "53             Muk\n",
      "54        Qwilfish\n",
      "55         Seviper\n",
      "56        Croagunk\n",
      "57      Whirlipede\n",
      "58       Amoonguss\n"
     ]
    }
   ],
   "source": [
    "print(poisonPokemon)"
   ]
  },
  {
   "cell_type": "code",
   "execution_count": 64,
   "metadata": {},
   "outputs": [],
   "source": [
    "# Array that contains only the total stats of poison type Pokemon\n",
    "poisonPokemonTotalList = []\n",
    "tempPokemonArr = pokemon['Total']\n",
    "for i in range (0, 666): \n",
    "    if (pokemon.iloc[i, 1] != 'Poison'): # type1 is not poison\n",
    "        if(pokemon.iloc[i, 2] != 'Poison'): # type2 is not poison\n",
    "#            del tempPokemonArr[i] # delete entry if it is not a poison type\n",
    "            tempPokemonArr.drop(i)\n",
    "        else:\n",
    "            poisonPokemonTotalList.append(tempPokemonArr[i]) # add to list if type2 = poison\n",
    "    elif (pokemon.iloc[i, 1] == 'Poison'):\n",
    "        poisonPokemonTotalList.append(tempPokemonArr[i]) # add to list if type1 = poison"
   ]
  },
  {
   "cell_type": "code",
   "execution_count": 65,
   "metadata": {},
   "outputs": [
    {
     "data": {
      "text/html": [
       "<div>\n",
       "<style scoped>\n",
       "    .dataframe tbody tr th:only-of-type {\n",
       "        vertical-align: middle;\n",
       "    }\n",
       "\n",
       "    .dataframe tbody tr th {\n",
       "        vertical-align: top;\n",
       "    }\n",
       "\n",
       "    .dataframe thead th {\n",
       "        text-align: right;\n",
       "    }\n",
       "</style>\n",
       "<table border=\"1\" class=\"dataframe\">\n",
       "  <thead>\n",
       "    <tr style=\"text-align: right;\">\n",
       "      <th></th>\n",
       "      <th>0</th>\n",
       "    </tr>\n",
       "  </thead>\n",
       "  <tbody>\n",
       "    <tr>\n",
       "      <th>0</th>\n",
       "      <td>505</td>\n",
       "    </tr>\n",
       "    <tr>\n",
       "      <th>1</th>\n",
       "      <td>390</td>\n",
       "    </tr>\n",
       "    <tr>\n",
       "      <th>2</th>\n",
       "      <td>500</td>\n",
       "    </tr>\n",
       "    <tr>\n",
       "      <th>3</th>\n",
       "      <td>288</td>\n",
       "    </tr>\n",
       "    <tr>\n",
       "      <th>4</th>\n",
       "      <td>275</td>\n",
       "    </tr>\n",
       "  </tbody>\n",
       "</table>\n",
       "</div>"
      ],
      "text/plain": [
       "     0\n",
       "0  505\n",
       "1  390\n",
       "2  500\n",
       "3  288\n",
       "4  275"
      ]
     },
     "execution_count": 65,
     "metadata": {},
     "output_type": "execute_result"
    }
   ],
   "source": [
    "poisonPokemonTotal = pd.DataFrame(poisonPokemonTotalList)\n",
    "poisonPokemonTotal.head()"
   ]
  },
  {
   "cell_type": "code",
   "execution_count": 66,
   "metadata": {},
   "outputs": [
    {
     "name": "stdout",
     "output_type": "stream",
     "text": [
      "      0\n",
      "0   505\n",
      "1   390\n",
      "2   500\n",
      "3   288\n",
      "4   275\n",
      "5   455\n",
      "6   330\n",
      "7   320\n",
      "8   195\n",
      "9   205\n",
      "10  305\n",
      "11  450\n",
      "12  500\n",
      "13  302\n",
      "14  494\n",
      "15  490\n",
      "16  280\n",
      "17  515\n",
      "18  490\n",
      "19  395\n",
      "20  467\n",
      "21  245\n",
      "22  320\n",
      "23  365\n",
      "24  300\n",
      "25  325\n",
      "26  490\n",
      "27  400\n",
      "28  479\n",
      "29  395\n",
      "30  505\n",
      "31  310\n",
      "32  340\n",
      "33  329\n",
      "34  294\n",
      "35  318\n",
      "36  525\n",
      "37  250\n",
      "38  405\n",
      "39  405\n",
      "40  535\n",
      "41  385\n",
      "42  260\n",
      "43  438\n",
      "44  490\n",
      "45  335\n",
      "46  515\n",
      "47  390\n",
      "48  485\n",
      "49  329\n",
      "50  474\n",
      "51  273\n",
      "52  365\n",
      "53  500\n",
      "54  430\n",
      "55  458\n",
      "56  300\n",
      "57  360\n",
      "58  464\n"
     ]
    }
   ],
   "source": [
    "print(poisonPokemonTotal)"
   ]
  },
  {
   "cell_type": "code",
   "execution_count": 67,
   "metadata": {},
   "outputs": [
    {
     "data": {
      "text/plain": [
       "0    535\n",
       "dtype: int64"
      ]
     },
     "execution_count": 67,
     "metadata": {},
     "output_type": "execute_result"
    }
   ],
   "source": [
    "# find the max total stat\n",
    "poisonPokemonTotal.max()"
   ]
  },
  {
   "cell_type": "code",
   "execution_count": 68,
   "metadata": {},
   "outputs": [
    {
     "name": "stdout",
     "output_type": "stream",
     "text": [
      "Crobat\n"
     ]
    }
   ],
   "source": [
    "# find pokemon that is a poison type and has the max total stat\n",
    "for i in range (0, 666): \n",
    "    if (pokemon.iloc[i, 1] == 'Poison' or pokemon.iloc[i, 2] == 'Poison'):\n",
    "        if(pokemon.iloc[i, 3] == 535):\n",
    "            print(pokemon.iloc[i, 0])"
   ]
  },
  {
   "cell_type": "code",
   "execution_count": 69,
   "metadata": {},
   "outputs": [
    {
     "data": {
      "text/html": [
       "<div>\n",
       "<style scoped>\n",
       "    .dataframe tbody tr th:only-of-type {\n",
       "        vertical-align: middle;\n",
       "    }\n",
       "\n",
       "    .dataframe tbody tr th {\n",
       "        vertical-align: top;\n",
       "    }\n",
       "\n",
       "    .dataframe thead th {\n",
       "        text-align: right;\n",
       "    }\n",
       "</style>\n",
       "<table border=\"1\" class=\"dataframe\">\n",
       "  <thead>\n",
       "    <tr style=\"text-align: right;\">\n",
       "      <th></th>\n",
       "      <th>0</th>\n",
       "    </tr>\n",
       "  </thead>\n",
       "  <tbody>\n",
       "    <tr>\n",
       "      <th>40</th>\n",
       "      <td>535</td>\n",
       "    </tr>\n",
       "    <tr>\n",
       "      <th>36</th>\n",
       "      <td>525</td>\n",
       "    </tr>\n",
       "    <tr>\n",
       "      <th>17</th>\n",
       "      <td>515</td>\n",
       "    </tr>\n",
       "    <tr>\n",
       "      <th>46</th>\n",
       "      <td>515</td>\n",
       "    </tr>\n",
       "    <tr>\n",
       "      <th>0</th>\n",
       "      <td>505</td>\n",
       "    </tr>\n",
       "    <tr>\n",
       "      <th>30</th>\n",
       "      <td>505</td>\n",
       "    </tr>\n",
       "    <tr>\n",
       "      <th>2</th>\n",
       "      <td>500</td>\n",
       "    </tr>\n",
       "    <tr>\n",
       "      <th>12</th>\n",
       "      <td>500</td>\n",
       "    </tr>\n",
       "    <tr>\n",
       "      <th>53</th>\n",
       "      <td>500</td>\n",
       "    </tr>\n",
       "    <tr>\n",
       "      <th>14</th>\n",
       "      <td>494</td>\n",
       "    </tr>\n",
       "  </tbody>\n",
       "</table>\n",
       "</div>"
      ],
      "text/plain": [
       "      0\n",
       "40  535\n",
       "36  525\n",
       "17  515\n",
       "46  515\n",
       "0   505\n",
       "30  505\n",
       "2   500\n",
       "12  500\n",
       "53  500\n",
       "14  494"
      ]
     },
     "execution_count": 69,
     "metadata": {},
     "output_type": "execute_result"
    }
   ],
   "source": [
    "# find the top 10 largest stats\n",
    "poisonPokemonTotal.nlargest(10,0)"
   ]
  },
  {
   "cell_type": "code",
   "execution_count": 70,
   "metadata": {},
   "outputs": [],
   "source": [
    "# Array that contains only the total stats of poison type Pokemon\n",
    "poisonPokemonFinalTotalList = [535, 525, 515, 515, 505, 505, 500, 500, 500, 494]\n",
    "poisonPokemonFinalList = [poisonPokemon.iloc[40, 0], poisonPokemon.iloc[36, 0], poisonPokemon.iloc[17, 0], poisonPokemon.iloc[46, 0], poisonPokemon.iloc[0, 0], poisonPokemon.iloc[30, 0], poisonPokemon.iloc[2, 0], poisonPokemon.iloc[12, 0], poisonPokemon.iloc[53, 0], poisonPokemon.iloc[14, 0]]"
   ]
  },
  {
   "cell_type": "code",
   "execution_count": 71,
   "metadata": {},
   "outputs": [
    {
     "data": {
      "text/plain": [
       "<BarContainer object of 10 artists>"
      ]
     },
     "execution_count": 71,
     "metadata": {},
     "output_type": "execute_result"
    },
    {
     "data": {
      "image/png": "[encoded data removed]",
      "text/plain": [
       "<Figure size 432x288 with 1 Axes>"
      ]
     },
     "metadata": {
      "needs_background": "light"
     },
     "output_type": "display_data"
    }
   ],
   "source": [
    "# bar graph for strongest poison pokemon\n",
    "plt.barh(poisonPokemonFinalList, poisonPokemonFinalTotalList, color='fuchsia')"
   ]
  },
  {
   "cell_type": "code",
   "execution_count": 72,
   "metadata": {},
   "outputs": [],
   "source": [
    "# NOT NEEDED\n",
    "# Array that contains only electric type Pokemon\n",
    "electricPokemonList = []\n",
    "tempElectricPokemonArr = pokemon['Name']\n",
    "for i in range (0, 666): \n",
    "    if (pokemon.iloc[i, 1] != 'Electric'):\n",
    "        if(pokemon.iloc[i, 2] != 'Electric'):\n",
    "#            del tempFirePokemonArr[i]\n",
    "            tempElectricPokemonArr.drop(i)\n",
    "        else:\n",
    "            electricPokemonList.append(tempElectricPokemonArr[i])\n",
    "    elif (pokemon.iloc[i, 1] == 'Electric'):\n",
    "        electricPokemonList.append(tempElectricPokemonArr[i])"
   ]
  },
  {
   "cell_type": "code",
   "execution_count": 73,
   "metadata": {},
   "outputs": [
    {
     "data": {
      "text/html": [
       "<div>\n",
       "<style scoped>\n",
       "    .dataframe tbody tr th:only-of-type {\n",
       "        vertical-align: middle;\n",
       "    }\n",
       "\n",
       "    .dataframe tbody tr th {\n",
       "        vertical-align: top;\n",
       "    }\n",
       "\n",
       "    .dataframe thead th {\n",
       "        text-align: right;\n",
       "    }\n",
       "</style>\n",
       "<table border=\"1\" class=\"dataframe\">\n",
       "  <thead>\n",
       "    <tr style=\"text-align: right;\">\n",
       "      <th></th>\n",
       "      <th>0</th>\n",
       "    </tr>\n",
       "  </thead>\n",
       "  <tbody>\n",
       "    <tr>\n",
       "      <th>0</th>\n",
       "      <td>Electivire</td>\n",
       "    </tr>\n",
       "    <tr>\n",
       "      <th>1</th>\n",
       "      <td>Lanturn</td>\n",
       "    </tr>\n",
       "    <tr>\n",
       "      <th>2</th>\n",
       "      <td>Manectric</td>\n",
       "    </tr>\n",
       "    <tr>\n",
       "      <th>3</th>\n",
       "      <td>Pachirisu</td>\n",
       "    </tr>\n",
       "    <tr>\n",
       "      <th>4</th>\n",
       "      <td>Galvantula</td>\n",
       "    </tr>\n",
       "  </tbody>\n",
       "</table>\n",
       "</div>"
      ],
      "text/plain": [
       "            0\n",
       "0  Electivire\n",
       "1     Lanturn\n",
       "2   Manectric\n",
       "3   Pachirisu\n",
       "4  Galvantula"
      ]
     },
     "execution_count": 73,
     "metadata": {},
     "output_type": "execute_result"
    }
   ],
   "source": [
    "# NOT NEEDED\n",
    "electricPokemon = pd.DataFrame(electricPokemonList)\n",
    "electricPokemon.head()"
   ]
  },
  {
   "cell_type": "code",
   "execution_count": 74,
   "metadata": {},
   "outputs": [
    {
     "name": "stdout",
     "output_type": "stream",
     "text": [
      "             0\n",
      "0   Electivire\n",
      "1      Lanturn\n",
      "2    Manectric\n",
      "3    Pachirisu\n",
      "4   Galvantula\n",
      "5      Voltorb\n",
      "6      Jolteon\n",
      "7        Shinx\n",
      "8      Blitzle\n",
      "9    Heliolisk\n",
      "10   Electrode\n",
      "11    Chinchou\n",
      "12       Minun\n",
      "13       Rotom\n",
      "14  Helioptile\n",
      "15      Raichu\n",
      "16    Ampharos\n",
      "17      Plusle\n",
      "18  Eelektross\n",
      "19      Luxray\n",
      "20  Electabuzz\n",
      "21       Pichu\n",
      "22      Mareep\n",
      "23       Luxio\n",
      "24      Tynamo\n",
      "25     Pikachu\n",
      "26     Flaaffy\n",
      "27   Zebstrika\n",
      "28    Magneton\n",
      "29      Emolga\n",
      "30      Joltik\n",
      "31   Eelektrik\n",
      "32    Stunfisk\n",
      "33   Magnemite\n",
      "34      Elekid\n",
      "35   Electrike\n",
      "36   Magnezone\n",
      "37     Dedenne\n"
     ]
    }
   ],
   "source": [
    "print(electricPokemon)"
   ]
  },
  {
   "cell_type": "code",
   "execution_count": 75,
   "metadata": {},
   "outputs": [],
   "source": [
    "# Array that contains only the total stats of electric type Pokemon\n",
    "electricPokemonTotalList = []\n",
    "tempPokemonArr = pokemon['Total']\n",
    "for i in range (0, 666): \n",
    "    if (pokemon.iloc[i, 1] != 'Electric'): # type1 is not electric\n",
    "        if(pokemon.iloc[i, 2] != 'Electric'): # type2 is not electric\n",
    "#            del tempPokemonArr[i] # delete entry if it is not a electric type\n",
    "            tempPokemonArr.drop(i)\n",
    "        else:\n",
    "            electricPokemonTotalList.append(tempPokemonArr[i]) # add to list if type2 = electric\n",
    "    elif (pokemon.iloc[i, 1] == 'Electric'):\n",
    "        electricPokemonTotalList.append(tempPokemonArr[i]) # add to list if type1 = electric"
   ]
  },
  {
   "cell_type": "code",
   "execution_count": 76,
   "metadata": {},
   "outputs": [
    {
     "data": {
      "text/html": [
       "<div>\n",
       "<style scoped>\n",
       "    .dataframe tbody tr th:only-of-type {\n",
       "        vertical-align: middle;\n",
       "    }\n",
       "\n",
       "    .dataframe tbody tr th {\n",
       "        vertical-align: top;\n",
       "    }\n",
       "\n",
       "    .dataframe thead th {\n",
       "        text-align: right;\n",
       "    }\n",
       "</style>\n",
       "<table border=\"1\" class=\"dataframe\">\n",
       "  <thead>\n",
       "    <tr style=\"text-align: right;\">\n",
       "      <th></th>\n",
       "      <th>0</th>\n",
       "    </tr>\n",
       "  </thead>\n",
       "  <tbody>\n",
       "    <tr>\n",
       "      <th>0</th>\n",
       "      <td>540</td>\n",
       "    </tr>\n",
       "    <tr>\n",
       "      <th>1</th>\n",
       "      <td>460</td>\n",
       "    </tr>\n",
       "    <tr>\n",
       "      <th>2</th>\n",
       "      <td>475</td>\n",
       "    </tr>\n",
       "    <tr>\n",
       "      <th>3</th>\n",
       "      <td>405</td>\n",
       "    </tr>\n",
       "    <tr>\n",
       "      <th>4</th>\n",
       "      <td>472</td>\n",
       "    </tr>\n",
       "  </tbody>\n",
       "</table>\n",
       "</div>"
      ],
      "text/plain": [
       "     0\n",
       "0  540\n",
       "1  460\n",
       "2  475\n",
       "3  405\n",
       "4  472"
      ]
     },
     "execution_count": 76,
     "metadata": {},
     "output_type": "execute_result"
    }
   ],
   "source": [
    "electricPokemonTotal = pd.DataFrame(electricPokemonTotalList)\n",
    "electricPokemonTotal.head()"
   ]
  },
  {
   "cell_type": "code",
   "execution_count": 77,
   "metadata": {},
   "outputs": [
    {
     "name": "stdout",
     "output_type": "stream",
     "text": [
      "      0\n",
      "0   540\n",
      "1   460\n",
      "2   475\n",
      "3   405\n",
      "4   472\n",
      "5   330\n",
      "6   525\n",
      "7   263\n",
      "8   295\n",
      "9   481\n",
      "10  480\n",
      "11  330\n",
      "12  405\n",
      "13  440\n",
      "14  289\n",
      "15  485\n",
      "16  510\n",
      "17  405\n",
      "18  515\n",
      "19  523\n",
      "20  490\n",
      "21  205\n",
      "22  280\n",
      "23  363\n",
      "24  275\n",
      "25  320\n",
      "26  365\n",
      "27  497\n",
      "28  465\n",
      "29  428\n",
      "30  319\n",
      "31  405\n",
      "32  471\n",
      "33  325\n",
      "34  360\n",
      "35  295\n",
      "36  535\n",
      "37  431\n"
     ]
    }
   ],
   "source": [
    "print(electricPokemonTotal)"
   ]
  },
  {
   "cell_type": "code",
   "execution_count": 78,
   "metadata": {},
   "outputs": [
    {
     "data": {
      "text/plain": [
       "0    540\n",
       "dtype: int64"
      ]
     },
     "execution_count": 78,
     "metadata": {},
     "output_type": "execute_result"
    }
   ],
   "source": [
    "# find the max total stat\n",
    "electricPokemonTotal.max()"
   ]
  },
  {
   "cell_type": "code",
   "execution_count": 79,
   "metadata": {},
   "outputs": [
    {
     "name": "stdout",
     "output_type": "stream",
     "text": [
      "Electivire\n"
     ]
    }
   ],
   "source": [
    "# find pokemon that is a electric type and has the max total stat\n",
    "for i in range (0, 666): \n",
    "    if (pokemon.iloc[i, 1] == 'Electric' or pokemon.iloc[i, 2] == 'Electric'):\n",
    "        if(pokemon.iloc[i, 3] == 540):\n",
    "            print(pokemon.iloc[i, 0])"
   ]
  },
  {
   "cell_type": "code",
   "execution_count": 80,
   "metadata": {},
   "outputs": [
    {
     "data": {
      "text/html": [
       "<div>\n",
       "<style scoped>\n",
       "    .dataframe tbody tr th:only-of-type {\n",
       "        vertical-align: middle;\n",
       "    }\n",
       "\n",
       "    .dataframe tbody tr th {\n",
       "        vertical-align: top;\n",
       "    }\n",
       "\n",
       "    .dataframe thead th {\n",
       "        text-align: right;\n",
       "    }\n",
       "</style>\n",
       "<table border=\"1\" class=\"dataframe\">\n",
       "  <thead>\n",
       "    <tr style=\"text-align: right;\">\n",
       "      <th></th>\n",
       "      <th>0</th>\n",
       "    </tr>\n",
       "  </thead>\n",
       "  <tbody>\n",
       "    <tr>\n",
       "      <th>0</th>\n",
       "      <td>540</td>\n",
       "    </tr>\n",
       "    <tr>\n",
       "      <th>36</th>\n",
       "      <td>535</td>\n",
       "    </tr>\n",
       "    <tr>\n",
       "      <th>6</th>\n",
       "      <td>525</td>\n",
       "    </tr>\n",
       "    <tr>\n",
       "      <th>19</th>\n",
       "      <td>523</td>\n",
       "    </tr>\n",
       "    <tr>\n",
       "      <th>18</th>\n",
       "      <td>515</td>\n",
       "    </tr>\n",
       "    <tr>\n",
       "      <th>16</th>\n",
       "      <td>510</td>\n",
       "    </tr>\n",
       "    <tr>\n",
       "      <th>27</th>\n",
       "      <td>497</td>\n",
       "    </tr>\n",
       "    <tr>\n",
       "      <th>20</th>\n",
       "      <td>490</td>\n",
       "    </tr>\n",
       "    <tr>\n",
       "      <th>15</th>\n",
       "      <td>485</td>\n",
       "    </tr>\n",
       "    <tr>\n",
       "      <th>9</th>\n",
       "      <td>481</td>\n",
       "    </tr>\n",
       "  </tbody>\n",
       "</table>\n",
       "</div>"
      ],
      "text/plain": [
       "      0\n",
       "0   540\n",
       "36  535\n",
       "6   525\n",
       "19  523\n",
       "18  515\n",
       "16  510\n",
       "27  497\n",
       "20  490\n",
       "15  485\n",
       "9   481"
      ]
     },
     "execution_count": 80,
     "metadata": {},
     "output_type": "execute_result"
    }
   ],
   "source": [
    "# find the top 10 largest stats\n",
    "electricPokemonTotal.nlargest(10,0)"
   ]
  },
  {
   "cell_type": "code",
   "execution_count": 81,
   "metadata": {},
   "outputs": [],
   "source": [
    "# Array that contains only the total stats of electric type Pokemon\n",
    "electricPokemonFinalTotalList = [540, 535, 525, 523, 515, 510, 497, 490, 485, 481]\n",
    "electricPokemonFinalList = [electricPokemon.iloc[0, 0], electricPokemon.iloc[36, 0], electricPokemon.iloc[6, 0], electricPokemon.iloc[19, 0], electricPokemon.iloc[18, 0], electricPokemon.iloc[16, 0], electricPokemon.iloc[27, 0], electricPokemon.iloc[20, 0], electricPokemon.iloc[15, 0], electricPokemon.iloc[9, 0]]"
   ]
  },
  {
   "cell_type": "code",
   "execution_count": 82,
   "metadata": {},
   "outputs": [
    {
     "data": {
      "text/plain": [
       "<BarContainer object of 10 artists>"
      ]
     },
     "execution_count": 82,
     "metadata": {},
     "output_type": "execute_result"
    },
    {
     "data": {
      "image/png": "[encoded data removed]",
      "text/plain": [
       "<Figure size 432x288 with 1 Axes>"
      ]
     },
     "metadata": {
      "needs_background": "light"
     },
     "output_type": "display_data"
    }
   ],
   "source": [
    "# bar graph for strongest electric pokemon\n",
    "plt.barh(electricPokemonFinalList, electricPokemonFinalTotalList, color='yellow')"
   ]
  },
  {
   "cell_type": "code",
   "execution_count": 83,
   "metadata": {},
   "outputs": [],
   "source": [
    "# NOT NEEDED\n",
    "# Array that contains only ground type Pokemon\n",
    "groundPokemonList = []\n",
    "tempGroundPokemonArr = pokemon['Name']\n",
    "for i in range (0, 666): \n",
    "    if (pokemon.iloc[i, 1] != 'Ground'):\n",
    "        if(pokemon.iloc[i, 2] != 'Ground'):\n",
    "#            del tempFirePokemonArr[i]\n",
    "            tempGroundPokemonArr.drop(i)\n",
    "        else:\n",
    "            groundPokemonList.append(tempGroundPokemonArr[i])\n",
    "    elif (pokemon.iloc[i, 1] == 'Ground'):\n",
    "        groundPokemonList.append(tempGroundPokemonArr[i])"
   ]
  },
  {
   "cell_type": "code",
   "execution_count": 84,
   "metadata": {},
   "outputs": [
    {
     "data": {
      "text/html": [
       "<div>\n",
       "<style scoped>\n",
       "    .dataframe tbody tr th:only-of-type {\n",
       "        vertical-align: middle;\n",
       "    }\n",
       "\n",
       "    .dataframe tbody tr th {\n",
       "        vertical-align: top;\n",
       "    }\n",
       "\n",
       "    .dataframe thead th {\n",
       "        text-align: right;\n",
       "    }\n",
       "</style>\n",
       "<table border=\"1\" class=\"dataframe\">\n",
       "  <thead>\n",
       "    <tr style=\"text-align: right;\">\n",
       "      <th></th>\n",
       "      <th>0</th>\n",
       "    </tr>\n",
       "  </thead>\n",
       "  <tbody>\n",
       "    <tr>\n",
       "      <th>0</th>\n",
       "      <td>Sandshrew</td>\n",
       "    </tr>\n",
       "    <tr>\n",
       "      <th>1</th>\n",
       "      <td>Nidoqueen</td>\n",
       "    </tr>\n",
       "    <tr>\n",
       "      <th>2</th>\n",
       "      <td>Diglett</td>\n",
       "    </tr>\n",
       "    <tr>\n",
       "      <th>3</th>\n",
       "      <td>Wooper</td>\n",
       "    </tr>\n",
       "    <tr>\n",
       "      <th>4</th>\n",
       "      <td>Gligar</td>\n",
       "    </tr>\n",
       "  </tbody>\n",
       "</table>\n",
       "</div>"
      ],
      "text/plain": [
       "           0\n",
       "0  Sandshrew\n",
       "1  Nidoqueen\n",
       "2    Diglett\n",
       "3     Wooper\n",
       "4     Gligar"
      ]
     },
     "execution_count": 84,
     "metadata": {},
     "output_type": "execute_result"
    }
   ],
   "source": [
    "# NOT NEEDED\n",
    "groundPokemon = pd.DataFrame(groundPokemonList)\n",
    "groundPokemon.head()"
   ]
  },
  {
   "cell_type": "code",
   "execution_count": 85,
   "metadata": {},
   "outputs": [
    {
     "name": "stdout",
     "output_type": "stream",
     "text": [
      "             0\n",
      "0    Sandshrew\n",
      "1    Nidoqueen\n",
      "2      Diglett\n",
      "3       Wooper\n",
      "4       Gligar\n",
      "5    Piloswine\n",
      "6     Camerupt\n",
      "7     Torterra\n",
      "8    Gastrodon\n",
      "9       Gabite\n",
      "10  Hippopotas\n",
      "11     Geodude\n",
      "12   Palpitoad\n",
      "13   Diggersby\n",
      "14    Whiscash\n",
      "15   Rhyperior\n",
      "16      Golett\n",
      "17    Graveler\n",
      "18      Flygon\n",
      "19    Barboach\n",
      "20   Excadrill\n",
      "21      Golurk\n",
      "22     Rhyhorn\n",
      "23      Rhydon\n",
      "24   Hippowdon\n",
      "25      Cubone\n",
      "26     Gliscor\n",
      "27  Seismitoad\n",
      "28        Onix\n",
      "29     Marowak\n",
      "30      Phanpy\n",
      "31     Vibrava\n",
      "32      Baltoy\n",
      "33     Claydol\n",
      "34   Mamoswine\n",
      "35    Nidoking\n",
      "36     Steelix\n",
      "37     Donphan\n",
      "38    Larvitar\n",
      "39     Nincada\n",
      "40     Drilbur\n",
      "41     Dugtrio\n",
      "42     Pupitar\n",
      "43       Gible\n",
      "44   Sandslash\n",
      "45     Sandile\n",
      "46  Krookodile\n",
      "47       Golem\n",
      "48    Quagsire\n",
      "49       Numel\n",
      "50    Stunfisk\n",
      "51      Swinub\n",
      "52   Marshtomp\n",
      "53    Swampert\n",
      "54    Trapinch\n",
      "55    Garchomp\n",
      "56    Krokorok\n"
     ]
    }
   ],
   "source": [
    "print(groundPokemon)"
   ]
  },
  {
   "cell_type": "code",
   "execution_count": 86,
   "metadata": {},
   "outputs": [],
   "source": [
    "# Array that contains only the total stats of ground type Pokemon\n",
    "groundPokemonTotalList = []\n",
    "tempPokemonArr = pokemon['Total']\n",
    "for i in range (0, 666): \n",
    "    if (pokemon.iloc[i, 1] != 'Ground'): # type1 is not ground\n",
    "        if(pokemon.iloc[i, 2] != 'Ground'): # type2 is not ground\n",
    "#            del tempPokemonArr[i] # delete entry if it is not a ground type\n",
    "            tempPokemonArr.drop(i)\n",
    "        else:\n",
    "            groundPokemonTotalList.append(tempPokemonArr[i]) # add to list if type2 = ground\n",
    "    elif (pokemon.iloc[i, 1] == 'Ground'):\n",
    "        groundPokemonTotalList.append(tempPokemonArr[i]) # add to list if type1 = ground"
   ]
  },
  {
   "cell_type": "code",
   "execution_count": 87,
   "metadata": {},
   "outputs": [
    {
     "data": {
      "text/html": [
       "<div>\n",
       "<style scoped>\n",
       "    .dataframe tbody tr th:only-of-type {\n",
       "        vertical-align: middle;\n",
       "    }\n",
       "\n",
       "    .dataframe tbody tr th {\n",
       "        vertical-align: top;\n",
       "    }\n",
       "\n",
       "    .dataframe thead th {\n",
       "        text-align: right;\n",
       "    }\n",
       "</style>\n",
       "<table border=\"1\" class=\"dataframe\">\n",
       "  <thead>\n",
       "    <tr style=\"text-align: right;\">\n",
       "      <th></th>\n",
       "      <th>0</th>\n",
       "    </tr>\n",
       "  </thead>\n",
       "  <tbody>\n",
       "    <tr>\n",
       "      <th>0</th>\n",
       "      <td>300</td>\n",
       "    </tr>\n",
       "    <tr>\n",
       "      <th>1</th>\n",
       "      <td>505</td>\n",
       "    </tr>\n",
       "    <tr>\n",
       "      <th>2</th>\n",
       "      <td>265</td>\n",
       "    </tr>\n",
       "    <tr>\n",
       "      <th>3</th>\n",
       "      <td>210</td>\n",
       "    </tr>\n",
       "    <tr>\n",
       "      <th>4</th>\n",
       "      <td>430</td>\n",
       "    </tr>\n",
       "  </tbody>\n",
       "</table>\n",
       "</div>"
      ],
      "text/plain": [
       "     0\n",
       "0  300\n",
       "1  505\n",
       "2  265\n",
       "3  210\n",
       "4  430"
      ]
     },
     "execution_count": 87,
     "metadata": {},
     "output_type": "execute_result"
    }
   ],
   "source": [
    "groundPokemonTotal = pd.DataFrame(groundPokemonTotalList)\n",
    "groundPokemonTotal.head()"
   ]
  },
  {
   "cell_type": "code",
   "execution_count": 88,
   "metadata": {},
   "outputs": [
    {
     "name": "stdout",
     "output_type": "stream",
     "text": [
      "      0\n",
      "0   300\n",
      "1   505\n",
      "2   265\n",
      "3   210\n",
      "4   430\n",
      "5   450\n",
      "6   460\n",
      "7   525\n",
      "8   475\n",
      "9   410\n",
      "10  330\n",
      "11  300\n",
      "12  384\n",
      "13  423\n",
      "14  468\n",
      "15  535\n",
      "16  303\n",
      "17  390\n",
      "18  520\n",
      "19  288\n",
      "20  508\n",
      "21  483\n",
      "22  345\n",
      "23  485\n",
      "24  525\n",
      "25  320\n",
      "26  510\n",
      "27  509\n",
      "28  385\n",
      "29  425\n",
      "30  330\n",
      "31  340\n",
      "32  300\n",
      "33  500\n",
      "34  530\n",
      "35  505\n",
      "36  510\n",
      "37  500\n",
      "38  300\n",
      "39  266\n",
      "40  328\n",
      "41  405\n",
      "42  410\n",
      "43  300\n",
      "44  450\n",
      "45  292\n",
      "46  519\n",
      "47  495\n",
      "48  430\n",
      "49  305\n",
      "50  471\n",
      "51  250\n",
      "52  405\n",
      "53  535\n",
      "54  290\n",
      "55  600\n",
      "56  351\n"
     ]
    }
   ],
   "source": [
    "print(groundPokemonTotal)"
   ]
  },
  {
   "cell_type": "code",
   "execution_count": 89,
   "metadata": {},
   "outputs": [
    {
     "data": {
      "text/plain": [
       "0    600\n",
       "dtype: int64"
      ]
     },
     "execution_count": 89,
     "metadata": {},
     "output_type": "execute_result"
    }
   ],
   "source": [
    "# find the max total stat\n",
    "groundPokemonTotal.max()"
   ]
  },
  {
   "cell_type": "code",
   "execution_count": 90,
   "metadata": {},
   "outputs": [
    {
     "name": "stdout",
     "output_type": "stream",
     "text": [
      "Garchomp\n"
     ]
    }
   ],
   "source": [
    "# find pokemon that is a ground type and has the max total stat\n",
    "for i in range (0, 666): \n",
    "    if (pokemon.iloc[i, 1] == 'Ground' or pokemon.iloc[i, 2] == 'Ground'):\n",
    "        if(pokemon.iloc[i, 3] == 600):\n",
    "            print(pokemon.iloc[i, 0])"
   ]
  },
  {
   "cell_type": "code",
   "execution_count": 91,
   "metadata": {},
   "outputs": [
    {
     "data": {
      "text/html": [
       "<div>\n",
       "<style scoped>\n",
       "    .dataframe tbody tr th:only-of-type {\n",
       "        vertical-align: middle;\n",
       "    }\n",
       "\n",
       "    .dataframe tbody tr th {\n",
       "        vertical-align: top;\n",
       "    }\n",
       "\n",
       "    .dataframe thead th {\n",
       "        text-align: right;\n",
       "    }\n",
       "</style>\n",
       "<table border=\"1\" class=\"dataframe\">\n",
       "  <thead>\n",
       "    <tr style=\"text-align: right;\">\n",
       "      <th></th>\n",
       "      <th>0</th>\n",
       "    </tr>\n",
       "  </thead>\n",
       "  <tbody>\n",
       "    <tr>\n",
       "      <th>55</th>\n",
       "      <td>600</td>\n",
       "    </tr>\n",
       "    <tr>\n",
       "      <th>15</th>\n",
       "      <td>535</td>\n",
       "    </tr>\n",
       "    <tr>\n",
       "      <th>53</th>\n",
       "      <td>535</td>\n",
       "    </tr>\n",
       "    <tr>\n",
       "      <th>34</th>\n",
       "      <td>530</td>\n",
       "    </tr>\n",
       "    <tr>\n",
       "      <th>7</th>\n",
       "      <td>525</td>\n",
       "    </tr>\n",
       "    <tr>\n",
       "      <th>24</th>\n",
       "      <td>525</td>\n",
       "    </tr>\n",
       "    <tr>\n",
       "      <th>18</th>\n",
       "      <td>520</td>\n",
       "    </tr>\n",
       "    <tr>\n",
       "      <th>46</th>\n",
       "      <td>519</td>\n",
       "    </tr>\n",
       "    <tr>\n",
       "      <th>26</th>\n",
       "      <td>510</td>\n",
       "    </tr>\n",
       "    <tr>\n",
       "      <th>36</th>\n",
       "      <td>510</td>\n",
       "    </tr>\n",
       "  </tbody>\n",
       "</table>\n",
       "</div>"
      ],
      "text/plain": [
       "      0\n",
       "55  600\n",
       "15  535\n",
       "53  535\n",
       "34  530\n",
       "7   525\n",
       "24  525\n",
       "18  520\n",
       "46  519\n",
       "26  510\n",
       "36  510"
      ]
     },
     "execution_count": 91,
     "metadata": {},
     "output_type": "execute_result"
    }
   ],
   "source": [
    "# find the top 10 largest stats\n",
    "groundPokemonTotal.nlargest(10,0)"
   ]
  },
  {
   "cell_type": "code",
   "execution_count": 92,
   "metadata": {},
   "outputs": [],
   "source": [
    "# Array that contains only the total stats of ground type Pokemon\n",
    "groundPokemonFinalTotalList = [600, 535, 535, 530, 525, 525, 520, 519, 510, 510]\n",
    "groundPokemonFinalList = [groundPokemon.iloc[55, 0], groundPokemon.iloc[15, 0], groundPokemon.iloc[53, 0],groundPokemon.iloc[34, 0], groundPokemon.iloc[7, 0], groundPokemon.iloc[24, 0], groundPokemon.iloc[18, 0], groundPokemon.iloc[46, 0], groundPokemon.iloc[26, 0], groundPokemon.iloc[36, 0]]"
   ]
  },
  {
   "cell_type": "code",
   "execution_count": 93,
   "metadata": {},
   "outputs": [
    {
     "data": {
      "text/plain": [
       "<BarContainer object of 10 artists>"
      ]
     },
     "execution_count": 93,
     "metadata": {},
     "output_type": "execute_result"
    },
    {
     "data": {
      "image/png": "[encoded data removed]",
      "text/plain": [
       "<Figure size 432x288 with 1 Axes>"
      ]
     },
     "metadata": {
      "needs_background": "light"
     },
     "output_type": "display_data"
    }
   ],
   "source": [
    "# bar graph for strongest ground pokemon\n",
    "plt.barh(groundPokemonFinalList, groundPokemonFinalTotalList, color='peru')"
   ]
  },
  {
   "cell_type": "code",
   "execution_count": 94,
   "metadata": {},
   "outputs": [],
   "source": [
    "# NOT NEEDED\n",
    "# Array that contains only fairy type Pokemon\n",
    "fairyPokemonList = []\n",
    "tempFairyPokemonArr = pokemon['Name']\n",
    "for i in range (0, 666): \n",
    "    if (pokemon.iloc[i, 1] != 'Fairy'):\n",
    "        if(pokemon.iloc[i, 2] != 'Fairy'):\n",
    "#            del tempFirePokemonArr[i]\n",
    "            tempFairyPokemonArr.drop(i)\n",
    "        else:\n",
    "            fairyPokemonList.append(tempFairyPokemonArr[i])\n",
    "    elif (pokemon.iloc[i, 1] == 'Fairy'):\n",
    "        fairyPokemonList.append(tempFairyPokemonArr[i])"
   ]
  },
  {
   "cell_type": "code",
   "execution_count": 95,
   "metadata": {},
   "outputs": [
    {
     "data": {
      "text/html": [
       "<div>\n",
       "<style scoped>\n",
       "    .dataframe tbody tr th:only-of-type {\n",
       "        vertical-align: middle;\n",
       "    }\n",
       "\n",
       "    .dataframe tbody tr th {\n",
       "        vertical-align: top;\n",
       "    }\n",
       "\n",
       "    .dataframe thead th {\n",
       "        text-align: right;\n",
       "    }\n",
       "</style>\n",
       "<table border=\"1\" class=\"dataframe\">\n",
       "  <thead>\n",
       "    <tr style=\"text-align: right;\">\n",
       "      <th></th>\n",
       "      <th>0</th>\n",
       "    </tr>\n",
       "  </thead>\n",
       "  <tbody>\n",
       "    <tr>\n",
       "      <th>0</th>\n",
       "      <td>Azumarill</td>\n",
       "    </tr>\n",
       "    <tr>\n",
       "      <th>1</th>\n",
       "      <td>Azurill</td>\n",
       "    </tr>\n",
       "    <tr>\n",
       "      <th>2</th>\n",
       "      <td>Cleffa</td>\n",
       "    </tr>\n",
       "    <tr>\n",
       "      <th>3</th>\n",
       "      <td>Snubbull</td>\n",
       "    </tr>\n",
       "    <tr>\n",
       "      <th>4</th>\n",
       "      <td>Floette</td>\n",
       "    </tr>\n",
       "  </tbody>\n",
       "</table>\n",
       "</div>"
      ],
      "text/plain": [
       "           0\n",
       "0  Azumarill\n",
       "1    Azurill\n",
       "2     Cleffa\n",
       "3   Snubbull\n",
       "4    Floette"
      ]
     },
     "execution_count": 95,
     "metadata": {},
     "output_type": "execute_result"
    }
   ],
   "source": [
    "# NOT NEEDED\n",
    "fairyPokemon = pd.DataFrame(fairyPokemonList)\n",
    "fairyPokemon.head()"
   ]
  },
  {
   "cell_type": "code",
   "execution_count": 96,
   "metadata": {},
   "outputs": [
    {
     "name": "stdout",
     "output_type": "stream",
     "text": [
      "             0\n",
      "0    Azumarill\n",
      "1      Azurill\n",
      "2       Cleffa\n",
      "3     Snubbull\n",
      "4      Floette\n",
      "5   Jigglypuff\n",
      "6        Ralts\n",
      "7     Slurpuff\n",
      "8      Sylveon\n",
      "9      Togetic\n",
      "10  Wigglytuff\n",
      "11      Mawile\n",
      "12     Swirlix\n",
      "13    Clefable\n",
      "14      Kirlia\n",
      "15     Florges\n",
      "16     Carbink\n",
      "17      Marill\n",
      "18     Flabebe\n",
      "19    Mr. Mime\n",
      "20   Gardevoir\n",
      "21    Cottonee\n",
      "22    Spritzee\n",
      "23  Aromatisse\n",
      "24      Klefki\n",
      "25    Granbull\n",
      "26    Togekiss\n",
      "27    Clefairy\n",
      "28  Whimsicott\n",
      "29   Igglybuff\n",
      "30      Togepi\n",
      "31    Mime Jr.\n",
      "32     Dedenne\n"
     ]
    }
   ],
   "source": [
    "print(fairyPokemon)"
   ]
  },
  {
   "cell_type": "code",
   "execution_count": 97,
   "metadata": {},
   "outputs": [],
   "source": [
    "# Array that contains only the total stats of fairy type Pokemon\n",
    "fairyPokemonTotalList = []\n",
    "tempPokemonArr = pokemon['Total']\n",
    "for i in range (0, 666): \n",
    "    if (pokemon.iloc[i, 1] != 'Fairy'): # type1 is not fairy\n",
    "        if(pokemon.iloc[i, 2] != 'Fairy'): # type2 is not fairy\n",
    "#            del tempPokemonArr[i] # delete entry if it is not a fairy type\n",
    "            tempPokemonArr.drop(i)\n",
    "        else:\n",
    "            fairyPokemonTotalList.append(tempPokemonArr[i]) # add to list if type2 = fairy\n",
    "    elif (pokemon.iloc[i, 1] == 'Fairy'):\n",
    "        fairyPokemonTotalList.append(tempPokemonArr[i]) # add to list if type1 = fairy"
   ]
  },
  {
   "cell_type": "code",
   "execution_count": 98,
   "metadata": {},
   "outputs": [
    {
     "data": {
      "text/html": [
       "<div>\n",
       "<style scoped>\n",
       "    .dataframe tbody tr th:only-of-type {\n",
       "        vertical-align: middle;\n",
       "    }\n",
       "\n",
       "    .dataframe tbody tr th {\n",
       "        vertical-align: top;\n",
       "    }\n",
       "\n",
       "    .dataframe thead th {\n",
       "        text-align: right;\n",
       "    }\n",
       "</style>\n",
       "<table border=\"1\" class=\"dataframe\">\n",
       "  <thead>\n",
       "    <tr style=\"text-align: right;\">\n",
       "      <th></th>\n",
       "      <th>0</th>\n",
       "    </tr>\n",
       "  </thead>\n",
       "  <tbody>\n",
       "    <tr>\n",
       "      <th>0</th>\n",
       "      <td>420</td>\n",
       "    </tr>\n",
       "    <tr>\n",
       "      <th>1</th>\n",
       "      <td>190</td>\n",
       "    </tr>\n",
       "    <tr>\n",
       "      <th>2</th>\n",
       "      <td>218</td>\n",
       "    </tr>\n",
       "    <tr>\n",
       "      <th>3</th>\n",
       "      <td>300</td>\n",
       "    </tr>\n",
       "    <tr>\n",
       "      <th>4</th>\n",
       "      <td>371</td>\n",
       "    </tr>\n",
       "  </tbody>\n",
       "</table>\n",
       "</div>"
      ],
      "text/plain": [
       "     0\n",
       "0  420\n",
       "1  190\n",
       "2  218\n",
       "3  300\n",
       "4  371"
      ]
     },
     "execution_count": 98,
     "metadata": {},
     "output_type": "execute_result"
    }
   ],
   "source": [
    "fairyPokemonTotal = pd.DataFrame(fairyPokemonTotalList)\n",
    "fairyPokemonTotal.head()"
   ]
  },
  {
   "cell_type": "code",
   "execution_count": 99,
   "metadata": {},
   "outputs": [
    {
     "name": "stdout",
     "output_type": "stream",
     "text": [
      "      0\n",
      "0   420\n",
      "1   190\n",
      "2   218\n",
      "3   300\n",
      "4   371\n",
      "5   270\n",
      "6   198\n",
      "7   480\n",
      "8   525\n",
      "9   405\n",
      "10  435\n",
      "11  380\n",
      "12  341\n",
      "13  483\n",
      "14  278\n",
      "15  552\n",
      "16  500\n",
      "17  250\n",
      "18  303\n",
      "19  460\n",
      "20  518\n",
      "21  280\n",
      "22  341\n",
      "23  462\n",
      "24  470\n",
      "25  450\n",
      "26  545\n",
      "27  323\n",
      "28  480\n",
      "29  210\n",
      "30  245\n",
      "31  310\n",
      "32  431\n"
     ]
    }
   ],
   "source": [
    "print(fairyPokemonTotal)"
   ]
  },
  {
   "cell_type": "code",
   "execution_count": 100,
   "metadata": {},
   "outputs": [
    {
     "data": {
      "text/plain": [
       "0    552\n",
       "dtype: int64"
      ]
     },
     "execution_count": 100,
     "metadata": {},
     "output_type": "execute_result"
    }
   ],
   "source": [
    "# find the max total stat\n",
    "fairyPokemonTotal.max()"
   ]
  },
  {
   "cell_type": "code",
   "execution_count": 101,
   "metadata": {},
   "outputs": [
    {
     "name": "stdout",
     "output_type": "stream",
     "text": [
      "Florges\n"
     ]
    }
   ],
   "source": [
    "# find pokemon that is a fairy type and has the max total stat\n",
    "for i in range (0, 666): \n",
    "    if (pokemon.iloc[i, 1] == 'Fairy' or pokemon.iloc[i, 2] == 'Fairy'):\n",
    "        if(pokemon.iloc[i, 3] == 552):\n",
    "            print(pokemon.iloc[i, 0])"
   ]
  },
  {
   "cell_type": "code",
   "execution_count": 102,
   "metadata": {},
   "outputs": [
    {
     "data": {
      "text/html": [
       "<div>\n",
       "<style scoped>\n",
       "    .dataframe tbody tr th:only-of-type {\n",
       "        vertical-align: middle;\n",
       "    }\n",
       "\n",
       "    .dataframe tbody tr th {\n",
       "        vertical-align: top;\n",
       "    }\n",
       "\n",
       "    .dataframe thead th {\n",
       "        text-align: right;\n",
       "    }\n",
       "</style>\n",
       "<table border=\"1\" class=\"dataframe\">\n",
       "  <thead>\n",
       "    <tr style=\"text-align: right;\">\n",
       "      <th></th>\n",
       "      <th>0</th>\n",
       "    </tr>\n",
       "  </thead>\n",
       "  <tbody>\n",
       "    <tr>\n",
       "      <th>15</th>\n",
       "      <td>552</td>\n",
       "    </tr>\n",
       "    <tr>\n",
       "      <th>26</th>\n",
       "      <td>545</td>\n",
       "    </tr>\n",
       "    <tr>\n",
       "      <th>8</th>\n",
       "      <td>525</td>\n",
       "    </tr>\n",
       "    <tr>\n",
       "      <th>20</th>\n",
       "      <td>518</td>\n",
       "    </tr>\n",
       "    <tr>\n",
       "      <th>16</th>\n",
       "      <td>500</td>\n",
       "    </tr>\n",
       "    <tr>\n",
       "      <th>13</th>\n",
       "      <td>483</td>\n",
       "    </tr>\n",
       "    <tr>\n",
       "      <th>7</th>\n",
       "      <td>480</td>\n",
       "    </tr>\n",
       "    <tr>\n",
       "      <th>28</th>\n",
       "      <td>480</td>\n",
       "    </tr>\n",
       "    <tr>\n",
       "      <th>24</th>\n",
       "      <td>470</td>\n",
       "    </tr>\n",
       "    <tr>\n",
       "      <th>23</th>\n",
       "      <td>462</td>\n",
       "    </tr>\n",
       "  </tbody>\n",
       "</table>\n",
       "</div>"
      ],
      "text/plain": [
       "      0\n",
       "15  552\n",
       "26  545\n",
       "8   525\n",
       "20  518\n",
       "16  500\n",
       "13  483\n",
       "7   480\n",
       "28  480\n",
       "24  470\n",
       "23  462"
      ]
     },
     "execution_count": 102,
     "metadata": {},
     "output_type": "execute_result"
    }
   ],
   "source": [
    "# find the top 10 largest stats\n",
    "fairyPokemonTotal.nlargest(10,0)"
   ]
  },
  {
   "cell_type": "code",
   "execution_count": 103,
   "metadata": {},
   "outputs": [],
   "source": [
    "# Array that contains only the total stats of fairy type Pokemon\n",
    "fairyPokemonFinalTotalList = [552, 545, 525, 518, 500, 483, 480, 480, 470, 462]\n",
    "fairyPokemonFinalList = [fairyPokemon.iloc[15, 0], fairyPokemon.iloc[26, 0], fairyPokemon.iloc[8, 0],fairyPokemon.iloc[20, 0], fairyPokemon.iloc[16, 0], fairyPokemon.iloc[13, 0], fairyPokemon.iloc[7, 0], fairyPokemon.iloc[28, 0], fairyPokemon.iloc[24, 0], fairyPokemon.iloc[23, 0]]"
   ]
  },
  {
   "cell_type": "code",
   "execution_count": 104,
   "metadata": {},
   "outputs": [
    {
     "data": {
      "text/plain": [
       "<BarContainer object of 10 artists>"
      ]
     },
     "execution_count": 104,
     "metadata": {},
     "output_type": "execute_result"
    },
    {
     "data": {
      "image/png": "[encoded data removed]",
      "text/plain": [
       "<Figure size 432x288 with 1 Axes>"
      ]
     },
     "metadata": {
      "needs_background": "light"
     },
     "output_type": "display_data"
    }
   ],
   "source": [
    "# bar graph for strongest ground pokemon\n",
    "plt.barh(fairyPokemonFinalList, fairyPokemonFinalTotalList, color='magenta')"
   ]
  },
  {
   "cell_type": "code",
   "execution_count": 105,
   "metadata": {},
   "outputs": [],
   "source": [
    "# NOT NEEDED\n",
    "# Array that contains only fighting type Pokemon\n",
    "fightingPokemonList = []\n",
    "tempFightingPokemonArr = pokemon['Name']\n",
    "for i in range (0, 666): \n",
    "    if (pokemon.iloc[i, 1] != 'Fighting'):\n",
    "        if(pokemon.iloc[i, 2] != 'Fighting'):\n",
    "#            del tempFirePokemonArr[i]\n",
    "            tempFightingPokemonArr.drop(i)\n",
    "        else:\n",
    "            fightingPokemonList.append(tempFightingPokemonArr[i])\n",
    "    elif (pokemon.iloc[i, 1] == 'Fighting'):\n",
    "        fightingPokemonList.append(tempFightingPokemonArr[i])"
   ]
  },
  {
   "cell_type": "code",
   "execution_count": 106,
   "metadata": {},
   "outputs": [
    {
     "data": {
      "text/html": [
       "<div>\n",
       "<style scoped>\n",
       "    .dataframe tbody tr th:only-of-type {\n",
       "        vertical-align: middle;\n",
       "    }\n",
       "\n",
       "    .dataframe tbody tr th {\n",
       "        vertical-align: top;\n",
       "    }\n",
       "\n",
       "    .dataframe thead th {\n",
       "        text-align: right;\n",
       "    }\n",
       "</style>\n",
       "<table border=\"1\" class=\"dataframe\">\n",
       "  <thead>\n",
       "    <tr style=\"text-align: right;\">\n",
       "      <th></th>\n",
       "      <th>0</th>\n",
       "    </tr>\n",
       "  </thead>\n",
       "  <tbody>\n",
       "    <tr>\n",
       "      <th>0</th>\n",
       "      <td>Machoke</td>\n",
       "    </tr>\n",
       "    <tr>\n",
       "      <th>1</th>\n",
       "      <td>Heracross</td>\n",
       "    </tr>\n",
       "    <tr>\n",
       "      <th>2</th>\n",
       "      <td>Blaziken</td>\n",
       "    </tr>\n",
       "    <tr>\n",
       "      <th>3</th>\n",
       "      <td>Infernape</td>\n",
       "    </tr>\n",
       "    <tr>\n",
       "      <th>4</th>\n",
       "      <td>Scrafty</td>\n",
       "    </tr>\n",
       "  </tbody>\n",
       "</table>\n",
       "</div>"
      ],
      "text/plain": [
       "           0\n",
       "0    Machoke\n",
       "1  Heracross\n",
       "2   Blaziken\n",
       "3  Infernape\n",
       "4    Scrafty"
      ]
     },
     "execution_count": 106,
     "metadata": {},
     "output_type": "execute_result"
    }
   ],
   "source": [
    "# NOT NEEDED\n",
    "fightingPokemon = pd.DataFrame(fightingPokemonList)\n",
    "fightingPokemon.head()"
   ]
  },
  {
   "cell_type": "code",
   "execution_count": 107,
   "metadata": {},
   "outputs": [
    {
     "name": "stdout",
     "output_type": "stream",
     "text": [
      "             0\n",
      "0      Machoke\n",
      "1    Heracross\n",
      "2     Blaziken\n",
      "3    Infernape\n",
      "4      Scrafty\n",
      "5    Hitmonlee\n",
      "6   Hitmonchan\n",
      "7     Makuhita\n",
      "8       Mankey\n",
      "9    Hitmontop\n",
      "10     Timburr\n",
      "11     Tyrogue\n",
      "12   Toxicroak\n",
      "13     Gallade\n",
      "14     Gurdurr\n",
      "15    Mienshao\n",
      "16    Meditite\n",
      "17       Throh\n",
      "18    Primeape\n",
      "19   Poliwrath\n",
      "20    Hariyama\n",
      "21        Sawk\n",
      "22  Chesnaught\n",
      "23     Breloom\n",
      "24       Riolu\n",
      "25   Combusken\n",
      "26     Lucario\n",
      "27     Pignite\n",
      "28     Pancham\n",
      "29     Machamp\n",
      "30    Monferno\n",
      "31     Pangoro\n",
      "32      Machop\n",
      "33  Conkeldurr\n",
      "34     Mienfoo\n",
      "35    Medicham\n",
      "36    Croagunk\n",
      "37      Emboar\n",
      "38     Scraggy\n",
      "39    Hawlucha\n"
     ]
    }
   ],
   "source": [
    "print(fightingPokemon)"
   ]
  },
  {
   "cell_type": "code",
   "execution_count": 108,
   "metadata": {},
   "outputs": [],
   "source": [
    "# Array that contains only the total stats of fighting type Pokemon\n",
    "fightingPokemonTotalList = []\n",
    "tempPokemonArr = pokemon['Total']\n",
    "for i in range (0, 666): \n",
    "    if (pokemon.iloc[i, 1] != 'Fighting'): # type1 is not fighting\n",
    "        if(pokemon.iloc[i, 2] != 'Fighting'): # type2 is not fighting\n",
    "#            del tempPokemonArr[i] # delete entry if it is not a fighting type\n",
    "            tempPokemonArr.drop(i)\n",
    "        else:\n",
    "            fightingPokemonTotalList.append(tempPokemonArr[i]) # add to list if type2 = fighting\n",
    "    elif (pokemon.iloc[i, 1] == 'Fighting'):\n",
    "        fightingPokemonTotalList.append(tempPokemonArr[i]) # add to list if type1 = fighting"
   ]
  },
  {
   "cell_type": "code",
   "execution_count": 109,
   "metadata": {},
   "outputs": [
    {
     "data": {
      "text/html": [
       "<div>\n",
       "<style scoped>\n",
       "    .dataframe tbody tr th:only-of-type {\n",
       "        vertical-align: middle;\n",
       "    }\n",
       "\n",
       "    .dataframe tbody tr th {\n",
       "        vertical-align: top;\n",
       "    }\n",
       "\n",
       "    .dataframe thead th {\n",
       "        text-align: right;\n",
       "    }\n",
       "</style>\n",
       "<table border=\"1\" class=\"dataframe\">\n",
       "  <thead>\n",
       "    <tr style=\"text-align: right;\">\n",
       "      <th></th>\n",
       "      <th>0</th>\n",
       "    </tr>\n",
       "  </thead>\n",
       "  <tbody>\n",
       "    <tr>\n",
       "      <th>0</th>\n",
       "      <td>405</td>\n",
       "    </tr>\n",
       "    <tr>\n",
       "      <th>1</th>\n",
       "      <td>500</td>\n",
       "    </tr>\n",
       "    <tr>\n",
       "      <th>2</th>\n",
       "      <td>530</td>\n",
       "    </tr>\n",
       "    <tr>\n",
       "      <th>3</th>\n",
       "      <td>534</td>\n",
       "    </tr>\n",
       "    <tr>\n",
       "      <th>4</th>\n",
       "      <td>488</td>\n",
       "    </tr>\n",
       "  </tbody>\n",
       "</table>\n",
       "</div>"
      ],
      "text/plain": [
       "     0\n",
       "0  405\n",
       "1  500\n",
       "2  530\n",
       "3  534\n",
       "4  488"
      ]
     },
     "execution_count": 109,
     "metadata": {},
     "output_type": "execute_result"
    }
   ],
   "source": [
    "fightingPokemonTotal = pd.DataFrame(fightingPokemonTotalList)\n",
    "fightingPokemonTotal.head()"
   ]
  },
  {
   "cell_type": "code",
   "execution_count": 110,
   "metadata": {},
   "outputs": [
    {
     "name": "stdout",
     "output_type": "stream",
     "text": [
      "      0\n",
      "0   405\n",
      "1   500\n",
      "2   530\n",
      "3   534\n",
      "4   488\n",
      "5   455\n",
      "6   455\n",
      "7   237\n",
      "8   305\n",
      "9   455\n",
      "10  305\n",
      "11  210\n",
      "12  490\n",
      "13  518\n",
      "14  405\n",
      "15  510\n",
      "16  280\n",
      "17  465\n",
      "18  455\n",
      "19  510\n",
      "20  474\n",
      "21  465\n",
      "22  530\n",
      "23  460\n",
      "24  285\n",
      "25  405\n",
      "26  525\n",
      "27  418\n",
      "28  348\n",
      "29  505\n",
      "30  405\n",
      "31  495\n",
      "32  305\n",
      "33  505\n",
      "34  350\n",
      "35  410\n",
      "36  300\n",
      "37  528\n",
      "38  348\n",
      "39  500\n"
     ]
    }
   ],
   "source": [
    "print(fightingPokemonTotal)"
   ]
  },
  {
   "cell_type": "code",
   "execution_count": 111,
   "metadata": {},
   "outputs": [
    {
     "data": {
      "text/plain": [
       "0    534\n",
       "dtype: int64"
      ]
     },
     "execution_count": 111,
     "metadata": {},
     "output_type": "execute_result"
    }
   ],
   "source": [
    "# find the max total stat\n",
    "fightingPokemonTotal.max()"
   ]
  },
  {
   "cell_type": "code",
   "execution_count": 112,
   "metadata": {},
   "outputs": [
    {
     "name": "stdout",
     "output_type": "stream",
     "text": [
      "Infernape\n"
     ]
    }
   ],
   "source": [
    "# find pokemon that is a fighting type and has the max total stat\n",
    "for i in range (0, 666): \n",
    "    if (pokemon.iloc[i, 1] == 'Fighting' or pokemon.iloc[i, 2] == 'Fighting'):\n",
    "        if(pokemon.iloc[i, 3] == 534):\n",
    "            print(pokemon.iloc[i, 0])"
   ]
  },
  {
   "cell_type": "code",
   "execution_count": 113,
   "metadata": {},
   "outputs": [
    {
     "data": {
      "text/html": [
       "<div>\n",
       "<style scoped>\n",
       "    .dataframe tbody tr th:only-of-type {\n",
       "        vertical-align: middle;\n",
       "    }\n",
       "\n",
       "    .dataframe tbody tr th {\n",
       "        vertical-align: top;\n",
       "    }\n",
       "\n",
       "    .dataframe thead th {\n",
       "        text-align: right;\n",
       "    }\n",
       "</style>\n",
       "<table border=\"1\" class=\"dataframe\">\n",
       "  <thead>\n",
       "    <tr style=\"text-align: right;\">\n",
       "      <th></th>\n",
       "      <th>0</th>\n",
       "    </tr>\n",
       "  </thead>\n",
       "  <tbody>\n",
       "    <tr>\n",
       "      <th>3</th>\n",
       "      <td>534</td>\n",
       "    </tr>\n",
       "    <tr>\n",
       "      <th>2</th>\n",
       "      <td>530</td>\n",
       "    </tr>\n",
       "    <tr>\n",
       "      <th>22</th>\n",
       "      <td>530</td>\n",
       "    </tr>\n",
       "    <tr>\n",
       "      <th>37</th>\n",
       "      <td>528</td>\n",
       "    </tr>\n",
       "    <tr>\n",
       "      <th>26</th>\n",
       "      <td>525</td>\n",
       "    </tr>\n",
       "    <tr>\n",
       "      <th>13</th>\n",
       "      <td>518</td>\n",
       "    </tr>\n",
       "    <tr>\n",
       "      <th>15</th>\n",
       "      <td>510</td>\n",
       "    </tr>\n",
       "    <tr>\n",
       "      <th>19</th>\n",
       "      <td>510</td>\n",
       "    </tr>\n",
       "    <tr>\n",
       "      <th>29</th>\n",
       "      <td>505</td>\n",
       "    </tr>\n",
       "    <tr>\n",
       "      <th>33</th>\n",
       "      <td>505</td>\n",
       "    </tr>\n",
       "  </tbody>\n",
       "</table>\n",
       "</div>"
      ],
      "text/plain": [
       "      0\n",
       "3   534\n",
       "2   530\n",
       "22  530\n",
       "37  528\n",
       "26  525\n",
       "13  518\n",
       "15  510\n",
       "19  510\n",
       "29  505\n",
       "33  505"
      ]
     },
     "execution_count": 113,
     "metadata": {},
     "output_type": "execute_result"
    }
   ],
   "source": [
    "# find the top 10 largest stats\n",
    "fightingPokemonTotal.nlargest(10,0)"
   ]
  },
  {
   "cell_type": "code",
   "execution_count": 114,
   "metadata": {},
   "outputs": [],
   "source": [
    "# Array that contains only the total stats of fighting type Pokemon\n",
    "fightingPokemonFinalTotalList = [534, 530, 530, 528, 525, 518, 510, 510, 505, 505]\n",
    "fightingPokemonFinalList = [fightingPokemon.iloc[3, 0], fightingPokemon.iloc[2, 0], fightingPokemon.iloc[22, 0],fightingPokemon.iloc[37, 0], fightingPokemon.iloc[26, 0], fightingPokemon.iloc[13, 0], fightingPokemon.iloc[15, 0], fightingPokemon.iloc[19, 0], fightingPokemon.iloc[29, 0], fightingPokemon.iloc[33, 0]]"
   ]
  },
  {
   "cell_type": "code",
   "execution_count": 115,
   "metadata": {},
   "outputs": [
    {
     "data": {
      "text/plain": [
       "<BarContainer object of 10 artists>"
      ]
     },
     "execution_count": 115,
     "metadata": {},
     "output_type": "execute_result"
    },
    {
     "data": {
      "image/png": "[encoded data removed]",
      "text/plain": [
       "<Figure size 432x288 with 1 Axes>"
      ]
     },
     "metadata": {
      "needs_background": "light"
     },
     "output_type": "display_data"
    }
   ],
   "source": [
    "# bar graph for strongest fighting pokemon\n",
    "plt.barh(fightingPokemonFinalList, fightingPokemonFinalTotalList, color='firebrick')"
   ]
  },
  {
   "cell_type": "code",
   "execution_count": 116,
   "metadata": {},
   "outputs": [],
   "source": [
    "# NOT NEEDED\n",
    "# Array that contains only psychic type Pokemon\n",
    "psychicPokemonList = []\n",
    "tempPsychicPokemonArr = pokemon['Name']\n",
    "for i in range (0, 666): \n",
    "    if (pokemon.iloc[i, 1] != 'Psychic'):\n",
    "        if(pokemon.iloc[i, 2] != 'Psychic'):\n",
    "#            del tempFirePokemonArr[i]\n",
    "            tempPsychicPokemonArr.drop(i)\n",
    "        else:\n",
    "            psychicPokemonList.append(tempPsychicPokemonArr[i])\n",
    "    elif (pokemon.iloc[i, 1] == 'Psychic'):\n",
    "        psychicPokemonList.append(tempPsychicPokemonArr[i])"
   ]
  },
  {
   "cell_type": "code",
   "execution_count": 117,
   "metadata": {},
   "outputs": [
    {
     "data": {
      "text/html": [
       "<div>\n",
       "<style scoped>\n",
       "    .dataframe tbody tr th:only-of-type {\n",
       "        vertical-align: middle;\n",
       "    }\n",
       "\n",
       "    .dataframe tbody tr th {\n",
       "        vertical-align: top;\n",
       "    }\n",
       "\n",
       "    .dataframe thead th {\n",
       "        text-align: right;\n",
       "    }\n",
       "</style>\n",
       "<table border=\"1\" class=\"dataframe\">\n",
       "  <thead>\n",
       "    <tr style=\"text-align: right;\">\n",
       "      <th></th>\n",
       "      <th>0</th>\n",
       "    </tr>\n",
       "  </thead>\n",
       "  <tbody>\n",
       "    <tr>\n",
       "      <th>0</th>\n",
       "      <td>Beldum</td>\n",
       "    </tr>\n",
       "    <tr>\n",
       "      <th>1</th>\n",
       "      <td>Espeon</td>\n",
       "    </tr>\n",
       "    <tr>\n",
       "      <th>2</th>\n",
       "      <td>Girafarig</td>\n",
       "    </tr>\n",
       "    <tr>\n",
       "      <th>3</th>\n",
       "      <td>Hypno</td>\n",
       "    </tr>\n",
       "    <tr>\n",
       "      <th>4</th>\n",
       "      <td>Unown</td>\n",
       "    </tr>\n",
       "  </tbody>\n",
       "</table>\n",
       "</div>"
      ],
      "text/plain": [
       "           0\n",
       "0     Beldum\n",
       "1     Espeon\n",
       "2  Girafarig\n",
       "3      Hypno\n",
       "4      Unown"
      ]
     },
     "execution_count": 117,
     "metadata": {},
     "output_type": "execute_result"
    }
   ],
   "source": [
    "# NOT NEEDED\n",
    "psychicPokemon = pd.DataFrame(psychicPokemonList)\n",
    "psychicPokemon.head()"
   ]
  },
  {
   "cell_type": "code",
   "execution_count": 118,
   "metadata": {},
   "outputs": [
    {
     "name": "stdout",
     "output_type": "stream",
     "text": [
      "                  0\n",
      "0            Beldum\n",
      "1            Espeon\n",
      "2         Girafarig\n",
      "3             Hypno\n",
      "4             Unown\n",
      "5            Woobat\n",
      "6        Gothitelle\n",
      "7          Beheeyem\n",
      "8           Drowzee\n",
      "9         Wobbuffet\n",
      "10            Ralts\n",
      "11          Solrock\n",
      "12          Bronzor\n",
      "13          Gallade\n",
      "14          Solosis\n",
      "15          Duosion\n",
      "16            Inkay\n",
      "17         Meditite\n",
      "18        Chingling\n",
      "19         Sigilyph\n",
      "20          Gothita\n",
      "21          Malamar\n",
      "22          Slowbro\n",
      "23           Kirlia\n",
      "24           Baltoy\n",
      "25          Claydol\n",
      "26           Metang\n",
      "27        Metagross\n",
      "28          Delphox\n",
      "29    Meowstic Male\n",
      "30         Alakazam\n",
      "31         Slowking\n",
      "32        Gothorita\n",
      "33           Espurr\n",
      "34  Meowstic Female\n",
      "35         Mr. Mime\n",
      "36             Jynx\n",
      "37        Gardevoir\n",
      "38           Wynaut\n",
      "39         Bronzong\n",
      "40            Munna\n",
      "41        Reuniclus\n",
      "42         Smoochum\n",
      "43           Spoink\n",
      "44         Lunatone\n",
      "45          Swoobat\n",
      "46             Abra\n",
      "47         Slowpoke\n",
      "48        Exeggcute\n",
      "49        Exeggutor\n",
      "50          Starmie\n",
      "51             Xatu\n",
      "52          Grumpig\n",
      "53         Chimecho\n",
      "54         Musharna\n",
      "55          Kadabra\n",
      "56             Natu\n",
      "57         Medicham\n",
      "58         Mime Jr.\n",
      "59           Elgyem\n"
     ]
    }
   ],
   "source": [
    "print(psychicPokemon)"
   ]
  },
  {
   "cell_type": "code",
   "execution_count": 119,
   "metadata": {},
   "outputs": [],
   "source": [
    "# Array that contains only the total stats of psychic type Pokemon\n",
    "psychicPokemonTotalList = []\n",
    "tempPokemonArr = pokemon['Total']\n",
    "for i in range (0, 666): \n",
    "    if (pokemon.iloc[i, 1] != 'Psychic'): # type1 is not psychic\n",
    "        if(pokemon.iloc[i, 2] != 'Psychic'): # type2 is not psychic\n",
    "#            del tempPokemonArr[i] # delete entry if it is not a psychic type\n",
    "            tempPokemonArr.drop(i)\n",
    "        else:\n",
    "            psychicPokemonTotalList.append(tempPokemonArr[i]) # add to list if type2 = psychic\n",
    "    elif (pokemon.iloc[i, 1] == 'Psychic'):\n",
    "        psychicPokemonTotalList.append(tempPokemonArr[i]) # add to list if type1 = psychic"
   ]
  },
  {
   "cell_type": "code",
   "execution_count": 120,
   "metadata": {},
   "outputs": [
    {
     "data": {
      "text/html": [
       "<div>\n",
       "<style scoped>\n",
       "    .dataframe tbody tr th:only-of-type {\n",
       "        vertical-align: middle;\n",
       "    }\n",
       "\n",
       "    .dataframe tbody tr th {\n",
       "        vertical-align: top;\n",
       "    }\n",
       "\n",
       "    .dataframe thead th {\n",
       "        text-align: right;\n",
       "    }\n",
       "</style>\n",
       "<table border=\"1\" class=\"dataframe\">\n",
       "  <thead>\n",
       "    <tr style=\"text-align: right;\">\n",
       "      <th></th>\n",
       "      <th>0</th>\n",
       "    </tr>\n",
       "  </thead>\n",
       "  <tbody>\n",
       "    <tr>\n",
       "      <th>0</th>\n",
       "      <td>300</td>\n",
       "    </tr>\n",
       "    <tr>\n",
       "      <th>1</th>\n",
       "      <td>525</td>\n",
       "    </tr>\n",
       "    <tr>\n",
       "      <th>2</th>\n",
       "      <td>455</td>\n",
       "    </tr>\n",
       "    <tr>\n",
       "      <th>3</th>\n",
       "      <td>483</td>\n",
       "    </tr>\n",
       "    <tr>\n",
       "      <th>4</th>\n",
       "      <td>336</td>\n",
       "    </tr>\n",
       "  </tbody>\n",
       "</table>\n",
       "</div>"
      ],
      "text/plain": [
       "     0\n",
       "0  300\n",
       "1  525\n",
       "2  455\n",
       "3  483\n",
       "4  336"
      ]
     },
     "execution_count": 120,
     "metadata": {},
     "output_type": "execute_result"
    }
   ],
   "source": [
    "psychicPokemonTotal = pd.DataFrame(psychicPokemonTotalList)\n",
    "psychicPokemonTotal.head()"
   ]
  },
  {
   "cell_type": "code",
   "execution_count": 121,
   "metadata": {},
   "outputs": [
    {
     "name": "stdout",
     "output_type": "stream",
     "text": [
      "      0\n",
      "0   300\n",
      "1   525\n",
      "2   455\n",
      "3   483\n",
      "4   336\n",
      "5   313\n",
      "6   490\n",
      "7   485\n",
      "8   328\n",
      "9   405\n",
      "10  198\n",
      "11  440\n",
      "12  300\n",
      "13  518\n",
      "14  290\n",
      "15  370\n",
      "16  288\n",
      "17  280\n",
      "18  285\n",
      "19  490\n",
      "20  290\n",
      "21  482\n",
      "22  490\n",
      "23  278\n",
      "24  300\n",
      "25  500\n",
      "26  420\n",
      "27  600\n",
      "28  534\n",
      "29  466\n",
      "30  500\n",
      "31  490\n",
      "32  390\n",
      "33  355\n",
      "34  466\n",
      "35  460\n",
      "36  455\n",
      "37  518\n",
      "38  260\n",
      "39  500\n",
      "40  292\n",
      "41  490\n",
      "42  305\n",
      "43  330\n",
      "44  440\n",
      "45  425\n",
      "46  310\n",
      "47  315\n",
      "48  325\n",
      "49  520\n",
      "50  520\n",
      "51  470\n",
      "52  470\n",
      "53  425\n",
      "54  487\n",
      "55  400\n",
      "56  320\n",
      "57  410\n",
      "58  310\n",
      "59  335\n"
     ]
    }
   ],
   "source": [
    "print(psychicPokemonTotal)"
   ]
  },
  {
   "cell_type": "code",
   "execution_count": 122,
   "metadata": {},
   "outputs": [
    {
     "data": {
      "text/plain": [
       "0    600\n",
       "dtype: int64"
      ]
     },
     "execution_count": 122,
     "metadata": {},
     "output_type": "execute_result"
    }
   ],
   "source": [
    "# find the max total stat\n",
    "psychicPokemonTotal.max()"
   ]
  },
  {
   "cell_type": "code",
   "execution_count": 123,
   "metadata": {},
   "outputs": [
    {
     "name": "stdout",
     "output_type": "stream",
     "text": [
      "Metagross\n"
     ]
    }
   ],
   "source": [
    "# find pokemon that is a psychic type and has the max total stat\n",
    "for i in range (0, 666): \n",
    "    if (pokemon.iloc[i, 1] == 'Psychic' or pokemon.iloc[i, 2] == 'Psychic'):\n",
    "        if(pokemon.iloc[i, 3] == 600):\n",
    "            print(pokemon.iloc[i, 0])"
   ]
  },
  {
   "cell_type": "code",
   "execution_count": 124,
   "metadata": {},
   "outputs": [
    {
     "data": {
      "text/html": [
       "<div>\n",
       "<style scoped>\n",
       "    .dataframe tbody tr th:only-of-type {\n",
       "        vertical-align: middle;\n",
       "    }\n",
       "\n",
       "    .dataframe tbody tr th {\n",
       "        vertical-align: top;\n",
       "    }\n",
       "\n",
       "    .dataframe thead th {\n",
       "        text-align: right;\n",
       "    }\n",
       "</style>\n",
       "<table border=\"1\" class=\"dataframe\">\n",
       "  <thead>\n",
       "    <tr style=\"text-align: right;\">\n",
       "      <th></th>\n",
       "      <th>0</th>\n",
       "    </tr>\n",
       "  </thead>\n",
       "  <tbody>\n",
       "    <tr>\n",
       "      <th>27</th>\n",
       "      <td>600</td>\n",
       "    </tr>\n",
       "    <tr>\n",
       "      <th>28</th>\n",
       "      <td>534</td>\n",
       "    </tr>\n",
       "    <tr>\n",
       "      <th>1</th>\n",
       "      <td>525</td>\n",
       "    </tr>\n",
       "    <tr>\n",
       "      <th>49</th>\n",
       "      <td>520</td>\n",
       "    </tr>\n",
       "    <tr>\n",
       "      <th>50</th>\n",
       "      <td>520</td>\n",
       "    </tr>\n",
       "    <tr>\n",
       "      <th>13</th>\n",
       "      <td>518</td>\n",
       "    </tr>\n",
       "    <tr>\n",
       "      <th>37</th>\n",
       "      <td>518</td>\n",
       "    </tr>\n",
       "    <tr>\n",
       "      <th>25</th>\n",
       "      <td>500</td>\n",
       "    </tr>\n",
       "    <tr>\n",
       "      <th>30</th>\n",
       "      <td>500</td>\n",
       "    </tr>\n",
       "    <tr>\n",
       "      <th>39</th>\n",
       "      <td>500</td>\n",
       "    </tr>\n",
       "  </tbody>\n",
       "</table>\n",
       "</div>"
      ],
      "text/plain": [
       "      0\n",
       "27  600\n",
       "28  534\n",
       "1   525\n",
       "49  520\n",
       "50  520\n",
       "13  518\n",
       "37  518\n",
       "25  500\n",
       "30  500\n",
       "39  500"
      ]
     },
     "execution_count": 124,
     "metadata": {},
     "output_type": "execute_result"
    }
   ],
   "source": [
    "# find the top 10 largest stats\n",
    "psychicPokemonTotal.nlargest(10,0)"
   ]
  },
  {
   "cell_type": "code",
   "execution_count": 125,
   "metadata": {},
   "outputs": [],
   "source": [
    "# Array that contains only the total stats of psychic type Pokemon\n",
    "psychicPokemonFinalTotalList = [600, 534, 525, 520, 520, 518, 518, 500, 500, 500]\n",
    "psychicPokemonFinalList = [psychicPokemon.iloc[27, 0], psychicPokemon.iloc[28, 0], psychicPokemon.iloc[1, 0],psychicPokemon.iloc[49, 0], psychicPokemon.iloc[50, 0], psychicPokemon.iloc[13, 0], psychicPokemon.iloc[37, 0], psychicPokemon.iloc[25, 0], psychicPokemon.iloc[30, 0], psychicPokemon.iloc[39, 0]]"
   ]
  },
  {
   "cell_type": "code",
   "execution_count": 126,
   "metadata": {},
   "outputs": [
    {
     "data": {
      "text/plain": [
       "<BarContainer object of 10 artists>"
      ]
     },
     "execution_count": 126,
     "metadata": {},
     "output_type": "execute_result"
    },
    {
     "data": {
      "image/png": "[encoded data removed]",
      "text/plain": [
       "<Figure size 432x288 with 1 Axes>"
      ]
     },
     "metadata": {
      "needs_background": "light"
     },
     "output_type": "display_data"
    }
   ],
   "source": [
    "# bar graph for strongest psychic pokemon\n",
    "plt.barh(psychicPokemonFinalList, psychicPokemonFinalTotalList, color='violet')"
   ]
  },
  {
   "cell_type": "code",
   "execution_count": 127,
   "metadata": {},
   "outputs": [],
   "source": [
    "# NOT NEEDED\n",
    "# Array that contains only rock type Pokemon\n",
    "rockPokemonList = []\n",
    "tempRockPokemonArr = pokemon['Name']\n",
    "for i in range (0, 666): \n",
    "    if (pokemon.iloc[i, 1] != 'Rock'):\n",
    "        if(pokemon.iloc[i, 2] != 'Rock'):\n",
    "#            del tempFirePokemonArr[i]\n",
    "            tempRockPokemonArr.drop(i)\n",
    "        else:\n",
    "            rockPokemonList.append(tempRockPokemonArr[i])\n",
    "    elif (pokemon.iloc[i, 1] == 'Rock'):\n",
    "        rockPokemonList.append(tempRockPokemonArr[i])"
   ]
  },
  {
   "cell_type": "code",
   "execution_count": 128,
   "metadata": {},
   "outputs": [
    {
     "data": {
      "text/html": [
       "<div>\n",
       "<style scoped>\n",
       "    .dataframe tbody tr th:only-of-type {\n",
       "        vertical-align: middle;\n",
       "    }\n",
       "\n",
       "    .dataframe tbody tr th {\n",
       "        vertical-align: top;\n",
       "    }\n",
       "\n",
       "    .dataframe thead th {\n",
       "        text-align: right;\n",
       "    }\n",
       "</style>\n",
       "<table border=\"1\" class=\"dataframe\">\n",
       "  <thead>\n",
       "    <tr style=\"text-align: right;\">\n",
       "      <th></th>\n",
       "      <th>0</th>\n",
       "    </tr>\n",
       "  </thead>\n",
       "  <tbody>\n",
       "    <tr>\n",
       "      <th>0</th>\n",
       "      <td>Omastar</td>\n",
       "    </tr>\n",
       "    <tr>\n",
       "      <th>1</th>\n",
       "      <td>Geodude</td>\n",
       "    </tr>\n",
       "    <tr>\n",
       "      <th>2</th>\n",
       "      <td>Sudowoodo</td>\n",
       "    </tr>\n",
       "    <tr>\n",
       "      <th>3</th>\n",
       "      <td>Bonsly</td>\n",
       "    </tr>\n",
       "    <tr>\n",
       "      <th>4</th>\n",
       "      <td>Carracosta</td>\n",
       "    </tr>\n",
       "  </tbody>\n",
       "</table>\n",
       "</div>"
      ],
      "text/plain": [
       "            0\n",
       "0     Omastar\n",
       "1     Geodude\n",
       "2   Sudowoodo\n",
       "3      Bonsly\n",
       "4  Carracosta"
      ]
     },
     "execution_count": 128,
     "metadata": {},
     "output_type": "execute_result"
    }
   ],
   "source": [
    "# NOT NEEDED\n",
    "rockPokemon = pd.DataFrame(rockPokemonList)\n",
    "rockPokemon.head()"
   ]
  },
  {
   "cell_type": "code",
   "execution_count": 129,
   "metadata": {},
   "outputs": [
    {
     "name": "stdout",
     "output_type": "stream",
     "text": [
      "             0\n",
      "0      Omastar\n",
      "1      Geodude\n",
      "2    Sudowoodo\n",
      "3       Bonsly\n",
      "4   Carracosta\n",
      "5      Omanyte\n",
      "6      Cradily\n",
      "7    Rhyperior\n",
      "8      Crustle\n",
      "9       Archen\n",
      "10   Tyrantrum\n",
      "11    Graveler\n",
      "12   Tyranitar\n",
      "13      Aggron\n",
      "14     Solrock\n",
      "15   Bastiodon\n",
      "16      Tyrunt\n",
      "17     Aurorus\n",
      "18     Rhyhorn\n",
      "19      Rhydon\n",
      "20   Probopass\n",
      "21  Barbaracle\n",
      "22     Corsola\n",
      "23     Anorith\n",
      "24   Relicanth\n",
      "25        Onix\n",
      "26  Aerodactyl\n",
      "27     Carbink\n",
      "28    Larvitar\n",
      "29    Nosepass\n",
      "30   Rampardos\n",
      "31     Boldore\n",
      "32    Archeops\n",
      "33     Pupitar\n",
      "34      Lairon\n",
      "35     Dwebble\n",
      "36    Tirtouga\n",
      "37     Binacle\n",
      "38    Magcargo\n",
      "39        Aron\n",
      "40    Lunatone\n",
      "41       Golem\n",
      "42    Kabutops\n",
      "43     Shuckle\n",
      "44     Armaldo\n",
      "45    Cranidos\n",
      "46    Shieldon\n",
      "47    Gigalith\n",
      "48      Kabuto\n",
      "49      Lileep\n",
      "50  Roggenrola\n",
      "51      Amaura\n"
     ]
    }
   ],
   "source": [
    "print(rockPokemon)"
   ]
  },
  {
   "cell_type": "code",
   "execution_count": 130,
   "metadata": {},
   "outputs": [],
   "source": [
    "# Array that contains only the total stats of rock type Pokemon\n",
    "rockPokemonTotalList = []\n",
    "tempPokemonArr = pokemon['Total']\n",
    "for i in range (0, 666): \n",
    "    if (pokemon.iloc[i, 1] != 'Rock'): # type1 is not rock\n",
    "        if(pokemon.iloc[i, 2] != 'Rock'): # type2 is not rock\n",
    "#            del tempPokemonArr[i] # delete entry if it is not a rock type\n",
    "            tempPokemonArr.drop(i)\n",
    "        else:\n",
    "            rockPokemonTotalList.append(tempPokemonArr[i]) # add to list if type2 = rock\n",
    "    elif (pokemon.iloc[i, 1] == 'Rock'):\n",
    "        rockPokemonTotalList.append(tempPokemonArr[i]) # add to list if type1 = rock"
   ]
  },
  {
   "cell_type": "code",
   "execution_count": 131,
   "metadata": {},
   "outputs": [
    {
     "data": {
      "text/html": [
       "<div>\n",
       "<style scoped>\n",
       "    .dataframe tbody tr th:only-of-type {\n",
       "        vertical-align: middle;\n",
       "    }\n",
       "\n",
       "    .dataframe tbody tr th {\n",
       "        vertical-align: top;\n",
       "    }\n",
       "\n",
       "    .dataframe thead th {\n",
       "        text-align: right;\n",
       "    }\n",
       "</style>\n",
       "<table border=\"1\" class=\"dataframe\">\n",
       "  <thead>\n",
       "    <tr style=\"text-align: right;\">\n",
       "      <th></th>\n",
       "      <th>0</th>\n",
       "    </tr>\n",
       "  </thead>\n",
       "  <tbody>\n",
       "    <tr>\n",
       "      <th>0</th>\n",
       "      <td>495</td>\n",
       "    </tr>\n",
       "    <tr>\n",
       "      <th>1</th>\n",
       "      <td>300</td>\n",
       "    </tr>\n",
       "    <tr>\n",
       "      <th>2</th>\n",
       "      <td>410</td>\n",
       "    </tr>\n",
       "    <tr>\n",
       "      <th>3</th>\n",
       "      <td>290</td>\n",
       "    </tr>\n",
       "    <tr>\n",
       "      <th>4</th>\n",
       "      <td>495</td>\n",
       "    </tr>\n",
       "  </tbody>\n",
       "</table>\n",
       "</div>"
      ],
      "text/plain": [
       "     0\n",
       "0  495\n",
       "1  300\n",
       "2  410\n",
       "3  290\n",
       "4  495"
      ]
     },
     "execution_count": 131,
     "metadata": {},
     "output_type": "execute_result"
    }
   ],
   "source": [
    "rockPokemonTotal = pd.DataFrame(rockPokemonTotalList)\n",
    "rockPokemonTotal.head()"
   ]
  },
  {
   "cell_type": "code",
   "execution_count": 132,
   "metadata": {},
   "outputs": [
    {
     "name": "stdout",
     "output_type": "stream",
     "text": [
      "      0\n",
      "0   495\n",
      "1   300\n",
      "2   410\n",
      "3   290\n",
      "4   495\n",
      "5   355\n",
      "6   495\n",
      "7   535\n",
      "8   475\n",
      "9   401\n",
      "10  521\n",
      "11  390\n",
      "12  600\n",
      "13  530\n",
      "14  440\n",
      "15  495\n",
      "16  362\n",
      "17  521\n",
      "18  345\n",
      "19  485\n",
      "20  525\n",
      "21  500\n",
      "22  380\n",
      "23  355\n",
      "24  485\n",
      "25  385\n",
      "26  515\n",
      "27  500\n",
      "28  300\n",
      "29  375\n",
      "30  495\n",
      "31  390\n",
      "32  567\n",
      "33  410\n",
      "34  430\n",
      "35  325\n",
      "36  355\n",
      "37  306\n",
      "38  410\n",
      "39  330\n",
      "40  440\n",
      "41  495\n",
      "42  495\n",
      "43  505\n",
      "44  495\n",
      "45  350\n",
      "46  350\n",
      "47  515\n",
      "48  355\n",
      "49  355\n",
      "50  280\n",
      "51  362\n"
     ]
    }
   ],
   "source": [
    "print(rockPokemonTotal)"
   ]
  },
  {
   "cell_type": "code",
   "execution_count": 133,
   "metadata": {},
   "outputs": [
    {
     "data": {
      "text/plain": [
       "0    600\n",
       "dtype: int64"
      ]
     },
     "execution_count": 133,
     "metadata": {},
     "output_type": "execute_result"
    }
   ],
   "source": [
    "# find the max total stat\n",
    "rockPokemonTotal.max()"
   ]
  },
  {
   "cell_type": "code",
   "execution_count": 134,
   "metadata": {},
   "outputs": [
    {
     "name": "stdout",
     "output_type": "stream",
     "text": [
      "Tyranitar\n"
     ]
    }
   ],
   "source": [
    "# find pokemon that is a rock type and has the max total stat\n",
    "for i in range (0, 666): \n",
    "    if (pokemon.iloc[i, 1] == 'Rock' or pokemon.iloc[i, 2] == 'Rock'):\n",
    "        if(pokemon.iloc[i, 3] == 600):\n",
    "            print(pokemon.iloc[i, 0])"
   ]
  },
  {
   "cell_type": "code",
   "execution_count": 135,
   "metadata": {},
   "outputs": [
    {
     "data": {
      "text/html": [
       "<div>\n",
       "<style scoped>\n",
       "    .dataframe tbody tr th:only-of-type {\n",
       "        vertical-align: middle;\n",
       "    }\n",
       "\n",
       "    .dataframe tbody tr th {\n",
       "        vertical-align: top;\n",
       "    }\n",
       "\n",
       "    .dataframe thead th {\n",
       "        text-align: right;\n",
       "    }\n",
       "</style>\n",
       "<table border=\"1\" class=\"dataframe\">\n",
       "  <thead>\n",
       "    <tr style=\"text-align: right;\">\n",
       "      <th></th>\n",
       "      <th>0</th>\n",
       "    </tr>\n",
       "  </thead>\n",
       "  <tbody>\n",
       "    <tr>\n",
       "      <th>12</th>\n",
       "      <td>600</td>\n",
       "    </tr>\n",
       "    <tr>\n",
       "      <th>32</th>\n",
       "      <td>567</td>\n",
       "    </tr>\n",
       "    <tr>\n",
       "      <th>7</th>\n",
       "      <td>535</td>\n",
       "    </tr>\n",
       "    <tr>\n",
       "      <th>13</th>\n",
       "      <td>530</td>\n",
       "    </tr>\n",
       "    <tr>\n",
       "      <th>20</th>\n",
       "      <td>525</td>\n",
       "    </tr>\n",
       "    <tr>\n",
       "      <th>10</th>\n",
       "      <td>521</td>\n",
       "    </tr>\n",
       "    <tr>\n",
       "      <th>17</th>\n",
       "      <td>521</td>\n",
       "    </tr>\n",
       "    <tr>\n",
       "      <th>26</th>\n",
       "      <td>515</td>\n",
       "    </tr>\n",
       "    <tr>\n",
       "      <th>47</th>\n",
       "      <td>515</td>\n",
       "    </tr>\n",
       "    <tr>\n",
       "      <th>43</th>\n",
       "      <td>505</td>\n",
       "    </tr>\n",
       "  </tbody>\n",
       "</table>\n",
       "</div>"
      ],
      "text/plain": [
       "      0\n",
       "12  600\n",
       "32  567\n",
       "7   535\n",
       "13  530\n",
       "20  525\n",
       "10  521\n",
       "17  521\n",
       "26  515\n",
       "47  515\n",
       "43  505"
      ]
     },
     "execution_count": 135,
     "metadata": {},
     "output_type": "execute_result"
    }
   ],
   "source": [
    "# find the top 10 largest stats\n",
    "rockPokemonTotal.nlargest(10,0)"
   ]
  },
  {
   "cell_type": "code",
   "execution_count": 136,
   "metadata": {},
   "outputs": [],
   "source": [
    "# Array that contains only the total stats of rock type Pokemon\n",
    "rockPokemonFinalTotalList = [600, 567, 535, 530, 525, 521, 521, 515, 515, 505]\n",
    "rockPokemonFinalList = [rockPokemon.iloc[12, 0], rockPokemon.iloc[32, 0], rockPokemon.iloc[7, 0],rockPokemon.iloc[13, 0], rockPokemon.iloc[20, 0], rockPokemon.iloc[10, 0], rockPokemon.iloc[17, 0], rockPokemon.iloc[26, 0], rockPokemon.iloc[47, 0], rockPokemon.iloc[43, 0]]"
   ]
  },
  {
   "cell_type": "code",
   "execution_count": 137,
   "metadata": {},
   "outputs": [
    {
     "data": {
      "text/plain": [
       "<BarContainer object of 10 artists>"
      ]
     },
     "execution_count": 137,
     "metadata": {},
     "output_type": "execute_result"
    },
    {
     "data": {
      "image/png": "[encoded data removed]",
      "text/plain": [
       "<Figure size 432x288 with 1 Axes>"
      ]
     },
     "metadata": {
      "needs_background": "light"
     },
     "output_type": "display_data"
    }
   ],
   "source": [
    "# bar graph for strongest rock pokemon\n",
    "plt.barh(rockPokemonFinalList, rockPokemonFinalTotalList, color='tan')"
   ]
  },
  {
   "cell_type": "code",
   "execution_count": 138,
   "metadata": {},
   "outputs": [],
   "source": [
    "# NOT NEEDED\n",
    "# Array that contains only ghost type Pokemon\n",
    "ghostPokemonList = []\n",
    "tempGhostPokemonArr = pokemon['Name']\n",
    "for i in range (0, 666): \n",
    "    if (pokemon.iloc[i, 1] != 'Ghost'):\n",
    "        if(pokemon.iloc[i, 2] != 'Ghost'):\n",
    "#            del tempFirePokemonArr[i]\n",
    "            tempGhostPokemonArr.drop(i)\n",
    "        else:\n",
    "            ghostPokemonList.append(tempGhostPokemonArr[i])\n",
    "    elif (pokemon.iloc[i, 1] == 'Ghost'):\n",
    "        ghostPokemonList.append(tempGhostPokemonArr[i])"
   ]
  },
  {
   "cell_type": "code",
   "execution_count": 139,
   "metadata": {},
   "outputs": [
    {
     "data": {
      "text/html": [
       "<div>\n",
       "<style scoped>\n",
       "    .dataframe tbody tr th:only-of-type {\n",
       "        vertical-align: middle;\n",
       "    }\n",
       "\n",
       "    .dataframe tbody tr th {\n",
       "        vertical-align: top;\n",
       "    }\n",
       "\n",
       "    .dataframe thead th {\n",
       "        text-align: right;\n",
       "    }\n",
       "</style>\n",
       "<table border=\"1\" class=\"dataframe\">\n",
       "  <thead>\n",
       "    <tr style=\"text-align: right;\">\n",
       "      <th></th>\n",
       "      <th>0</th>\n",
       "    </tr>\n",
       "  </thead>\n",
       "  <tbody>\n",
       "    <tr>\n",
       "      <th>0</th>\n",
       "      <td>Dusknoir</td>\n",
       "    </tr>\n",
       "    <tr>\n",
       "      <th>1</th>\n",
       "      <td>Litwick</td>\n",
       "    </tr>\n",
       "    <tr>\n",
       "      <th>2</th>\n",
       "      <td>Chandelure</td>\n",
       "    </tr>\n",
       "    <tr>\n",
       "      <th>3</th>\n",
       "      <td>Pumpkaboo</td>\n",
       "    </tr>\n",
       "    <tr>\n",
       "      <th>4</th>\n",
       "      <td>Shuppet</td>\n",
       "    </tr>\n",
       "  </tbody>\n",
       "</table>\n",
       "</div>"
      ],
      "text/plain": [
       "            0\n",
       "0    Dusknoir\n",
       "1     Litwick\n",
       "2  Chandelure\n",
       "3   Pumpkaboo\n",
       "4     Shuppet"
      ]
     },
     "execution_count": 139,
     "metadata": {},
     "output_type": "execute_result"
    }
   ],
   "source": [
    "# NOT NEEDED\n",
    "ghostPokemon = pd.DataFrame(ghostPokemonList)\n",
    "ghostPokemon.head()"
   ]
  },
  {
   "cell_type": "code",
   "execution_count": 140,
   "metadata": {},
   "outputs": [
    {
     "name": "stdout",
     "output_type": "stream",
     "text": [
      "             0\n",
      "0     Dusknoir\n",
      "1      Litwick\n",
      "2   Chandelure\n",
      "3    Pumpkaboo\n",
      "4      Shuppet\n",
      "5      Banette\n",
      "6     Dusclops\n",
      "7     Drifblim\n",
      "8    Spiritomb\n",
      "9      Honedge\n",
      "10   Aegislash\n",
      "11      Gengar\n",
      "12     Duskull\n",
      "13      Golett\n",
      "14   Gourgeist\n",
      "15      Golurk\n",
      "16     Sableye\n",
      "17    Drifloon\n",
      "18       Rotom\n",
      "19    Froslass\n",
      "20    Frillish\n",
      "21     Lampent\n",
      "22    Phantump\n",
      "23  Misdreavus\n",
      "24   Mismagius\n",
      "25      Gastly\n",
      "26      Yamask\n",
      "27  Cofagrigus\n",
      "28    Shedinja\n",
      "29     Haunter\n",
      "30   Jellicent\n",
      "31   Trevenant\n",
      "32    Doublade\n"
     ]
    }
   ],
   "source": [
    "print(ghostPokemon)"
   ]
  },
  {
   "cell_type": "code",
   "execution_count": 141,
   "metadata": {},
   "outputs": [],
   "source": [
    "# Array that contains only the total stats of ghost type Pokemon\n",
    "ghostPokemonTotalList = []\n",
    "tempPokemonArr = pokemon['Total']\n",
    "for i in range (0, 666): \n",
    "    if (pokemon.iloc[i, 1] != 'Ghost'): # type1 is not ghost\n",
    "        if(pokemon.iloc[i, 2] != 'Ghost'): # type2 is not ghost\n",
    "#            del tempPokemonArr[i] # delete entry if it is not a ghost type\n",
    "            tempPokemonArr.drop(i)\n",
    "        else:\n",
    "            ghostPokemonTotalList.append(tempPokemonArr[i]) # add to list if type2 = ghost\n",
    "    elif (pokemon.iloc[i, 1] == 'Ghost'):\n",
    "        ghostPokemonTotalList.append(tempPokemonArr[i]) # add to list if type1 = ghost"
   ]
  },
  {
   "cell_type": "code",
   "execution_count": 142,
   "metadata": {},
   "outputs": [
    {
     "data": {
      "text/html": [
       "<div>\n",
       "<style scoped>\n",
       "    .dataframe tbody tr th:only-of-type {\n",
       "        vertical-align: middle;\n",
       "    }\n",
       "\n",
       "    .dataframe tbody tr th {\n",
       "        vertical-align: top;\n",
       "    }\n",
       "\n",
       "    .dataframe thead th {\n",
       "        text-align: right;\n",
       "    }\n",
       "</style>\n",
       "<table border=\"1\" class=\"dataframe\">\n",
       "  <thead>\n",
       "    <tr style=\"text-align: right;\">\n",
       "      <th></th>\n",
       "      <th>0</th>\n",
       "    </tr>\n",
       "  </thead>\n",
       "  <tbody>\n",
       "    <tr>\n",
       "      <th>0</th>\n",
       "      <td>525</td>\n",
       "    </tr>\n",
       "    <tr>\n",
       "      <th>1</th>\n",
       "      <td>275</td>\n",
       "    </tr>\n",
       "    <tr>\n",
       "      <th>2</th>\n",
       "      <td>520</td>\n",
       "    </tr>\n",
       "    <tr>\n",
       "      <th>3</th>\n",
       "      <td>335</td>\n",
       "    </tr>\n",
       "    <tr>\n",
       "      <th>4</th>\n",
       "      <td>295</td>\n",
       "    </tr>\n",
       "  </tbody>\n",
       "</table>\n",
       "</div>"
      ],
      "text/plain": [
       "     0\n",
       "0  525\n",
       "1  275\n",
       "2  520\n",
       "3  335\n",
       "4  295"
      ]
     },
     "execution_count": 142,
     "metadata": {},
     "output_type": "execute_result"
    }
   ],
   "source": [
    "ghostPokemonTotal = pd.DataFrame(ghostPokemonTotalList)\n",
    "ghostPokemonTotal.head()"
   ]
  },
  {
   "cell_type": "code",
   "execution_count": 143,
   "metadata": {},
   "outputs": [
    {
     "name": "stdout",
     "output_type": "stream",
     "text": [
      "      0\n",
      "0   525\n",
      "1   275\n",
      "2   520\n",
      "3   335\n",
      "4   295\n",
      "5   455\n",
      "6   455\n",
      "7   498\n",
      "8   485\n",
      "9   325\n",
      "10  520\n",
      "11  500\n",
      "12  295\n",
      "13  303\n",
      "14  494\n",
      "15  483\n",
      "16  380\n",
      "17  348\n",
      "18  440\n",
      "19  480\n",
      "20  335\n",
      "21  370\n",
      "22  309\n",
      "23  435\n",
      "24  495\n",
      "25  310\n",
      "26  303\n",
      "27  483\n",
      "28  236\n",
      "29  405\n",
      "30  480\n",
      "31  474\n",
      "32  448\n"
     ]
    }
   ],
   "source": [
    "print(ghostPokemonTotal)"
   ]
  },
  {
   "cell_type": "code",
   "execution_count": 144,
   "metadata": {},
   "outputs": [
    {
     "data": {
      "text/plain": [
       "0    525\n",
       "dtype: int64"
      ]
     },
     "execution_count": 144,
     "metadata": {},
     "output_type": "execute_result"
    }
   ],
   "source": [
    "# find the max total stat\n",
    "ghostPokemonTotal.max()"
   ]
  },
  {
   "cell_type": "code",
   "execution_count": 145,
   "metadata": {},
   "outputs": [
    {
     "name": "stdout",
     "output_type": "stream",
     "text": [
      "Dusknoir\n"
     ]
    }
   ],
   "source": [
    "# find pokemon that is a ghost type and has the max total stat\n",
    "for i in range (0, 666): \n",
    "    if (pokemon.iloc[i, 1] == 'Ghost' or pokemon.iloc[i, 2] == 'Ghost'):\n",
    "        if(pokemon.iloc[i, 3] == 525):\n",
    "            print(pokemon.iloc[i, 0])"
   ]
  },
  {
   "cell_type": "code",
   "execution_count": 146,
   "metadata": {},
   "outputs": [
    {
     "data": {
      "text/html": [
       "<div>\n",
       "<style scoped>\n",
       "    .dataframe tbody tr th:only-of-type {\n",
       "        vertical-align: middle;\n",
       "    }\n",
       "\n",
       "    .dataframe tbody tr th {\n",
       "        vertical-align: top;\n",
       "    }\n",
       "\n",
       "    .dataframe thead th {\n",
       "        text-align: right;\n",
       "    }\n",
       "</style>\n",
       "<table border=\"1\" class=\"dataframe\">\n",
       "  <thead>\n",
       "    <tr style=\"text-align: right;\">\n",
       "      <th></th>\n",
       "      <th>0</th>\n",
       "    </tr>\n",
       "  </thead>\n",
       "  <tbody>\n",
       "    <tr>\n",
       "      <th>0</th>\n",
       "      <td>525</td>\n",
       "    </tr>\n",
       "    <tr>\n",
       "      <th>2</th>\n",
       "      <td>520</td>\n",
       "    </tr>\n",
       "    <tr>\n",
       "      <th>10</th>\n",
       "      <td>520</td>\n",
       "    </tr>\n",
       "    <tr>\n",
       "      <th>11</th>\n",
       "      <td>500</td>\n",
       "    </tr>\n",
       "    <tr>\n",
       "      <th>7</th>\n",
       "      <td>498</td>\n",
       "    </tr>\n",
       "    <tr>\n",
       "      <th>24</th>\n",
       "      <td>495</td>\n",
       "    </tr>\n",
       "    <tr>\n",
       "      <th>14</th>\n",
       "      <td>494</td>\n",
       "    </tr>\n",
       "    <tr>\n",
       "      <th>8</th>\n",
       "      <td>485</td>\n",
       "    </tr>\n",
       "    <tr>\n",
       "      <th>15</th>\n",
       "      <td>483</td>\n",
       "    </tr>\n",
       "    <tr>\n",
       "      <th>27</th>\n",
       "      <td>483</td>\n",
       "    </tr>\n",
       "  </tbody>\n",
       "</table>\n",
       "</div>"
      ],
      "text/plain": [
       "      0\n",
       "0   525\n",
       "2   520\n",
       "10  520\n",
       "11  500\n",
       "7   498\n",
       "24  495\n",
       "14  494\n",
       "8   485\n",
       "15  483\n",
       "27  483"
      ]
     },
     "execution_count": 146,
     "metadata": {},
     "output_type": "execute_result"
    }
   ],
   "source": [
    "# find the top 10 largest stats\n",
    "ghostPokemonTotal.nlargest(10,0)"
   ]
  },
  {
   "cell_type": "code",
   "execution_count": 147,
   "metadata": {},
   "outputs": [],
   "source": [
    "# Array that contains only the total stats of ghost type Pokemon\n",
    "ghostPokemonFinalTotalList = [525, 520, 520, 500, 498, 495, 494, 485, 483, 483]\n",
    "ghostPokemonFinalList = [ghostPokemon.iloc[0, 0], ghostPokemon.iloc[2, 0], ghostPokemon.iloc[10, 0],ghostPokemon.iloc[11, 0], ghostPokemon.iloc[7, 0], ghostPokemon.iloc[24, 0], ghostPokemon.iloc[14, 0], ghostPokemon.iloc[8, 0], ghostPokemon.iloc[15, 0], ghostPokemon.iloc[27, 0]]"
   ]
  },
  {
   "cell_type": "code",
   "execution_count": 148,
   "metadata": {},
   "outputs": [
    {
     "data": {
      "text/plain": [
       "<BarContainer object of 10 artists>"
      ]
     },
     "execution_count": 148,
     "metadata": {},
     "output_type": "execute_result"
    },
    {
     "data": {
      "image/png": "[encoded data removed]",
      "text/plain": [
       "<Figure size 432x288 with 1 Axes>"
      ]
     },
     "metadata": {
      "needs_background": "light"
     },
     "output_type": "display_data"
    }
   ],
   "source": [
    "# bar graph for strongest ghost pokemon\n",
    "plt.barh(ghostPokemonFinalList, ghostPokemonFinalTotalList, color='darkviolet')"
   ]
  },
  {
   "cell_type": "code",
   "execution_count": 149,
   "metadata": {},
   "outputs": [],
   "source": [
    "# NOT NEEDED\n",
    "# Array that contains only ice type Pokemon\n",
    "icePokemonList = []\n",
    "tempIcePokemonArr = pokemon['Name']\n",
    "for i in range (0, 666): \n",
    "    if (pokemon.iloc[i, 1] != 'Ice'):\n",
    "        if(pokemon.iloc[i, 2] != 'Ice'):\n",
    "#            del tempFirePokemonArr[i]\n",
    "            tempIcePokemonArr.drop(i)\n",
    "        else:\n",
    "            icePokemonList.append(tempIcePokemonArr[i])\n",
    "    elif (pokemon.iloc[i, 1] == 'Ice'):\n",
    "        icePokemonList.append(tempIcePokemonArr[i])"
   ]
  },
  {
   "cell_type": "code",
   "execution_count": 150,
   "metadata": {},
   "outputs": [
    {
     "data": {
      "text/html": [
       "<div>\n",
       "<style scoped>\n",
       "    .dataframe tbody tr th:only-of-type {\n",
       "        vertical-align: middle;\n",
       "    }\n",
       "\n",
       "    .dataframe tbody tr th {\n",
       "        vertical-align: top;\n",
       "    }\n",
       "\n",
       "    .dataframe thead th {\n",
       "        text-align: right;\n",
       "    }\n",
       "</style>\n",
       "<table border=\"1\" class=\"dataframe\">\n",
       "  <thead>\n",
       "    <tr style=\"text-align: right;\">\n",
       "      <th></th>\n",
       "      <th>0</th>\n",
       "    </tr>\n",
       "  </thead>\n",
       "  <tbody>\n",
       "    <tr>\n",
       "      <th>0</th>\n",
       "      <td>Dewgong</td>\n",
       "    </tr>\n",
       "    <tr>\n",
       "      <th>1</th>\n",
       "      <td>Piloswine</td>\n",
       "    </tr>\n",
       "    <tr>\n",
       "      <th>2</th>\n",
       "      <td>Sealeo</td>\n",
       "    </tr>\n",
       "    <tr>\n",
       "      <th>3</th>\n",
       "      <td>Walrein</td>\n",
       "    </tr>\n",
       "    <tr>\n",
       "      <th>4</th>\n",
       "      <td>Avalugg</td>\n",
       "    </tr>\n",
       "  </tbody>\n",
       "</table>\n",
       "</div>"
      ],
      "text/plain": [
       "           0\n",
       "0    Dewgong\n",
       "1  Piloswine\n",
       "2     Sealeo\n",
       "3    Walrein\n",
       "4    Avalugg"
      ]
     },
     "execution_count": 150,
     "metadata": {},
     "output_type": "execute_result"
    }
   ],
   "source": [
    "# NOT NEEDED\n",
    "icePokemon = pd.DataFrame(icePokemonList)\n",
    "icePokemon.head()"
   ]
  },
  {
   "cell_type": "code",
   "execution_count": 151,
   "metadata": {},
   "outputs": [
    {
     "name": "stdout",
     "output_type": "stream",
     "text": [
      "            0\n",
      "0     Dewgong\n",
      "1   Piloswine\n",
      "2      Sealeo\n",
      "3     Walrein\n",
      "4     Avalugg\n",
      "5     Beartic\n",
      "6   Vanillish\n",
      "7      Lapras\n",
      "8     Aurorus\n",
      "9      Snover\n",
      "10   Froslass\n",
      "11    Glaceon\n",
      "12  Mamoswine\n",
      "13  Vanilluxe\n",
      "14     Spheal\n",
      "15       Jynx\n",
      "16  Abomasnow\n",
      "17  Vanillite\n",
      "18   Bergmite\n",
      "19   Cloyster\n",
      "20   Smoochum\n",
      "21     Glalie\n",
      "22    Cubchoo\n",
      "23    Weavile\n",
      "24  Cryogonal\n",
      "25    Sneasel\n",
      "26     Swinub\n",
      "27   Delibird\n",
      "28    Snorunt\n",
      "29     Amaura\n"
     ]
    }
   ],
   "source": [
    "print(icePokemon)"
   ]
  },
  {
   "cell_type": "code",
   "execution_count": 152,
   "metadata": {},
   "outputs": [],
   "source": [
    "# Array that contains only the total stats of ice type Pokemon\n",
    "icePokemonTotalList = []\n",
    "tempPokemonArr = pokemon['Total']\n",
    "for i in range (0, 666): \n",
    "    if (pokemon.iloc[i, 1] != 'Ice'): # type1 is not ice\n",
    "        if(pokemon.iloc[i, 2] != 'Ice'): # type2 is not ice\n",
    "#            del tempPokemonArr[i] # delete entry if it is not a ice type\n",
    "            tempPokemonArr.drop(i)\n",
    "        else:\n",
    "            icePokemonTotalList.append(tempPokemonArr[i]) # add to list if type2 = ice\n",
    "    elif (pokemon.iloc[i, 1] == 'Ice'):\n",
    "        icePokemonTotalList.append(tempPokemonArr[i]) # add to list if type1 = ice"
   ]
  },
  {
   "cell_type": "code",
   "execution_count": 153,
   "metadata": {},
   "outputs": [
    {
     "data": {
      "text/html": [
       "<div>\n",
       "<style scoped>\n",
       "    .dataframe tbody tr th:only-of-type {\n",
       "        vertical-align: middle;\n",
       "    }\n",
       "\n",
       "    .dataframe tbody tr th {\n",
       "        vertical-align: top;\n",
       "    }\n",
       "\n",
       "    .dataframe thead th {\n",
       "        text-align: right;\n",
       "    }\n",
       "</style>\n",
       "<table border=\"1\" class=\"dataframe\">\n",
       "  <thead>\n",
       "    <tr style=\"text-align: right;\">\n",
       "      <th></th>\n",
       "      <th>0</th>\n",
       "    </tr>\n",
       "  </thead>\n",
       "  <tbody>\n",
       "    <tr>\n",
       "      <th>0</th>\n",
       "      <td>475</td>\n",
       "    </tr>\n",
       "    <tr>\n",
       "      <th>1</th>\n",
       "      <td>450</td>\n",
       "    </tr>\n",
       "    <tr>\n",
       "      <th>2</th>\n",
       "      <td>410</td>\n",
       "    </tr>\n",
       "    <tr>\n",
       "      <th>3</th>\n",
       "      <td>530</td>\n",
       "    </tr>\n",
       "    <tr>\n",
       "      <th>4</th>\n",
       "      <td>514</td>\n",
       "    </tr>\n",
       "  </tbody>\n",
       "</table>\n",
       "</div>"
      ],
      "text/plain": [
       "     0\n",
       "0  475\n",
       "1  450\n",
       "2  410\n",
       "3  530\n",
       "4  514"
      ]
     },
     "execution_count": 153,
     "metadata": {},
     "output_type": "execute_result"
    }
   ],
   "source": [
    "icePokemonTotal = pd.DataFrame(icePokemonTotalList)\n",
    "icePokemonTotal.head()"
   ]
  },
  {
   "cell_type": "code",
   "execution_count": 154,
   "metadata": {},
   "outputs": [
    {
     "name": "stdout",
     "output_type": "stream",
     "text": [
      "      0\n",
      "0   475\n",
      "1   450\n",
      "2   410\n",
      "3   530\n",
      "4   514\n",
      "5   485\n",
      "6   395\n",
      "7   535\n",
      "8   521\n",
      "9   334\n",
      "10  480\n",
      "11  525\n",
      "12  530\n",
      "13  535\n",
      "14  290\n",
      "15  455\n",
      "16  494\n",
      "17  305\n",
      "18  304\n",
      "19  525\n",
      "20  305\n",
      "21  480\n",
      "22  305\n",
      "23  510\n",
      "24  485\n",
      "25  430\n",
      "26  250\n",
      "27  330\n",
      "28  300\n",
      "29  362\n"
     ]
    }
   ],
   "source": [
    "print(icePokemonTotal)"
   ]
  },
  {
   "cell_type": "code",
   "execution_count": 155,
   "metadata": {},
   "outputs": [
    {
     "data": {
      "text/plain": [
       "0    535\n",
       "dtype: int64"
      ]
     },
     "execution_count": 155,
     "metadata": {},
     "output_type": "execute_result"
    }
   ],
   "source": [
    "# find the max total stat\n",
    "icePokemonTotal.max()"
   ]
  },
  {
   "cell_type": "code",
   "execution_count": 156,
   "metadata": {},
   "outputs": [
    {
     "name": "stdout",
     "output_type": "stream",
     "text": [
      "Lapras\n",
      "Vanilluxe\n"
     ]
    }
   ],
   "source": [
    "# find pokemon that is a ice type and has the max total stat\n",
    "for i in range (0, 666): \n",
    "    if (pokemon.iloc[i, 1] == 'Ice' or pokemon.iloc[i, 2] == 'Ice'):\n",
    "        if(pokemon.iloc[i, 3] == 535):\n",
    "            print(pokemon.iloc[i, 0])"
   ]
  },
  {
   "cell_type": "code",
   "execution_count": 157,
   "metadata": {},
   "outputs": [
    {
     "data": {
      "text/html": [
       "<div>\n",
       "<style scoped>\n",
       "    .dataframe tbody tr th:only-of-type {\n",
       "        vertical-align: middle;\n",
       "    }\n",
       "\n",
       "    .dataframe tbody tr th {\n",
       "        vertical-align: top;\n",
       "    }\n",
       "\n",
       "    .dataframe thead th {\n",
       "        text-align: right;\n",
       "    }\n",
       "</style>\n",
       "<table border=\"1\" class=\"dataframe\">\n",
       "  <thead>\n",
       "    <tr style=\"text-align: right;\">\n",
       "      <th></th>\n",
       "      <th>0</th>\n",
       "    </tr>\n",
       "  </thead>\n",
       "  <tbody>\n",
       "    <tr>\n",
       "      <th>7</th>\n",
       "      <td>535</td>\n",
       "    </tr>\n",
       "    <tr>\n",
       "      <th>13</th>\n",
       "      <td>535</td>\n",
       "    </tr>\n",
       "    <tr>\n",
       "      <th>3</th>\n",
       "      <td>530</td>\n",
       "    </tr>\n",
       "    <tr>\n",
       "      <th>12</th>\n",
       "      <td>530</td>\n",
       "    </tr>\n",
       "    <tr>\n",
       "      <th>11</th>\n",
       "      <td>525</td>\n",
       "    </tr>\n",
       "    <tr>\n",
       "      <th>19</th>\n",
       "      <td>525</td>\n",
       "    </tr>\n",
       "    <tr>\n",
       "      <th>8</th>\n",
       "      <td>521</td>\n",
       "    </tr>\n",
       "    <tr>\n",
       "      <th>4</th>\n",
       "      <td>514</td>\n",
       "    </tr>\n",
       "    <tr>\n",
       "      <th>23</th>\n",
       "      <td>510</td>\n",
       "    </tr>\n",
       "    <tr>\n",
       "      <th>16</th>\n",
       "      <td>494</td>\n",
       "    </tr>\n",
       "  </tbody>\n",
       "</table>\n",
       "</div>"
      ],
      "text/plain": [
       "      0\n",
       "7   535\n",
       "13  535\n",
       "3   530\n",
       "12  530\n",
       "11  525\n",
       "19  525\n",
       "8   521\n",
       "4   514\n",
       "23  510\n",
       "16  494"
      ]
     },
     "execution_count": 157,
     "metadata": {},
     "output_type": "execute_result"
    }
   ],
   "source": [
    "# find the top 10 largest stats\n",
    "icePokemonTotal.nlargest(10,0)"
   ]
  },
  {
   "cell_type": "code",
   "execution_count": 158,
   "metadata": {},
   "outputs": [],
   "source": [
    "# Array that contains only the total stats of ice type Pokemon\n",
    "icePokemonFinalTotalList = [535, 535, 530, 530, 525, 525, 521, 514, 510, 494]\n",
    "icePokemonFinalList = [icePokemon.iloc[7, 0], icePokemon.iloc[13, 0], icePokemon.iloc[3, 0],icePokemon.iloc[12, 0], icePokemon.iloc[11, 0], icePokemon.iloc[19, 0], icePokemon.iloc[8, 0], icePokemon.iloc[4, 0], icePokemon.iloc[23, 0], icePokemon.iloc[16, 0]]"
   ]
  },
  {
   "cell_type": "code",
   "execution_count": 159,
   "metadata": {},
   "outputs": [
    {
     "data": {
      "text/plain": [
       "<BarContainer object of 10 artists>"
      ]
     },
     "execution_count": 159,
     "metadata": {},
     "output_type": "execute_result"
    },
    {
     "data": {
      "image/png": "[encoded data removed]",
      "text/plain": [
       "<Figure size 432x288 with 1 Axes>"
      ]
     },
     "metadata": {
      "needs_background": "light"
     },
     "output_type": "display_data"
    }
   ],
   "source": [
    "# bar graph for strongest ghost pokemon\n",
    "plt.barh(icePokemonFinalList, icePokemonFinalTotalList, color='cyan')"
   ]
  },
  {
   "cell_type": "code",
   "execution_count": 160,
   "metadata": {},
   "outputs": [],
   "source": [
    "# NOT NEEDED\n",
    "# Array that contains only dragon type Pokemon\n",
    "dragonPokemonList = []\n",
    "tempDragonPokemonArr = pokemon['Name']\n",
    "for i in range (0, 666): \n",
    "    if (pokemon.iloc[i, 1] != 'Dragon'):\n",
    "        if(pokemon.iloc[i, 2] != 'Dragon'):\n",
    "#            del tempFirePokemonArr[i]\n",
    "            tempDragonPokemonArr.drop(i)\n",
    "        else:\n",
    "            dragonPokemonList.append(tempDragonPokemonArr[i])\n",
    "    elif (pokemon.iloc[i, 1] == 'Dragon'):\n",
    "        dragonPokemonList.append(tempDragonPokemonArr[i])"
   ]
  },
  {
   "cell_type": "code",
   "execution_count": 161,
   "metadata": {},
   "outputs": [
    {
     "data": {
      "text/html": [
       "<div>\n",
       "<style scoped>\n",
       "    .dataframe tbody tr th:only-of-type {\n",
       "        vertical-align: middle;\n",
       "    }\n",
       "\n",
       "    .dataframe tbody tr th {\n",
       "        vertical-align: top;\n",
       "    }\n",
       "\n",
       "    .dataframe thead th {\n",
       "        text-align: right;\n",
       "    }\n",
       "</style>\n",
       "<table border=\"1\" class=\"dataframe\">\n",
       "  <thead>\n",
       "    <tr style=\"text-align: right;\">\n",
       "      <th></th>\n",
       "      <th>0</th>\n",
       "    </tr>\n",
       "  </thead>\n",
       "  <tbody>\n",
       "    <tr>\n",
       "      <th>0</th>\n",
       "      <td>Altaria</td>\n",
       "    </tr>\n",
       "    <tr>\n",
       "      <th>1</th>\n",
       "      <td>Bagon</td>\n",
       "    </tr>\n",
       "    <tr>\n",
       "      <th>2</th>\n",
       "      <td>Gabite</td>\n",
       "    </tr>\n",
       "    <tr>\n",
       "      <th>3</th>\n",
       "      <td>Axew</td>\n",
       "    </tr>\n",
       "    <tr>\n",
       "      <th>4</th>\n",
       "      <td>Goodra</td>\n",
       "    </tr>\n",
       "  </tbody>\n",
       "</table>\n",
       "</div>"
      ],
      "text/plain": [
       "         0\n",
       "0  Altaria\n",
       "1    Bagon\n",
       "2   Gabite\n",
       "3     Axew\n",
       "4   Goodra"
      ]
     },
     "execution_count": 161,
     "metadata": {},
     "output_type": "execute_result"
    }
   ],
   "source": [
    "# NOT NEEDED\n",
    "dragonPokemon = pd.DataFrame(dragonPokemonList)\n",
    "dragonPokemon.head()"
   ]
  },
  {
   "cell_type": "code",
   "execution_count": 162,
   "metadata": {},
   "outputs": [
    {
     "name": "stdout",
     "output_type": "stream",
     "text": [
      "            0\n",
      "0     Altaria\n",
      "1       Bagon\n",
      "2      Gabite\n",
      "3        Axew\n",
      "4      Goodra\n",
      "5      Noibat\n",
      "6     Dratini\n",
      "7     Haxorus\n",
      "8    Dragalge\n",
      "9   Tyrantrum\n",
      "10     Flygon\n",
      "11     Tyrunt\n",
      "12    Kingdra\n",
      "13  Salamence\n",
      "14      Deino\n",
      "15    Sliggoo\n",
      "16    Shelgon\n",
      "17    Vibrava\n",
      "18      Goomy\n",
      "19    Noivern\n",
      "20      Gible\n",
      "21  Dragonite\n",
      "22    Fraxure\n",
      "23  Druddigon\n",
      "24   Zweilous\n",
      "25  Hydreigon\n",
      "26  Dragonair\n",
      "27   Garchomp\n"
     ]
    }
   ],
   "source": [
    "print(dragonPokemon)"
   ]
  },
  {
   "cell_type": "code",
   "execution_count": 163,
   "metadata": {},
   "outputs": [],
   "source": [
    "# Array that contains only the total stats of dragon type Pokemon\n",
    "dragonPokemonTotalList = []\n",
    "tempPokemonArr = pokemon['Total']\n",
    "for i in range (0, 666): \n",
    "    if (pokemon.iloc[i, 1] != 'Dragon'): # type1 is not dragon\n",
    "        if(pokemon.iloc[i, 2] != 'Dragon'): # type2 is not dragon\n",
    "#            del tempPokemonArr[i] # delete entry if it is not a dragon type\n",
    "            tempPokemonArr.drop(i)\n",
    "        else:\n",
    "            dragonPokemonTotalList.append(tempPokemonArr[i]) # add to list if type2 = dragon\n",
    "    elif (pokemon.iloc[i, 1] == 'Dragon'):\n",
    "        dragonPokemonTotalList.append(tempPokemonArr[i]) # add to list if type1 = dragon"
   ]
  },
  {
   "cell_type": "code",
   "execution_count": 164,
   "metadata": {},
   "outputs": [
    {
     "data": {
      "text/html": [
       "<div>\n",
       "<style scoped>\n",
       "    .dataframe tbody tr th:only-of-type {\n",
       "        vertical-align: middle;\n",
       "    }\n",
       "\n",
       "    .dataframe tbody tr th {\n",
       "        vertical-align: top;\n",
       "    }\n",
       "\n",
       "    .dataframe thead th {\n",
       "        text-align: right;\n",
       "    }\n",
       "</style>\n",
       "<table border=\"1\" class=\"dataframe\">\n",
       "  <thead>\n",
       "    <tr style=\"text-align: right;\">\n",
       "      <th></th>\n",
       "      <th>0</th>\n",
       "    </tr>\n",
       "  </thead>\n",
       "  <tbody>\n",
       "    <tr>\n",
       "      <th>0</th>\n",
       "      <td>490</td>\n",
       "    </tr>\n",
       "    <tr>\n",
       "      <th>1</th>\n",
       "      <td>300</td>\n",
       "    </tr>\n",
       "    <tr>\n",
       "      <th>2</th>\n",
       "      <td>410</td>\n",
       "    </tr>\n",
       "    <tr>\n",
       "      <th>3</th>\n",
       "      <td>320</td>\n",
       "    </tr>\n",
       "    <tr>\n",
       "      <th>4</th>\n",
       "      <td>600</td>\n",
       "    </tr>\n",
       "  </tbody>\n",
       "</table>\n",
       "</div>"
      ],
      "text/plain": [
       "     0\n",
       "0  490\n",
       "1  300\n",
       "2  410\n",
       "3  320\n",
       "4  600"
      ]
     },
     "execution_count": 164,
     "metadata": {},
     "output_type": "execute_result"
    }
   ],
   "source": [
    "dragonPokemonTotal = pd.DataFrame(dragonPokemonTotalList)\n",
    "dragonPokemonTotal.head()"
   ]
  },
  {
   "cell_type": "code",
   "execution_count": 165,
   "metadata": {},
   "outputs": [
    {
     "name": "stdout",
     "output_type": "stream",
     "text": [
      "      0\n",
      "0   490\n",
      "1   300\n",
      "2   410\n",
      "3   320\n",
      "4   600\n",
      "5   245\n",
      "6   300\n",
      "7   540\n",
      "8   494\n",
      "9   521\n",
      "10  520\n",
      "11  362\n",
      "12  540\n",
      "13  600\n",
      "14  300\n",
      "15  452\n",
      "16  420\n",
      "17  340\n",
      "18  300\n",
      "19  535\n",
      "20  300\n",
      "21  600\n",
      "22  410\n",
      "23  485\n",
      "24  420\n",
      "25  600\n",
      "26  420\n",
      "27  600\n"
     ]
    }
   ],
   "source": [
    "print(dragonPokemonTotal)"
   ]
  },
  {
   "cell_type": "code",
   "execution_count": 166,
   "metadata": {},
   "outputs": [
    {
     "data": {
      "text/plain": [
       "0    600\n",
       "dtype: int64"
      ]
     },
     "execution_count": 166,
     "metadata": {},
     "output_type": "execute_result"
    }
   ],
   "source": [
    "# find the max total stat\n",
    "dragonPokemonTotal.max()"
   ]
  },
  {
   "cell_type": "code",
   "execution_count": 167,
   "metadata": {},
   "outputs": [
    {
     "name": "stdout",
     "output_type": "stream",
     "text": [
      "Goodra\n",
      "Salamence\n",
      "Dragonite\n",
      "Hydreigon\n",
      "Garchomp\n"
     ]
    }
   ],
   "source": [
    "# find pokemon that is a dragon type and has the max total stat\n",
    "for i in range (0, 666): \n",
    "    if (pokemon.iloc[i, 1] == 'Dragon' or pokemon.iloc[i, 2] == 'Dragon'):\n",
    "        if(pokemon.iloc[i, 3] == 600):\n",
    "            print(pokemon.iloc[i, 0])"
   ]
  },
  {
   "cell_type": "code",
   "execution_count": 168,
   "metadata": {},
   "outputs": [
    {
     "data": {
      "text/html": [
       "<div>\n",
       "<style scoped>\n",
       "    .dataframe tbody tr th:only-of-type {\n",
       "        vertical-align: middle;\n",
       "    }\n",
       "\n",
       "    .dataframe tbody tr th {\n",
       "        vertical-align: top;\n",
       "    }\n",
       "\n",
       "    .dataframe thead th {\n",
       "        text-align: right;\n",
       "    }\n",
       "</style>\n",
       "<table border=\"1\" class=\"dataframe\">\n",
       "  <thead>\n",
       "    <tr style=\"text-align: right;\">\n",
       "      <th></th>\n",
       "      <th>0</th>\n",
       "    </tr>\n",
       "  </thead>\n",
       "  <tbody>\n",
       "    <tr>\n",
       "      <th>4</th>\n",
       "      <td>600</td>\n",
       "    </tr>\n",
       "    <tr>\n",
       "      <th>13</th>\n",
       "      <td>600</td>\n",
       "    </tr>\n",
       "    <tr>\n",
       "      <th>21</th>\n",
       "      <td>600</td>\n",
       "    </tr>\n",
       "    <tr>\n",
       "      <th>25</th>\n",
       "      <td>600</td>\n",
       "    </tr>\n",
       "    <tr>\n",
       "      <th>27</th>\n",
       "      <td>600</td>\n",
       "    </tr>\n",
       "    <tr>\n",
       "      <th>7</th>\n",
       "      <td>540</td>\n",
       "    </tr>\n",
       "    <tr>\n",
       "      <th>12</th>\n",
       "      <td>540</td>\n",
       "    </tr>\n",
       "    <tr>\n",
       "      <th>19</th>\n",
       "      <td>535</td>\n",
       "    </tr>\n",
       "    <tr>\n",
       "      <th>9</th>\n",
       "      <td>521</td>\n",
       "    </tr>\n",
       "    <tr>\n",
       "      <th>10</th>\n",
       "      <td>520</td>\n",
       "    </tr>\n",
       "  </tbody>\n",
       "</table>\n",
       "</div>"
      ],
      "text/plain": [
       "      0\n",
       "4   600\n",
       "13  600\n",
       "21  600\n",
       "25  600\n",
       "27  600\n",
       "7   540\n",
       "12  540\n",
       "19  535\n",
       "9   521\n",
       "10  520"
      ]
     },
     "execution_count": 168,
     "metadata": {},
     "output_type": "execute_result"
    }
   ],
   "source": [
    "# find the top 10 largest stats\n",
    "dragonPokemonTotal.nlargest(10,0)"
   ]
  },
  {
   "cell_type": "code",
   "execution_count": 169,
   "metadata": {},
   "outputs": [],
   "source": [
    "# Array that contains only the total stats of dragon type Pokemon\n",
    "dragonPokemonFinalTotalList = [600, 600, 600, 600, 600, 540, 540, 535, 521, 520]\n",
    "dragonPokemonFinalList = [dragonPokemon.iloc[4, 0], dragonPokemon.iloc[13, 0], dragonPokemon.iloc[21, 0],dragonPokemon.iloc[25, 0], dragonPokemon.iloc[27, 0], dragonPokemon.iloc[7, 0], dragonPokemon.iloc[12, 0], dragonPokemon.iloc[19, 0], dragonPokemon.iloc[9, 0], dragonPokemon.iloc[10, 0]]"
   ]
  },
  {
   "cell_type": "code",
   "execution_count": 170,
   "metadata": {
    "scrolled": true
   },
   "outputs": [
    {
     "data": {
      "text/plain": [
       "<BarContainer object of 10 artists>"
      ]
     },
     "execution_count": 170,
     "metadata": {},
     "output_type": "execute_result"
    },
    {
     "data": {
      "image/png": "[encoded data removed]",
      "text/plain": [
       "<Figure size 432x288 with 1 Axes>"
      ]
     },
     "metadata": {
      "needs_background": "light"
     },
     "output_type": "display_data"
    }
   ],
   "source": [
    "# bar graph for strongest dragon pokemon\n",
    "plt.barh(dragonPokemonFinalList, dragonPokemonFinalTotalList, color='mediumblue')"
   ]
  },
  {
   "cell_type": "code",
   "execution_count": 171,
   "metadata": {},
   "outputs": [],
   "source": [
    "# NOT NEEDED\n",
    "# Array that contains only steel type Pokemon\n",
    "steelPokemonList = []\n",
    "tempSteelPokemonArr = pokemon['Name']\n",
    "for i in range (0, 666): \n",
    "    if (pokemon.iloc[i, 1] != 'Steel'):\n",
    "        if(pokemon.iloc[i, 2] != 'Steel'):\n",
    "#            del tempFirePokemonArr[i]\n",
    "            tempSteelPokemonArr.drop(i)\n",
    "        else:\n",
    "            steelPokemonList.append(tempSteelPokemonArr[i])\n",
    "    elif (pokemon.iloc[i, 1] == 'Steel'):\n",
    "        steelPokemonList.append(tempSteelPokemonArr[i])"
   ]
  },
  {
   "cell_type": "code",
   "execution_count": 172,
   "metadata": {},
   "outputs": [
    {
     "data": {
      "text/html": [
       "<div>\n",
       "<style scoped>\n",
       "    .dataframe tbody tr th:only-of-type {\n",
       "        vertical-align: middle;\n",
       "    }\n",
       "\n",
       "    .dataframe tbody tr th {\n",
       "        vertical-align: top;\n",
       "    }\n",
       "\n",
       "    .dataframe thead th {\n",
       "        text-align: right;\n",
       "    }\n",
       "</style>\n",
       "<table border=\"1\" class=\"dataframe\">\n",
       "  <thead>\n",
       "    <tr style=\"text-align: right;\">\n",
       "      <th></th>\n",
       "      <th>0</th>\n",
       "    </tr>\n",
       "  </thead>\n",
       "  <tbody>\n",
       "    <tr>\n",
       "      <th>0</th>\n",
       "      <td>Beldum</td>\n",
       "    </tr>\n",
       "    <tr>\n",
       "      <th>1</th>\n",
       "      <td>Escavalier</td>\n",
       "    </tr>\n",
       "    <tr>\n",
       "      <th>2</th>\n",
       "      <td>Forretress</td>\n",
       "    </tr>\n",
       "    <tr>\n",
       "      <th>3</th>\n",
       "      <td>Empoleon</td>\n",
       "    </tr>\n",
       "    <tr>\n",
       "      <th>4</th>\n",
       "      <td>Honedge</td>\n",
       "    </tr>\n",
       "  </tbody>\n",
       "</table>\n",
       "</div>"
      ],
      "text/plain": [
       "            0\n",
       "0      Beldum\n",
       "1  Escavalier\n",
       "2  Forretress\n",
       "3    Empoleon\n",
       "4     Honedge"
      ]
     },
     "execution_count": 172,
     "metadata": {},
     "output_type": "execute_result"
    }
   ],
   "source": [
    "# NOT NEEDED\n",
    "steelPokemon = pd.DataFrame(steelPokemonList)\n",
    "steelPokemon.head()"
   ]
  },
  {
   "cell_type": "code",
   "execution_count": 173,
   "metadata": {},
   "outputs": [
    {
     "name": "stdout",
     "output_type": "stream",
     "text": [
      "             0\n",
      "0       Beldum\n",
      "1   Escavalier\n",
      "2   Forretress\n",
      "3     Empoleon\n",
      "4      Honedge\n",
      "5    Aegislash\n",
      "6       Aggron\n",
      "7    Bastiodon\n",
      "8      Bronzor\n",
      "9    Excadrill\n",
      "10   Probopass\n",
      "11   Klinklang\n",
      "12      Mawile\n",
      "13       Klang\n",
      "14      Scizor\n",
      "15      Metang\n",
      "16   Metagross\n",
      "17   Ferroseed\n",
      "18  Ferrothorn\n",
      "19     Steelix\n",
      "20     Lucario\n",
      "21       Klink\n",
      "22      Durant\n",
      "23      Lairon\n",
      "24    Bronzong\n",
      "25     Bisharp\n",
      "26      Klefki\n",
      "27    Magneton\n",
      "28        Aron\n",
      "29    Skarmory\n",
      "30    Shieldon\n",
      "31    Pawniard\n",
      "32    Doublade\n",
      "33   Magnemite\n",
      "34   Magnezone\n"
     ]
    }
   ],
   "source": [
    "print(steelPokemon)"
   ]
  },
  {
   "cell_type": "code",
   "execution_count": 174,
   "metadata": {},
   "outputs": [],
   "source": [
    "# Array that contains only the total stats of steel type Pokemon\n",
    "steelPokemonTotalList = []\n",
    "tempPokemonArr = pokemon['Total']\n",
    "for i in range (0, 666): \n",
    "    if (pokemon.iloc[i, 1] != 'Steel'): # type1 is not steel\n",
    "        if(pokemon.iloc[i, 2] != 'Steel'): # type2 is not steel\n",
    "#            del tempPokemonArr[i] # delete entry if it is not a steel type\n",
    "            tempPokemonArr.drop(i)\n",
    "        else:\n",
    "            steelPokemonTotalList.append(tempPokemonArr[i]) # add to list if type2 = steel\n",
    "    elif (pokemon.iloc[i, 1] == 'Steel'):\n",
    "        steelPokemonTotalList.append(tempPokemonArr[i]) # add to list if type1 = steel"
   ]
  },
  {
   "cell_type": "code",
   "execution_count": 175,
   "metadata": {},
   "outputs": [
    {
     "data": {
      "text/html": [
       "<div>\n",
       "<style scoped>\n",
       "    .dataframe tbody tr th:only-of-type {\n",
       "        vertical-align: middle;\n",
       "    }\n",
       "\n",
       "    .dataframe tbody tr th {\n",
       "        vertical-align: top;\n",
       "    }\n",
       "\n",
       "    .dataframe thead th {\n",
       "        text-align: right;\n",
       "    }\n",
       "</style>\n",
       "<table border=\"1\" class=\"dataframe\">\n",
       "  <thead>\n",
       "    <tr style=\"text-align: right;\">\n",
       "      <th></th>\n",
       "      <th>0</th>\n",
       "    </tr>\n",
       "  </thead>\n",
       "  <tbody>\n",
       "    <tr>\n",
       "      <th>0</th>\n",
       "      <td>300</td>\n",
       "    </tr>\n",
       "    <tr>\n",
       "      <th>1</th>\n",
       "      <td>495</td>\n",
       "    </tr>\n",
       "    <tr>\n",
       "      <th>2</th>\n",
       "      <td>465</td>\n",
       "    </tr>\n",
       "    <tr>\n",
       "      <th>3</th>\n",
       "      <td>530</td>\n",
       "    </tr>\n",
       "    <tr>\n",
       "      <th>4</th>\n",
       "      <td>325</td>\n",
       "    </tr>\n",
       "  </tbody>\n",
       "</table>\n",
       "</div>"
      ],
      "text/plain": [
       "     0\n",
       "0  300\n",
       "1  495\n",
       "2  465\n",
       "3  530\n",
       "4  325"
      ]
     },
     "execution_count": 175,
     "metadata": {},
     "output_type": "execute_result"
    }
   ],
   "source": [
    "steelPokemonTotal = pd.DataFrame(steelPokemonTotalList)\n",
    "steelPokemonTotal.head()"
   ]
  },
  {
   "cell_type": "code",
   "execution_count": 176,
   "metadata": {},
   "outputs": [
    {
     "name": "stdout",
     "output_type": "stream",
     "text": [
      "      0\n",
      "0   300\n",
      "1   495\n",
      "2   465\n",
      "3   530\n",
      "4   325\n",
      "5   520\n",
      "6   530\n",
      "7   495\n",
      "8   300\n",
      "9   508\n",
      "10  525\n",
      "11  520\n",
      "12  380\n",
      "13  440\n",
      "14  500\n",
      "15  420\n",
      "16  600\n",
      "17  305\n",
      "18  489\n",
      "19  510\n",
      "20  525\n",
      "21  300\n",
      "22  484\n",
      "23  430\n",
      "24  500\n",
      "25  490\n",
      "26  470\n",
      "27  465\n",
      "28  330\n",
      "29  465\n",
      "30  350\n",
      "31  340\n",
      "32  448\n",
      "33  325\n",
      "34  535\n"
     ]
    }
   ],
   "source": [
    "print(steelPokemonTotal)"
   ]
  },
  {
   "cell_type": "code",
   "execution_count": 178,
   "metadata": {},
   "outputs": [
    {
     "data": {
      "text/plain": [
       "0    600\n",
       "dtype: int64"
      ]
     },
     "execution_count": 178,
     "metadata": {},
     "output_type": "execute_result"
    }
   ],
   "source": [
    "# find the max total stat\n",
    "steelPokemonTotal.max()"
   ]
  },
  {
   "cell_type": "code",
   "execution_count": 179,
   "metadata": {},
   "outputs": [
    {
     "name": "stdout",
     "output_type": "stream",
     "text": [
      "Metagross\n"
     ]
    }
   ],
   "source": [
    "# find pokemon that is a steel type and has the max total stat\n",
    "for i in range (0, 666): \n",
    "    if (pokemon.iloc[i, 1] == 'Steel' or pokemon.iloc[i, 2] == 'Steel'):\n",
    "        if(pokemon.iloc[i, 3] == 600):\n",
    "            print(pokemon.iloc[i, 0])"
   ]
  },
  {
   "cell_type": "code",
   "execution_count": 180,
   "metadata": {},
   "outputs": [
    {
     "data": {
      "text/html": [
       "<div>\n",
       "<style scoped>\n",
       "    .dataframe tbody tr th:only-of-type {\n",
       "        vertical-align: middle;\n",
       "    }\n",
       "\n",
       "    .dataframe tbody tr th {\n",
       "        vertical-align: top;\n",
       "    }\n",
       "\n",
       "    .dataframe thead th {\n",
       "        text-align: right;\n",
       "    }\n",
       "</style>\n",
       "<table border=\"1\" class=\"dataframe\">\n",
       "  <thead>\n",
       "    <tr style=\"text-align: right;\">\n",
       "      <th></th>\n",
       "      <th>0</th>\n",
       "    </tr>\n",
       "  </thead>\n",
       "  <tbody>\n",
       "    <tr>\n",
       "      <th>16</th>\n",
       "      <td>600</td>\n",
       "    </tr>\n",
       "    <tr>\n",
       "      <th>34</th>\n",
       "      <td>535</td>\n",
       "    </tr>\n",
       "    <tr>\n",
       "      <th>3</th>\n",
       "      <td>530</td>\n",
       "    </tr>\n",
       "    <tr>\n",
       "      <th>6</th>\n",
       "      <td>530</td>\n",
       "    </tr>\n",
       "    <tr>\n",
       "      <th>10</th>\n",
       "      <td>525</td>\n",
       "    </tr>\n",
       "    <tr>\n",
       "      <th>20</th>\n",
       "      <td>525</td>\n",
       "    </tr>\n",
       "    <tr>\n",
       "      <th>5</th>\n",
       "      <td>520</td>\n",
       "    </tr>\n",
       "    <tr>\n",
       "      <th>11</th>\n",
       "      <td>520</td>\n",
       "    </tr>\n",
       "    <tr>\n",
       "      <th>19</th>\n",
       "      <td>510</td>\n",
       "    </tr>\n",
       "    <tr>\n",
       "      <th>9</th>\n",
       "      <td>508</td>\n",
       "    </tr>\n",
       "  </tbody>\n",
       "</table>\n",
       "</div>"
      ],
      "text/plain": [
       "      0\n",
       "16  600\n",
       "34  535\n",
       "3   530\n",
       "6   530\n",
       "10  525\n",
       "20  525\n",
       "5   520\n",
       "11  520\n",
       "19  510\n",
       "9   508"
      ]
     },
     "execution_count": 180,
     "metadata": {},
     "output_type": "execute_result"
    }
   ],
   "source": [
    "# find the top 10 largest stats\n",
    "steelPokemonTotal.nlargest(10,0)"
   ]
  },
  {
   "cell_type": "code",
   "execution_count": 183,
   "metadata": {
    "scrolled": true
   },
   "outputs": [],
   "source": [
    "# Array that contains only the total stats of steel type Pokemon\n",
    "steelPokemonFinalTotalList = [600, 535, 530, 530, 525, 525, 520, 520, 510, 508]\n",
    "steelPokemonFinalList = [steelPokemon.iloc[16, 0], steelPokemon.iloc[34, 0], steelPokemon.iloc[3, 0],steelPokemon.iloc[6, 0], steelPokemon.iloc[10, 0], steelPokemon.iloc[20, 0], steelPokemon.iloc[5, 0], steelPokemon.iloc[11, 0], steelPokemon.iloc[19, 0], steelPokemon.iloc[9, 0]]"
   ]
  },
  {
   "cell_type": "code",
   "execution_count": 184,
   "metadata": {},
   "outputs": [
    {
     "data": {
      "text/plain": [
       "<BarContainer object of 10 artists>"
      ]
     },
     "execution_count": 184,
     "metadata": {},
     "output_type": "execute_result"
    },
    {
     "data": {
      "image/png": "[encoded data removed]",
      "text/plain": [
       "<Figure size 432x288 with 1 Axes>"
      ]
     },
     "metadata": {
      "needs_background": "light"
     },
     "output_type": "display_data"
    }
   ],
   "source": [
    "# bar graph for strongest steel pokemon\n",
    "plt.barh(steelPokemonFinalList, steelPokemonFinalTotalList, color='slategrey')"
   ]
  },
  {
   "cell_type": "code",
   "execution_count": 185,
   "metadata": {},
   "outputs": [],
   "source": [
    "# NOT NEEDED\n",
    "# Array that contains only dark type Pokemon\n",
    "darkPokemonList = []\n",
    "tempDarkPokemonArr = pokemon['Name']\n",
    "for i in range (0, 666): \n",
    "    if (pokemon.iloc[i, 1] != 'Dark'):\n",
    "        if(pokemon.iloc[i, 2] != 'Dark'):\n",
    "#            del tempFirePokemonArr[i]\n",
    "            tempDarkPokemonArr.drop(i)\n",
    "        else:\n",
    "            darkPokemonList.append(tempDarkPokemonArr[i])\n",
    "    elif (pokemon.iloc[i, 1] == 'Dark'):\n",
    "        darkPokemonList.append(tempDarkPokemonArr[i])"
   ]
  },
  {
   "cell_type": "code",
   "execution_count": 186,
   "metadata": {},
   "outputs": [
    {
     "data": {
      "text/html": [
       "<div>\n",
       "<style scoped>\n",
       "    .dataframe tbody tr th:only-of-type {\n",
       "        vertical-align: middle;\n",
       "    }\n",
       "\n",
       "    .dataframe tbody tr th {\n",
       "        vertical-align: top;\n",
       "    }\n",
       "\n",
       "    .dataframe thead th {\n",
       "        text-align: right;\n",
       "    }\n",
       "</style>\n",
       "<table border=\"1\" class=\"dataframe\">\n",
       "  <thead>\n",
       "    <tr style=\"text-align: right;\">\n",
       "      <th></th>\n",
       "      <th>0</th>\n",
       "    </tr>\n",
       "  </thead>\n",
       "  <tbody>\n",
       "    <tr>\n",
       "      <th>0</th>\n",
       "      <td>Drapion</td>\n",
       "    </tr>\n",
       "    <tr>\n",
       "      <th>1</th>\n",
       "      <td>Scrafty</td>\n",
       "    </tr>\n",
       "    <tr>\n",
       "      <th>2</th>\n",
       "      <td>Spiritomb</td>\n",
       "    </tr>\n",
       "    <tr>\n",
       "      <th>3</th>\n",
       "      <td>Vullaby</td>\n",
       "    </tr>\n",
       "    <tr>\n",
       "      <th>4</th>\n",
       "      <td>Zorua</td>\n",
       "    </tr>\n",
       "  </tbody>\n",
       "</table>\n",
       "</div>"
      ],
      "text/plain": [
       "           0\n",
       "0    Drapion\n",
       "1    Scrafty\n",
       "2  Spiritomb\n",
       "3    Vullaby\n",
       "4      Zorua"
      ]
     },
     "execution_count": 186,
     "metadata": {},
     "output_type": "execute_result"
    }
   ],
   "source": [
    "# NOT NEEDED\n",
    "darkPokemon = pd.DataFrame(darkPokemonList)\n",
    "darkPokemon.head()"
   ]
  },
  {
   "cell_type": "code",
   "execution_count": 187,
   "metadata": {},
   "outputs": [
    {
     "name": "stdout",
     "output_type": "stream",
     "text": [
      "             0\n",
      "0      Drapion\n",
      "1      Scrafty\n",
      "2    Spiritomb\n",
      "3      Vullaby\n",
      "4        Zorua\n",
      "5    Tyranitar\n",
      "6    Poochyena\n",
      "7     Sharpedo\n",
      "8    Honchkrow\n",
      "9        Inkay\n",
      "10     Nuzleaf\n",
      "11     Sableye\n",
      "12   Crawdaunt\n",
      "13       Deino\n",
      "14    Houndour\n",
      "15    Carvanha\n",
      "16   Mandibuzz\n",
      "17     Malamar\n",
      "18    Houndoom\n",
      "19    Skuntank\n",
      "20    Purrloin\n",
      "21     Zoroark\n",
      "22    Greninja\n",
      "23     Umbreon\n",
      "24     Shiftry\n",
      "25      Stunky\n",
      "26     Murkrow\n",
      "27    Cacturne\n",
      "28     Bisharp\n",
      "29     Pangoro\n",
      "30       Absol\n",
      "31     Sandile\n",
      "32  Krookodile\n",
      "33     Weavile\n",
      "34     Liepard\n",
      "35    Pawniard\n",
      "36    Zweilous\n",
      "37   Hydreigon\n",
      "38     Sneasel\n",
      "39   Mightyena\n",
      "40    Krokorok\n",
      "41     Scraggy\n"
     ]
    }
   ],
   "source": [
    "print(darkPokemon)"
   ]
  },
  {
   "cell_type": "code",
   "execution_count": 188,
   "metadata": {},
   "outputs": [],
   "source": [
    "# Array that contains only the total stats of dark type Pokemon\n",
    "darkPokemonTotalList = []\n",
    "tempPokemonArr = pokemon['Total']\n",
    "for i in range (0, 666): \n",
    "    if (pokemon.iloc[i, 1] != 'Dark'): # type1 is not dark\n",
    "        if(pokemon.iloc[i, 2] != 'Dark'): # type2 is not dark\n",
    "#            del tempPokemonArr[i] # delete entry if it is not a dark type\n",
    "            tempPokemonArr.drop(i)\n",
    "        else:\n",
    "            darkPokemonTotalList.append(tempPokemonArr[i]) # add to list if type2 = dark\n",
    "    elif (pokemon.iloc[i, 1] == 'Dark'):\n",
    "        darkPokemonTotalList.append(tempPokemonArr[i]) # add to list if type1 = dark"
   ]
  },
  {
   "cell_type": "code",
   "execution_count": 189,
   "metadata": {},
   "outputs": [
    {
     "data": {
      "text/html": [
       "<div>\n",
       "<style scoped>\n",
       "    .dataframe tbody tr th:only-of-type {\n",
       "        vertical-align: middle;\n",
       "    }\n",
       "\n",
       "    .dataframe tbody tr th {\n",
       "        vertical-align: top;\n",
       "    }\n",
       "\n",
       "    .dataframe thead th {\n",
       "        text-align: right;\n",
       "    }\n",
       "</style>\n",
       "<table border=\"1\" class=\"dataframe\">\n",
       "  <thead>\n",
       "    <tr style=\"text-align: right;\">\n",
       "      <th></th>\n",
       "      <th>0</th>\n",
       "    </tr>\n",
       "  </thead>\n",
       "  <tbody>\n",
       "    <tr>\n",
       "      <th>0</th>\n",
       "      <td>500</td>\n",
       "    </tr>\n",
       "    <tr>\n",
       "      <th>1</th>\n",
       "      <td>488</td>\n",
       "    </tr>\n",
       "    <tr>\n",
       "      <th>2</th>\n",
       "      <td>485</td>\n",
       "    </tr>\n",
       "    <tr>\n",
       "      <th>3</th>\n",
       "      <td>370</td>\n",
       "    </tr>\n",
       "    <tr>\n",
       "      <th>4</th>\n",
       "      <td>330</td>\n",
       "    </tr>\n",
       "  </tbody>\n",
       "</table>\n",
       "</div>"
      ],
      "text/plain": [
       "     0\n",
       "0  500\n",
       "1  488\n",
       "2  485\n",
       "3  370\n",
       "4  330"
      ]
     },
     "execution_count": 189,
     "metadata": {},
     "output_type": "execute_result"
    }
   ],
   "source": [
    "darkPokemonTotal = pd.DataFrame(darkPokemonTotalList)\n",
    "darkPokemonTotal.head()"
   ]
  },
  {
   "cell_type": "code",
   "execution_count": 190,
   "metadata": {},
   "outputs": [
    {
     "name": "stdout",
     "output_type": "stream",
     "text": [
      "      0\n",
      "0   500\n",
      "1   488\n",
      "2   485\n",
      "3   370\n",
      "4   330\n",
      "5   600\n",
      "6   220\n",
      "7   460\n",
      "8   505\n",
      "9   288\n",
      "10  340\n",
      "11  380\n",
      "12  468\n",
      "13  300\n",
      "14  330\n",
      "15  305\n",
      "16  510\n",
      "17  482\n",
      "18  500\n",
      "19  479\n",
      "20  281\n",
      "21  510\n",
      "22  530\n",
      "23  525\n",
      "24  480\n",
      "25  329\n",
      "26  405\n",
      "27  475\n",
      "28  490\n",
      "29  495\n",
      "30  465\n",
      "31  292\n",
      "32  519\n",
      "33  510\n",
      "34  446\n",
      "35  340\n",
      "36  420\n",
      "37  600\n",
      "38  430\n",
      "39  420\n",
      "40  351\n",
      "41  348\n"
     ]
    }
   ],
   "source": [
    "print(darkPokemonTotal)"
   ]
  },
  {
   "cell_type": "code",
   "execution_count": 191,
   "metadata": {},
   "outputs": [
    {
     "data": {
      "text/plain": [
       "0    600\n",
       "dtype: int64"
      ]
     },
     "execution_count": 191,
     "metadata": {},
     "output_type": "execute_result"
    }
   ],
   "source": [
    "# find the max total stat\n",
    "darkPokemonTotal.max()"
   ]
  },
  {
   "cell_type": "code",
   "execution_count": 192,
   "metadata": {},
   "outputs": [
    {
     "name": "stdout",
     "output_type": "stream",
     "text": [
      "Tyranitar\n",
      "Hydreigon\n"
     ]
    }
   ],
   "source": [
    "# find pokemon that is a dark type and has the max total stat\n",
    "for i in range (0, 666): \n",
    "    if (pokemon.iloc[i, 1] == 'Dark' or pokemon.iloc[i, 2] == 'Dark'):\n",
    "        if(pokemon.iloc[i, 3] == 600):\n",
    "            print(pokemon.iloc[i, 0])"
   ]
  },
  {
   "cell_type": "code",
   "execution_count": 193,
   "metadata": {},
   "outputs": [
    {
     "data": {
      "text/html": [
       "<div>\n",
       "<style scoped>\n",
       "    .dataframe tbody tr th:only-of-type {\n",
       "        vertical-align: middle;\n",
       "    }\n",
       "\n",
       "    .dataframe tbody tr th {\n",
       "        vertical-align: top;\n",
       "    }\n",
       "\n",
       "    .dataframe thead th {\n",
       "        text-align: right;\n",
       "    }\n",
       "</style>\n",
       "<table border=\"1\" class=\"dataframe\">\n",
       "  <thead>\n",
       "    <tr style=\"text-align: right;\">\n",
       "      <th></th>\n",
       "      <th>0</th>\n",
       "    </tr>\n",
       "  </thead>\n",
       "  <tbody>\n",
       "    <tr>\n",
       "      <th>5</th>\n",
       "      <td>600</td>\n",
       "    </tr>\n",
       "    <tr>\n",
       "      <th>37</th>\n",
       "      <td>600</td>\n",
       "    </tr>\n",
       "    <tr>\n",
       "      <th>22</th>\n",
       "      <td>530</td>\n",
       "    </tr>\n",
       "    <tr>\n",
       "      <th>23</th>\n",
       "      <td>525</td>\n",
       "    </tr>\n",
       "    <tr>\n",
       "      <th>32</th>\n",
       "      <td>519</td>\n",
       "    </tr>\n",
       "    <tr>\n",
       "      <th>16</th>\n",
       "      <td>510</td>\n",
       "    </tr>\n",
       "    <tr>\n",
       "      <th>21</th>\n",
       "      <td>510</td>\n",
       "    </tr>\n",
       "    <tr>\n",
       "      <th>33</th>\n",
       "      <td>510</td>\n",
       "    </tr>\n",
       "    <tr>\n",
       "      <th>8</th>\n",
       "      <td>505</td>\n",
       "    </tr>\n",
       "    <tr>\n",
       "      <th>0</th>\n",
       "      <td>500</td>\n",
       "    </tr>\n",
       "  </tbody>\n",
       "</table>\n",
       "</div>"
      ],
      "text/plain": [
       "      0\n",
       "5   600\n",
       "37  600\n",
       "22  530\n",
       "23  525\n",
       "32  519\n",
       "16  510\n",
       "21  510\n",
       "33  510\n",
       "8   505\n",
       "0   500"
      ]
     },
     "execution_count": 193,
     "metadata": {},
     "output_type": "execute_result"
    }
   ],
   "source": [
    "# find the top 10 largest stats\n",
    "darkPokemonTotal.nlargest(10,0)"
   ]
  },
  {
   "cell_type": "code",
   "execution_count": 194,
   "metadata": {},
   "outputs": [],
   "source": [
    "# Array that contains only the total stats of dark type Pokemon\n",
    "darkPokemonFinalTotalList = [600, 600, 530, 525, 519, 510, 510, 510, 505, 500]\n",
    "darkPokemonFinalList = [darkPokemon.iloc[5, 0], darkPokemon.iloc[37, 0], darkPokemon.iloc[22, 0],darkPokemon.iloc[23, 0], darkPokemon.iloc[32, 0], darkPokemon.iloc[16, 0], darkPokemon.iloc[21, 0], darkPokemon.iloc[33, 0], darkPokemon.iloc[8, 0], darkPokemon.iloc[0, 0]]"
   ]
  },
  {
   "cell_type": "code",
   "execution_count": 195,
   "metadata": {},
   "outputs": [
    {
     "data": {
      "text/plain": [
       "<BarContainer object of 10 artists>"
      ]
     },
     "execution_count": 195,
     "metadata": {},
     "output_type": "execute_result"
    },
    {
     "data": {
      "image/png": "[encoded data removed]",
      "text/plain": [
       "<Figure size 432x288 with 1 Axes>"
      ]
     },
     "metadata": {
      "needs_background": "light"
     },
     "output_type": "display_data"
    }
   ],
   "source": [
    "# bar graph for strongest dark pokemon\n",
    "plt.barh(darkPokemonFinalList, darkPokemonFinalTotalList, color='black')"
   ]
  },
  {
   "cell_type": "code",
   "execution_count": 196,
   "metadata": {},
   "outputs": [],
   "source": [
    "# NOT NEEDED\n",
    "# Array that contains only flying type Pokemon\n",
    "flyingPokemonList = []\n",
    "tempFlyingPokemonArr = pokemon['Name']\n",
    "for i in range (0, 666): \n",
    "    if (pokemon.iloc[i, 1] != 'Flying'):\n",
    "        if(pokemon.iloc[i, 2] != 'Flying'):\n",
    "#            del tempFirePokemonArr[i]\n",
    "            tempDarkPokemonArr.drop(i)\n",
    "        else:\n",
    "            flyingPokemonList.append(tempFlyingPokemonArr[i])\n",
    "    elif (pokemon.iloc[i, 1] == 'Flying'):\n",
    "        flyingPokemonList.append(tempFlyingPokemonArr[i])"
   ]
  },
  {
   "cell_type": "code",
   "execution_count": 197,
   "metadata": {},
   "outputs": [
    {
     "data": {
      "text/html": [
       "<div>\n",
       "<style scoped>\n",
       "    .dataframe tbody tr th:only-of-type {\n",
       "        vertical-align: middle;\n",
       "    }\n",
       "\n",
       "    .dataframe tbody tr th {\n",
       "        vertical-align: top;\n",
       "    }\n",
       "\n",
       "    .dataframe thead th {\n",
       "        text-align: right;\n",
       "    }\n",
       "</style>\n",
       "<table border=\"1\" class=\"dataframe\">\n",
       "  <thead>\n",
       "    <tr style=\"text-align: right;\">\n",
       "      <th></th>\n",
       "      <th>0</th>\n",
       "    </tr>\n",
       "  </thead>\n",
       "  <tbody>\n",
       "    <tr>\n",
       "      <th>0</th>\n",
       "      <td>Gligar</td>\n",
       "    </tr>\n",
       "    <tr>\n",
       "      <th>1</th>\n",
       "      <td>Wingull</td>\n",
       "    </tr>\n",
       "    <tr>\n",
       "      <th>2</th>\n",
       "      <td>Altaria</td>\n",
       "    </tr>\n",
       "    <tr>\n",
       "      <th>3</th>\n",
       "      <td>Unfezant</td>\n",
       "    </tr>\n",
       "    <tr>\n",
       "      <th>4</th>\n",
       "      <td>Pidgeotto</td>\n",
       "    </tr>\n",
       "  </tbody>\n",
       "</table>\n",
       "</div>"
      ],
      "text/plain": [
       "           0\n",
       "0     Gligar\n",
       "1    Wingull\n",
       "2    Altaria\n",
       "3   Unfezant\n",
       "4  Pidgeotto"
      ]
     },
     "execution_count": 197,
     "metadata": {},
     "output_type": "execute_result"
    }
   ],
   "source": [
    "# NOT NEEDED\n",
    "flyingPokemon = pd.DataFrame(flyingPokemonList)\n",
    "flyingPokemon.head()"
   ]
  },
  {
   "cell_type": "code",
   "execution_count": 198,
   "metadata": {},
   "outputs": [
    {
     "name": "stdout",
     "output_type": "stream",
     "text": [
      "              0\n",
      "0        Gligar\n",
      "1       Wingull\n",
      "2       Altaria\n",
      "3      Unfezant\n",
      "4     Pidgeotto\n",
      "5        Golbat\n",
      "6      Hoothoot\n",
      "7      Skiploom\n",
      "8      Jumpluff\n",
      "9       Swellow\n",
      "10      Tropius\n",
      "11     Staravia\n",
      "12     Drifblim\n",
      "13      Yanmega\n",
      "14      Vullaby\n",
      "15       Noibat\n",
      "16       Dodrio\n",
      "17        Yanma\n",
      "18       Woobat\n",
      "19       Archen\n",
      "20    Charizard\n",
      "21        Doduo\n",
      "22      Mantine\n",
      "23    Honchkrow\n",
      "24       Swanna\n",
      "25   Butterfree\n",
      "26       Ledyba\n",
      "27       Ledian\n",
      "28      Togetic\n",
      "29      Taillow\n",
      "..          ...\n",
      "50     Pelipper\n",
      "51       Starly\n",
      "52     Archeops\n",
      "53  Fletchinder\n",
      "54      Noivern\n",
      "55      Spearow\n",
      "56   Farfetch'd\n",
      "57      Murkrow\n",
      "58      Ninjask\n",
      "59   Fletchling\n",
      "60     Gyarados\n",
      "61    Dragonite\n",
      "62       Crobat\n",
      "63      Mantyke\n",
      "64     Togekiss\n",
      "65      Swoobat\n",
      "66       Emolga\n",
      "67     Vivillon\n",
      "68      Pidgeot\n",
      "69      Scyther\n",
      "70         Xatu\n",
      "71     Skarmory\n",
      "72       Pidgey\n",
      "73       Fearow\n",
      "74         Natu\n",
      "75     Delibird\n",
      "76    Beautifly\n",
      "77    Staraptor\n",
      "78   Talonflame\n",
      "79     Hawlucha\n",
      "\n",
      "[80 rows x 1 columns]\n"
     ]
    }
   ],
   "source": [
    "print(flyingPokemon)"
   ]
  },
  {
   "cell_type": "code",
   "execution_count": 199,
   "metadata": {},
   "outputs": [],
   "source": [
    "# Array that contains only the total stats of flying type Pokemon\n",
    "flyingPokemonTotalList = []\n",
    "tempPokemonArr = pokemon['Total']\n",
    "for i in range (0, 666): \n",
    "    if (pokemon.iloc[i, 1] != 'Flying'): # type1 is not flying\n",
    "        if(pokemon.iloc[i, 2] != 'Flying'): # type2 is not flying\n",
    "#            del tempPokemonArr[i] # delete entry if it is not a flying type\n",
    "            tempPokemonArr.drop(i)\n",
    "        else:\n",
    "            flyingPokemonTotalList.append(tempPokemonArr[i]) # add to list if type2 = flying\n",
    "    elif (pokemon.iloc[i, 1] == 'Flying'):\n",
    "        flyingPokemonTotalList.append(tempPokemonArr[i]) # add to list if type1 = flying"
   ]
  },
  {
   "cell_type": "code",
   "execution_count": 200,
   "metadata": {},
   "outputs": [
    {
     "data": {
      "text/html": [
       "<div>\n",
       "<style scoped>\n",
       "    .dataframe tbody tr th:only-of-type {\n",
       "        vertical-align: middle;\n",
       "    }\n",
       "\n",
       "    .dataframe tbody tr th {\n",
       "        vertical-align: top;\n",
       "    }\n",
       "\n",
       "    .dataframe thead th {\n",
       "        text-align: right;\n",
       "    }\n",
       "</style>\n",
       "<table border=\"1\" class=\"dataframe\">\n",
       "  <thead>\n",
       "    <tr style=\"text-align: right;\">\n",
       "      <th></th>\n",
       "      <th>0</th>\n",
       "    </tr>\n",
       "  </thead>\n",
       "  <tbody>\n",
       "    <tr>\n",
       "      <th>0</th>\n",
       "      <td>430</td>\n",
       "    </tr>\n",
       "    <tr>\n",
       "      <th>1</th>\n",
       "      <td>270</td>\n",
       "    </tr>\n",
       "    <tr>\n",
       "      <th>2</th>\n",
       "      <td>490</td>\n",
       "    </tr>\n",
       "    <tr>\n",
       "      <th>3</th>\n",
       "      <td>488</td>\n",
       "    </tr>\n",
       "    <tr>\n",
       "      <th>4</th>\n",
       "      <td>349</td>\n",
       "    </tr>\n",
       "  </tbody>\n",
       "</table>\n",
       "</div>"
      ],
      "text/plain": [
       "     0\n",
       "0  430\n",
       "1  270\n",
       "2  490\n",
       "3  488\n",
       "4  349"
      ]
     },
     "execution_count": 200,
     "metadata": {},
     "output_type": "execute_result"
    }
   ],
   "source": [
    "flyingPokemonTotal = pd.DataFrame(flyingPokemonTotalList)\n",
    "flyingPokemonTotal.head()"
   ]
  },
  {
   "cell_type": "code",
   "execution_count": 201,
   "metadata": {},
   "outputs": [
    {
     "name": "stdout",
     "output_type": "stream",
     "text": [
      "      0\n",
      "0   430\n",
      "1   270\n",
      "2   490\n",
      "3   488\n",
      "4   349\n",
      "5   455\n",
      "6   262\n",
      "7   340\n",
      "8   460\n",
      "9   430\n",
      "10  460\n",
      "11  340\n",
      "12  498\n",
      "13  515\n",
      "14  370\n",
      "15  245\n",
      "16  460\n",
      "17  390\n",
      "18  313\n",
      "19  401\n",
      "20  534\n",
      "21  310\n",
      "22  465\n",
      "23  505\n",
      "24  473\n",
      "25  395\n",
      "26  265\n",
      "27  390\n",
      "28  405\n",
      "29  270\n",
      "..  ...\n",
      "50  430\n",
      "51  245\n",
      "52  567\n",
      "53  382\n",
      "54  535\n",
      "55  262\n",
      "56  352\n",
      "57  405\n",
      "58  456\n",
      "59  278\n",
      "60  540\n",
      "61  600\n",
      "62  535\n",
      "63  345\n",
      "64  545\n",
      "65  425\n",
      "66  428\n",
      "67  411\n",
      "68  479\n",
      "69  500\n",
      "70  470\n",
      "71  465\n",
      "72  251\n",
      "73  442\n",
      "74  320\n",
      "75  330\n",
      "76  395\n",
      "77  485\n",
      "78  499\n",
      "79  500\n",
      "\n",
      "[80 rows x 1 columns]\n"
     ]
    }
   ],
   "source": [
    "print(flyingPokemonTotal)"
   ]
  },
  {
   "cell_type": "code",
   "execution_count": 202,
   "metadata": {},
   "outputs": [
    {
     "data": {
      "text/plain": [
       "0    600\n",
       "dtype: int64"
      ]
     },
     "execution_count": 202,
     "metadata": {},
     "output_type": "execute_result"
    }
   ],
   "source": [
    "# find the max total stat\n",
    "flyingPokemonTotal.max()"
   ]
  },
  {
   "cell_type": "code",
   "execution_count": 203,
   "metadata": {},
   "outputs": [
    {
     "name": "stdout",
     "output_type": "stream",
     "text": [
      "Salamence\n",
      "Dragonite\n"
     ]
    }
   ],
   "source": [
    "# find pokemon that is a flying type and has the max total stat\n",
    "for i in range (0, 666): \n",
    "    if (pokemon.iloc[i, 1] == 'Flying' or pokemon.iloc[i, 2] == 'Flying'):\n",
    "        if(pokemon.iloc[i, 3] == 600):\n",
    "            print(pokemon.iloc[i, 0])"
   ]
  },
  {
   "cell_type": "code",
   "execution_count": 204,
   "metadata": {},
   "outputs": [
    {
     "data": {
      "text/html": [
       "<div>\n",
       "<style scoped>\n",
       "    .dataframe tbody tr th:only-of-type {\n",
       "        vertical-align: middle;\n",
       "    }\n",
       "\n",
       "    .dataframe tbody tr th {\n",
       "        vertical-align: top;\n",
       "    }\n",
       "\n",
       "    .dataframe thead th {\n",
       "        text-align: right;\n",
       "    }\n",
       "</style>\n",
       "<table border=\"1\" class=\"dataframe\">\n",
       "  <thead>\n",
       "    <tr style=\"text-align: right;\">\n",
       "      <th></th>\n",
       "      <th>0</th>\n",
       "    </tr>\n",
       "  </thead>\n",
       "  <tbody>\n",
       "    <tr>\n",
       "      <th>31</th>\n",
       "      <td>600</td>\n",
       "    </tr>\n",
       "    <tr>\n",
       "      <th>61</th>\n",
       "      <td>600</td>\n",
       "    </tr>\n",
       "    <tr>\n",
       "      <th>52</th>\n",
       "      <td>567</td>\n",
       "    </tr>\n",
       "    <tr>\n",
       "      <th>64</th>\n",
       "      <td>545</td>\n",
       "    </tr>\n",
       "    <tr>\n",
       "      <th>60</th>\n",
       "      <td>540</td>\n",
       "    </tr>\n",
       "    <tr>\n",
       "      <th>54</th>\n",
       "      <td>535</td>\n",
       "    </tr>\n",
       "    <tr>\n",
       "      <th>62</th>\n",
       "      <td>535</td>\n",
       "    </tr>\n",
       "    <tr>\n",
       "      <th>20</th>\n",
       "      <td>534</td>\n",
       "    </tr>\n",
       "    <tr>\n",
       "      <th>13</th>\n",
       "      <td>515</td>\n",
       "    </tr>\n",
       "    <tr>\n",
       "      <th>42</th>\n",
       "      <td>515</td>\n",
       "    </tr>\n",
       "  </tbody>\n",
       "</table>\n",
       "</div>"
      ],
      "text/plain": [
       "      0\n",
       "31  600\n",
       "61  600\n",
       "52  567\n",
       "64  545\n",
       "60  540\n",
       "54  535\n",
       "62  535\n",
       "20  534\n",
       "13  515\n",
       "42  515"
      ]
     },
     "execution_count": 204,
     "metadata": {},
     "output_type": "execute_result"
    }
   ],
   "source": [
    "# find the top 10 largest stats\n",
    "flyingPokemonTotal.nlargest(10,0)"
   ]
  },
  {
   "cell_type": "code",
   "execution_count": 205,
   "metadata": {},
   "outputs": [],
   "source": [
    "# Array that contains only the total stats of flying type Pokemon\n",
    "flyingPokemonFinalTotalList = [600, 600, 567, 545, 540, 535, 535, 534, 515, 515]\n",
    "flyingPokemonFinalList = [flyingPokemon.iloc[31, 0], flyingPokemon.iloc[61, 0], flyingPokemon.iloc[52, 0],flyingPokemon.iloc[64, 0], flyingPokemon.iloc[60, 0], flyingPokemon.iloc[54, 0], flyingPokemon.iloc[62, 0], flyingPokemon.iloc[20, 0], flyingPokemon.iloc[13, 0], flyingPokemon.iloc[42, 0]]"
   ]
  },
  {
   "cell_type": "code",
   "execution_count": 206,
   "metadata": {},
   "outputs": [
    {
     "data": {
      "text/plain": [
       "<BarContainer object of 10 artists>"
      ]
     },
     "execution_count": 206,
     "metadata": {},
     "output_type": "execute_result"
    },
    {
     "data": {
      "image/png": "[encoded data removed]",
      "text/plain": [
       "<Figure size 432x288 with 1 Axes>"
      ]
     },
     "metadata": {
      "needs_background": "light"
     },
     "output_type": "display_data"
    }
   ],
   "source": [
    "# bar graph for strongest flying pokemon\n",
    "plt.barh(flyingPokemonFinalList, flyingPokemonFinalTotalList, color='lightskyblue')"
   ]
  },
  {
   "cell_type": "code",
   "execution_count": null,
   "metadata": {},
   "outputs": [],
   "source": []
  }
 ],
 "metadata": {
  "kernelspec": {
   "display_name": "Python 3",
   "language": "python",
   "name": "python3"
  },
  "language_info": {
   "codemirror_mode": {
    "name": "ipython",
    "version": 3
   },
   "file_extension": ".py",
   "mimetype": "text/x-python",
   "name": "python",
   "nbconvert_exporter": "python",
   "pygments_lexer": "ipython3",
   "version": "3.7.1"
  }
 },
 "nbformat": 4,
 "nbformat_minor": 2
}
